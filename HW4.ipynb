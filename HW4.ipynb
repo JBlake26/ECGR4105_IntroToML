{
  "nbformat": 4,
  "nbformat_minor": 0,
  "metadata": {
    "colab": {
      "provenance": [],
      "collapsed_sections": [],
      "mount_file_id": "1HCX9Aimo3skINWjg_prjdyqxBv4IPCc-",
      "authorship_tag": "ABX9TyPOXEFmdIY2QZb8ryM76IaF",
      "include_colab_link": true
    },
    "kernelspec": {
      "name": "python3",
      "display_name": "Python 3"
    },
    "language_info": {
      "name": "python"
    }
  },
  "cells": [
    {
      "cell_type": "markdown",
      "metadata": {
        "id": "view-in-github",
        "colab_type": "text"
      },
      "source": [
        "<a href=\"https://colab.research.google.com/github/JBlake26/ECGR4105_IntroToML/blob/main/HW4.ipynb\" target=\"_parent\"><img src=\"https://colab.research.google.com/assets/colab-badge.svg\" alt=\"Open In Colab\"/></a>"
      ]
    },
    {
      "cell_type": "markdown",
      "source": [
        "**Homework 4**\n",
        "\n",
        "In this homework, we will use the cancer dataset. (Note: You can use the built-in function from ML libraries for gradient descent, training, and validation.) Also, sample code for accessing and cleaning up the dataset provided in Canvas. For the evaluation of this homework across all problems, use 80%, 20% split. We will also use US Housing dataset with  80% and 20% split between training and evaluation (test) sets."
      ],
      "metadata": {
        "id": "s5DIrVrHmEbD"
      }
    },
    {
      "cell_type": "code",
      "execution_count": 1,
      "metadata": {
        "id": "b-DP80JwlPnM"
      },
      "outputs": [],
      "source": [
        "#drive.mount('/content/drive/')\n",
        "import pandas as pd\n",
        "import numpy as np\n",
        "import matplotlib.pyplot as plt\n",
        "import seaborn as sns\n",
        "import warnings\n",
        "from sklearn.model_selection import KFold \n",
        "from sklearn.model_selection import cross_val_score\n",
        "from sklearn.model_selection import train_test_split\n",
        "from sklearn.linear_model import LogisticRegression\n",
        "from sklearn.linear_model import LogisticRegression \n",
        "from sklearn import datasets\n",
        "from sklearn import metrics\n",
        "from sklearn import preprocessing\n",
        "from sklearn.metrics import confusion_matrix\n",
        "from sklearn.metrics import classification_report\n",
        "from sklearn.preprocessing import StandardScaler\n",
        "from matplotlib.colors import ListedColormap\n",
        "from sklearn.datasets import load_breast_cancer\n",
        "from sklearn.naive_bayes import GaussianNB\n",
        "from sklearn.decomposition import PCA\n",
        "from sklearn.svm import SVC\n",
        "from sklearn.svm import SVR\n",
        "from sklearn.metrics import r2_score\n",
        "from sklearn.metrics import mean_squared_error, mean_squared_log_error"
      ]
    },
    {
      "cell_type": "markdown",
      "source": [
        "Problem 1\n",
        "\n",
        "Use the cancer dataset to build an SVM classifier to classify the type of cancer (Malignant vs. benign). Use the PCA feature extraction for your training. Perform N number of independent training (N=1, …, K)."
      ],
      "metadata": {
        "id": "dtFamFU6mJhW"
      }
    },
    {
      "cell_type": "code",
      "source": [
        "cancer = load_breast_cancer()\n",
        "cancer_data = cancer.data\n",
        "cancer_data.shape\n",
        "\n",
        "cancerI = pd.DataFrame(cancer_data)\n",
        "cancerI.head()"
      ],
      "metadata": {
        "id": "CMbJcHt2CrDI",
        "colab": {
          "base_uri": "https://localhost:8080/",
          "height": 299
        },
        "outputId": "bbad4048-2a95-4124-d4c9-cf4885c1da6e"
      },
      "execution_count": 2,
      "outputs": [
        {
          "output_type": "execute_result",
          "data": {
            "text/plain": [
              "      0      1       2       3        4        5       6        7       8   \\\n",
              "0  17.99  10.38  122.80  1001.0  0.11840  0.27760  0.3001  0.14710  0.2419   \n",
              "1  20.57  17.77  132.90  1326.0  0.08474  0.07864  0.0869  0.07017  0.1812   \n",
              "2  19.69  21.25  130.00  1203.0  0.10960  0.15990  0.1974  0.12790  0.2069   \n",
              "3  11.42  20.38   77.58   386.1  0.14250  0.28390  0.2414  0.10520  0.2597   \n",
              "4  20.29  14.34  135.10  1297.0  0.10030  0.13280  0.1980  0.10430  0.1809   \n",
              "\n",
              "        9   ...     20     21      22      23      24      25      26      27  \\\n",
              "0  0.07871  ...  25.38  17.33  184.60  2019.0  0.1622  0.6656  0.7119  0.2654   \n",
              "1  0.05667  ...  24.99  23.41  158.80  1956.0  0.1238  0.1866  0.2416  0.1860   \n",
              "2  0.05999  ...  23.57  25.53  152.50  1709.0  0.1444  0.4245  0.4504  0.2430   \n",
              "3  0.09744  ...  14.91  26.50   98.87   567.7  0.2098  0.8663  0.6869  0.2575   \n",
              "4  0.05883  ...  22.54  16.67  152.20  1575.0  0.1374  0.2050  0.4000  0.1625   \n",
              "\n",
              "       28       29  \n",
              "0  0.4601  0.11890  \n",
              "1  0.2750  0.08902  \n",
              "2  0.3613  0.08758  \n",
              "3  0.6638  0.17300  \n",
              "4  0.2364  0.07678  \n",
              "\n",
              "[5 rows x 30 columns]"
            ],
            "text/html": [
              "\n",
              "  <div id=\"df-af99b4bd-f389-4b35-9741-d01b3f39fc67\">\n",
              "    <div class=\"colab-df-container\">\n",
              "      <div>\n",
              "<style scoped>\n",
              "    .dataframe tbody tr th:only-of-type {\n",
              "        vertical-align: middle;\n",
              "    }\n",
              "\n",
              "    .dataframe tbody tr th {\n",
              "        vertical-align: top;\n",
              "    }\n",
              "\n",
              "    .dataframe thead th {\n",
              "        text-align: right;\n",
              "    }\n",
              "</style>\n",
              "<table border=\"1\" class=\"dataframe\">\n",
              "  <thead>\n",
              "    <tr style=\"text-align: right;\">\n",
              "      <th></th>\n",
              "      <th>0</th>\n",
              "      <th>1</th>\n",
              "      <th>2</th>\n",
              "      <th>3</th>\n",
              "      <th>4</th>\n",
              "      <th>5</th>\n",
              "      <th>6</th>\n",
              "      <th>7</th>\n",
              "      <th>8</th>\n",
              "      <th>9</th>\n",
              "      <th>...</th>\n",
              "      <th>20</th>\n",
              "      <th>21</th>\n",
              "      <th>22</th>\n",
              "      <th>23</th>\n",
              "      <th>24</th>\n",
              "      <th>25</th>\n",
              "      <th>26</th>\n",
              "      <th>27</th>\n",
              "      <th>28</th>\n",
              "      <th>29</th>\n",
              "    </tr>\n",
              "  </thead>\n",
              "  <tbody>\n",
              "    <tr>\n",
              "      <th>0</th>\n",
              "      <td>17.99</td>\n",
              "      <td>10.38</td>\n",
              "      <td>122.80</td>\n",
              "      <td>1001.0</td>\n",
              "      <td>0.11840</td>\n",
              "      <td>0.27760</td>\n",
              "      <td>0.3001</td>\n",
              "      <td>0.14710</td>\n",
              "      <td>0.2419</td>\n",
              "      <td>0.07871</td>\n",
              "      <td>...</td>\n",
              "      <td>25.38</td>\n",
              "      <td>17.33</td>\n",
              "      <td>184.60</td>\n",
              "      <td>2019.0</td>\n",
              "      <td>0.1622</td>\n",
              "      <td>0.6656</td>\n",
              "      <td>0.7119</td>\n",
              "      <td>0.2654</td>\n",
              "      <td>0.4601</td>\n",
              "      <td>0.11890</td>\n",
              "    </tr>\n",
              "    <tr>\n",
              "      <th>1</th>\n",
              "      <td>20.57</td>\n",
              "      <td>17.77</td>\n",
              "      <td>132.90</td>\n",
              "      <td>1326.0</td>\n",
              "      <td>0.08474</td>\n",
              "      <td>0.07864</td>\n",
              "      <td>0.0869</td>\n",
              "      <td>0.07017</td>\n",
              "      <td>0.1812</td>\n",
              "      <td>0.05667</td>\n",
              "      <td>...</td>\n",
              "      <td>24.99</td>\n",
              "      <td>23.41</td>\n",
              "      <td>158.80</td>\n",
              "      <td>1956.0</td>\n",
              "      <td>0.1238</td>\n",
              "      <td>0.1866</td>\n",
              "      <td>0.2416</td>\n",
              "      <td>0.1860</td>\n",
              "      <td>0.2750</td>\n",
              "      <td>0.08902</td>\n",
              "    </tr>\n",
              "    <tr>\n",
              "      <th>2</th>\n",
              "      <td>19.69</td>\n",
              "      <td>21.25</td>\n",
              "      <td>130.00</td>\n",
              "      <td>1203.0</td>\n",
              "      <td>0.10960</td>\n",
              "      <td>0.15990</td>\n",
              "      <td>0.1974</td>\n",
              "      <td>0.12790</td>\n",
              "      <td>0.2069</td>\n",
              "      <td>0.05999</td>\n",
              "      <td>...</td>\n",
              "      <td>23.57</td>\n",
              "      <td>25.53</td>\n",
              "      <td>152.50</td>\n",
              "      <td>1709.0</td>\n",
              "      <td>0.1444</td>\n",
              "      <td>0.4245</td>\n",
              "      <td>0.4504</td>\n",
              "      <td>0.2430</td>\n",
              "      <td>0.3613</td>\n",
              "      <td>0.08758</td>\n",
              "    </tr>\n",
              "    <tr>\n",
              "      <th>3</th>\n",
              "      <td>11.42</td>\n",
              "      <td>20.38</td>\n",
              "      <td>77.58</td>\n",
              "      <td>386.1</td>\n",
              "      <td>0.14250</td>\n",
              "      <td>0.28390</td>\n",
              "      <td>0.2414</td>\n",
              "      <td>0.10520</td>\n",
              "      <td>0.2597</td>\n",
              "      <td>0.09744</td>\n",
              "      <td>...</td>\n",
              "      <td>14.91</td>\n",
              "      <td>26.50</td>\n",
              "      <td>98.87</td>\n",
              "      <td>567.7</td>\n",
              "      <td>0.2098</td>\n",
              "      <td>0.8663</td>\n",
              "      <td>0.6869</td>\n",
              "      <td>0.2575</td>\n",
              "      <td>0.6638</td>\n",
              "      <td>0.17300</td>\n",
              "    </tr>\n",
              "    <tr>\n",
              "      <th>4</th>\n",
              "      <td>20.29</td>\n",
              "      <td>14.34</td>\n",
              "      <td>135.10</td>\n",
              "      <td>1297.0</td>\n",
              "      <td>0.10030</td>\n",
              "      <td>0.13280</td>\n",
              "      <td>0.1980</td>\n",
              "      <td>0.10430</td>\n",
              "      <td>0.1809</td>\n",
              "      <td>0.05883</td>\n",
              "      <td>...</td>\n",
              "      <td>22.54</td>\n",
              "      <td>16.67</td>\n",
              "      <td>152.20</td>\n",
              "      <td>1575.0</td>\n",
              "      <td>0.1374</td>\n",
              "      <td>0.2050</td>\n",
              "      <td>0.4000</td>\n",
              "      <td>0.1625</td>\n",
              "      <td>0.2364</td>\n",
              "      <td>0.07678</td>\n",
              "    </tr>\n",
              "  </tbody>\n",
              "</table>\n",
              "<p>5 rows × 30 columns</p>\n",
              "</div>\n",
              "      <button class=\"colab-df-convert\" onclick=\"convertToInteractive('df-af99b4bd-f389-4b35-9741-d01b3f39fc67')\"\n",
              "              title=\"Convert this dataframe to an interactive table.\"\n",
              "              style=\"display:none;\">\n",
              "        \n",
              "  <svg xmlns=\"http://www.w3.org/2000/svg\" height=\"24px\"viewBox=\"0 0 24 24\"\n",
              "       width=\"24px\">\n",
              "    <path d=\"M0 0h24v24H0V0z\" fill=\"none\"/>\n",
              "    <path d=\"M18.56 5.44l.94 2.06.94-2.06 2.06-.94-2.06-.94-.94-2.06-.94 2.06-2.06.94zm-11 1L8.5 8.5l.94-2.06 2.06-.94-2.06-.94L8.5 2.5l-.94 2.06-2.06.94zm10 10l.94 2.06.94-2.06 2.06-.94-2.06-.94-.94-2.06-.94 2.06-2.06.94z\"/><path d=\"M17.41 7.96l-1.37-1.37c-.4-.4-.92-.59-1.43-.59-.52 0-1.04.2-1.43.59L10.3 9.45l-7.72 7.72c-.78.78-.78 2.05 0 2.83L4 21.41c.39.39.9.59 1.41.59.51 0 1.02-.2 1.41-.59l7.78-7.78 2.81-2.81c.8-.78.8-2.07 0-2.86zM5.41 20L4 18.59l7.72-7.72 1.47 1.35L5.41 20z\"/>\n",
              "  </svg>\n",
              "      </button>\n",
              "      \n",
              "  <style>\n",
              "    .colab-df-container {\n",
              "      display:flex;\n",
              "      flex-wrap:wrap;\n",
              "      gap: 12px;\n",
              "    }\n",
              "\n",
              "    .colab-df-convert {\n",
              "      background-color: #E8F0FE;\n",
              "      border: none;\n",
              "      border-radius: 50%;\n",
              "      cursor: pointer;\n",
              "      display: none;\n",
              "      fill: #1967D2;\n",
              "      height: 32px;\n",
              "      padding: 0 0 0 0;\n",
              "      width: 32px;\n",
              "    }\n",
              "\n",
              "    .colab-df-convert:hover {\n",
              "      background-color: #E2EBFA;\n",
              "      box-shadow: 0px 1px 2px rgba(60, 64, 67, 0.3), 0px 1px 3px 1px rgba(60, 64, 67, 0.15);\n",
              "      fill: #174EA6;\n",
              "    }\n",
              "\n",
              "    [theme=dark] .colab-df-convert {\n",
              "      background-color: #3B4455;\n",
              "      fill: #D2E3FC;\n",
              "    }\n",
              "\n",
              "    [theme=dark] .colab-df-convert:hover {\n",
              "      background-color: #434B5C;\n",
              "      box-shadow: 0px 1px 3px 1px rgba(0, 0, 0, 0.15);\n",
              "      filter: drop-shadow(0px 1px 2px rgba(0, 0, 0, 0.3));\n",
              "      fill: #FFFFFF;\n",
              "    }\n",
              "  </style>\n",
              "\n",
              "      <script>\n",
              "        const buttonEl =\n",
              "          document.querySelector('#df-af99b4bd-f389-4b35-9741-d01b3f39fc67 button.colab-df-convert');\n",
              "        buttonEl.style.display =\n",
              "          google.colab.kernel.accessAllowed ? 'block' : 'none';\n",
              "\n",
              "        async function convertToInteractive(key) {\n",
              "          const element = document.querySelector('#df-af99b4bd-f389-4b35-9741-d01b3f39fc67');\n",
              "          const dataTable =\n",
              "            await google.colab.kernel.invokeFunction('convertToInteractive',\n",
              "                                                     [key], {});\n",
              "          if (!dataTable) return;\n",
              "\n",
              "          const docLinkHtml = 'Like what you see? Visit the ' +\n",
              "            '<a target=\"_blank\" href=https://colab.research.google.com/notebooks/data_table.ipynb>data table notebook</a>'\n",
              "            + ' to learn more about interactive tables.';\n",
              "          element.innerHTML = '';\n",
              "          dataTable['output_type'] = 'display_data';\n",
              "          await google.colab.output.renderOutput(dataTable, element);\n",
              "          const docLink = document.createElement('div');\n",
              "          docLink.innerHTML = docLinkHtml;\n",
              "          element.appendChild(docLink);\n",
              "        }\n",
              "      </script>\n",
              "    </div>\n",
              "  </div>\n",
              "  "
            ]
          },
          "metadata": {},
          "execution_count": 2
        }
      ]
    },
    {
      "cell_type": "code",
      "source": [
        "cancerL = cancer.target\n",
        "cancerL.shape\n",
        "\n",
        "L = np.reshape(cancerL,(569,1))\n",
        "cancerD = np.concatenate([cancer_data,L],axis=1)\n",
        "cancerD.shape"
      ],
      "metadata": {
        "colab": {
          "base_uri": "https://localhost:8080/",
          "height": 0
        },
        "id": "ecsDTScLNO8E",
        "outputId": "c6c44f23-512d-4d60-dbdf-d5ed035b37d7"
      },
      "execution_count": 3,
      "outputs": [
        {
          "output_type": "execute_result",
          "data": {
            "text/plain": [
              "(569, 31)"
            ]
          },
          "metadata": {},
          "execution_count": 3
        }
      ]
    },
    {
      "cell_type": "code",
      "source": [
        "cancerDST = pd.DataFrame(cancerD)\n",
        "F = cancer.feature_names\n",
        "F"
      ],
      "metadata": {
        "colab": {
          "base_uri": "https://localhost:8080/",
          "height": 0
        },
        "id": "-AM9XZ--NoEn",
        "outputId": "32f99cbf-d487-4ea2-e547-a0aa1daf67b6"
      },
      "execution_count": 4,
      "outputs": [
        {
          "output_type": "execute_result",
          "data": {
            "text/plain": [
              "array(['mean radius', 'mean texture', 'mean perimeter', 'mean area',\n",
              "       'mean smoothness', 'mean compactness', 'mean concavity',\n",
              "       'mean concave points', 'mean symmetry', 'mean fractal dimension',\n",
              "       'radius error', 'texture error', 'perimeter error', 'area error',\n",
              "       'smoothness error', 'compactness error', 'concavity error',\n",
              "       'concave points error', 'symmetry error',\n",
              "       'fractal dimension error', 'worst radius', 'worst texture',\n",
              "       'worst perimeter', 'worst area', 'worst smoothness',\n",
              "       'worst compactness', 'worst concavity', 'worst concave points',\n",
              "       'worst symmetry', 'worst fractal dimension'], dtype='<U23')"
            ]
          },
          "metadata": {},
          "execution_count": 4
        }
      ]
    },
    {
      "cell_type": "code",
      "source": [
        "LL = np.append(F,'label')\n",
        "cancerDST.columns = LL\n",
        "cancerDST.head()"
      ],
      "metadata": {
        "colab": {
          "base_uri": "https://localhost:8080/",
          "height": 334
        },
        "id": "iFBK_hRULmla",
        "outputId": "64a72fe6-3801-4ea1-8dd9-7e7f63836858"
      },
      "execution_count": 5,
      "outputs": [
        {
          "output_type": "execute_result",
          "data": {
            "text/plain": [
              "   mean radius  mean texture  mean perimeter  mean area  mean smoothness  \\\n",
              "0        17.99         10.38          122.80     1001.0          0.11840   \n",
              "1        20.57         17.77          132.90     1326.0          0.08474   \n",
              "2        19.69         21.25          130.00     1203.0          0.10960   \n",
              "3        11.42         20.38           77.58      386.1          0.14250   \n",
              "4        20.29         14.34          135.10     1297.0          0.10030   \n",
              "\n",
              "   mean compactness  mean concavity  mean concave points  mean symmetry  \\\n",
              "0           0.27760          0.3001              0.14710         0.2419   \n",
              "1           0.07864          0.0869              0.07017         0.1812   \n",
              "2           0.15990          0.1974              0.12790         0.2069   \n",
              "3           0.28390          0.2414              0.10520         0.2597   \n",
              "4           0.13280          0.1980              0.10430         0.1809   \n",
              "\n",
              "   mean fractal dimension  ...  worst texture  worst perimeter  worst area  \\\n",
              "0                 0.07871  ...          17.33           184.60      2019.0   \n",
              "1                 0.05667  ...          23.41           158.80      1956.0   \n",
              "2                 0.05999  ...          25.53           152.50      1709.0   \n",
              "3                 0.09744  ...          26.50            98.87       567.7   \n",
              "4                 0.05883  ...          16.67           152.20      1575.0   \n",
              "\n",
              "   worst smoothness  worst compactness  worst concavity  worst concave points  \\\n",
              "0            0.1622             0.6656           0.7119                0.2654   \n",
              "1            0.1238             0.1866           0.2416                0.1860   \n",
              "2            0.1444             0.4245           0.4504                0.2430   \n",
              "3            0.2098             0.8663           0.6869                0.2575   \n",
              "4            0.1374             0.2050           0.4000                0.1625   \n",
              "\n",
              "   worst symmetry  worst fractal dimension  label  \n",
              "0          0.4601                  0.11890    0.0  \n",
              "1          0.2750                  0.08902    0.0  \n",
              "2          0.3613                  0.08758    0.0  \n",
              "3          0.6638                  0.17300    0.0  \n",
              "4          0.2364                  0.07678    0.0  \n",
              "\n",
              "[5 rows x 31 columns]"
            ],
            "text/html": [
              "\n",
              "  <div id=\"df-dc668060-d3a2-405f-9ba0-fc5363c45751\">\n",
              "    <div class=\"colab-df-container\">\n",
              "      <div>\n",
              "<style scoped>\n",
              "    .dataframe tbody tr th:only-of-type {\n",
              "        vertical-align: middle;\n",
              "    }\n",
              "\n",
              "    .dataframe tbody tr th {\n",
              "        vertical-align: top;\n",
              "    }\n",
              "\n",
              "    .dataframe thead th {\n",
              "        text-align: right;\n",
              "    }\n",
              "</style>\n",
              "<table border=\"1\" class=\"dataframe\">\n",
              "  <thead>\n",
              "    <tr style=\"text-align: right;\">\n",
              "      <th></th>\n",
              "      <th>mean radius</th>\n",
              "      <th>mean texture</th>\n",
              "      <th>mean perimeter</th>\n",
              "      <th>mean area</th>\n",
              "      <th>mean smoothness</th>\n",
              "      <th>mean compactness</th>\n",
              "      <th>mean concavity</th>\n",
              "      <th>mean concave points</th>\n",
              "      <th>mean symmetry</th>\n",
              "      <th>mean fractal dimension</th>\n",
              "      <th>...</th>\n",
              "      <th>worst texture</th>\n",
              "      <th>worst perimeter</th>\n",
              "      <th>worst area</th>\n",
              "      <th>worst smoothness</th>\n",
              "      <th>worst compactness</th>\n",
              "      <th>worst concavity</th>\n",
              "      <th>worst concave points</th>\n",
              "      <th>worst symmetry</th>\n",
              "      <th>worst fractal dimension</th>\n",
              "      <th>label</th>\n",
              "    </tr>\n",
              "  </thead>\n",
              "  <tbody>\n",
              "    <tr>\n",
              "      <th>0</th>\n",
              "      <td>17.99</td>\n",
              "      <td>10.38</td>\n",
              "      <td>122.80</td>\n",
              "      <td>1001.0</td>\n",
              "      <td>0.11840</td>\n",
              "      <td>0.27760</td>\n",
              "      <td>0.3001</td>\n",
              "      <td>0.14710</td>\n",
              "      <td>0.2419</td>\n",
              "      <td>0.07871</td>\n",
              "      <td>...</td>\n",
              "      <td>17.33</td>\n",
              "      <td>184.60</td>\n",
              "      <td>2019.0</td>\n",
              "      <td>0.1622</td>\n",
              "      <td>0.6656</td>\n",
              "      <td>0.7119</td>\n",
              "      <td>0.2654</td>\n",
              "      <td>0.4601</td>\n",
              "      <td>0.11890</td>\n",
              "      <td>0.0</td>\n",
              "    </tr>\n",
              "    <tr>\n",
              "      <th>1</th>\n",
              "      <td>20.57</td>\n",
              "      <td>17.77</td>\n",
              "      <td>132.90</td>\n",
              "      <td>1326.0</td>\n",
              "      <td>0.08474</td>\n",
              "      <td>0.07864</td>\n",
              "      <td>0.0869</td>\n",
              "      <td>0.07017</td>\n",
              "      <td>0.1812</td>\n",
              "      <td>0.05667</td>\n",
              "      <td>...</td>\n",
              "      <td>23.41</td>\n",
              "      <td>158.80</td>\n",
              "      <td>1956.0</td>\n",
              "      <td>0.1238</td>\n",
              "      <td>0.1866</td>\n",
              "      <td>0.2416</td>\n",
              "      <td>0.1860</td>\n",
              "      <td>0.2750</td>\n",
              "      <td>0.08902</td>\n",
              "      <td>0.0</td>\n",
              "    </tr>\n",
              "    <tr>\n",
              "      <th>2</th>\n",
              "      <td>19.69</td>\n",
              "      <td>21.25</td>\n",
              "      <td>130.00</td>\n",
              "      <td>1203.0</td>\n",
              "      <td>0.10960</td>\n",
              "      <td>0.15990</td>\n",
              "      <td>0.1974</td>\n",
              "      <td>0.12790</td>\n",
              "      <td>0.2069</td>\n",
              "      <td>0.05999</td>\n",
              "      <td>...</td>\n",
              "      <td>25.53</td>\n",
              "      <td>152.50</td>\n",
              "      <td>1709.0</td>\n",
              "      <td>0.1444</td>\n",
              "      <td>0.4245</td>\n",
              "      <td>0.4504</td>\n",
              "      <td>0.2430</td>\n",
              "      <td>0.3613</td>\n",
              "      <td>0.08758</td>\n",
              "      <td>0.0</td>\n",
              "    </tr>\n",
              "    <tr>\n",
              "      <th>3</th>\n",
              "      <td>11.42</td>\n",
              "      <td>20.38</td>\n",
              "      <td>77.58</td>\n",
              "      <td>386.1</td>\n",
              "      <td>0.14250</td>\n",
              "      <td>0.28390</td>\n",
              "      <td>0.2414</td>\n",
              "      <td>0.10520</td>\n",
              "      <td>0.2597</td>\n",
              "      <td>0.09744</td>\n",
              "      <td>...</td>\n",
              "      <td>26.50</td>\n",
              "      <td>98.87</td>\n",
              "      <td>567.7</td>\n",
              "      <td>0.2098</td>\n",
              "      <td>0.8663</td>\n",
              "      <td>0.6869</td>\n",
              "      <td>0.2575</td>\n",
              "      <td>0.6638</td>\n",
              "      <td>0.17300</td>\n",
              "      <td>0.0</td>\n",
              "    </tr>\n",
              "    <tr>\n",
              "      <th>4</th>\n",
              "      <td>20.29</td>\n",
              "      <td>14.34</td>\n",
              "      <td>135.10</td>\n",
              "      <td>1297.0</td>\n",
              "      <td>0.10030</td>\n",
              "      <td>0.13280</td>\n",
              "      <td>0.1980</td>\n",
              "      <td>0.10430</td>\n",
              "      <td>0.1809</td>\n",
              "      <td>0.05883</td>\n",
              "      <td>...</td>\n",
              "      <td>16.67</td>\n",
              "      <td>152.20</td>\n",
              "      <td>1575.0</td>\n",
              "      <td>0.1374</td>\n",
              "      <td>0.2050</td>\n",
              "      <td>0.4000</td>\n",
              "      <td>0.1625</td>\n",
              "      <td>0.2364</td>\n",
              "      <td>0.07678</td>\n",
              "      <td>0.0</td>\n",
              "    </tr>\n",
              "  </tbody>\n",
              "</table>\n",
              "<p>5 rows × 31 columns</p>\n",
              "</div>\n",
              "      <button class=\"colab-df-convert\" onclick=\"convertToInteractive('df-dc668060-d3a2-405f-9ba0-fc5363c45751')\"\n",
              "              title=\"Convert this dataframe to an interactive table.\"\n",
              "              style=\"display:none;\">\n",
              "        \n",
              "  <svg xmlns=\"http://www.w3.org/2000/svg\" height=\"24px\"viewBox=\"0 0 24 24\"\n",
              "       width=\"24px\">\n",
              "    <path d=\"M0 0h24v24H0V0z\" fill=\"none\"/>\n",
              "    <path d=\"M18.56 5.44l.94 2.06.94-2.06 2.06-.94-2.06-.94-.94-2.06-.94 2.06-2.06.94zm-11 1L8.5 8.5l.94-2.06 2.06-.94-2.06-.94L8.5 2.5l-.94 2.06-2.06.94zm10 10l.94 2.06.94-2.06 2.06-.94-2.06-.94-.94-2.06-.94 2.06-2.06.94z\"/><path d=\"M17.41 7.96l-1.37-1.37c-.4-.4-.92-.59-1.43-.59-.52 0-1.04.2-1.43.59L10.3 9.45l-7.72 7.72c-.78.78-.78 2.05 0 2.83L4 21.41c.39.39.9.59 1.41.59.51 0 1.02-.2 1.41-.59l7.78-7.78 2.81-2.81c.8-.78.8-2.07 0-2.86zM5.41 20L4 18.59l7.72-7.72 1.47 1.35L5.41 20z\"/>\n",
              "  </svg>\n",
              "      </button>\n",
              "      \n",
              "  <style>\n",
              "    .colab-df-container {\n",
              "      display:flex;\n",
              "      flex-wrap:wrap;\n",
              "      gap: 12px;\n",
              "    }\n",
              "\n",
              "    .colab-df-convert {\n",
              "      background-color: #E8F0FE;\n",
              "      border: none;\n",
              "      border-radius: 50%;\n",
              "      cursor: pointer;\n",
              "      display: none;\n",
              "      fill: #1967D2;\n",
              "      height: 32px;\n",
              "      padding: 0 0 0 0;\n",
              "      width: 32px;\n",
              "    }\n",
              "\n",
              "    .colab-df-convert:hover {\n",
              "      background-color: #E2EBFA;\n",
              "      box-shadow: 0px 1px 2px rgba(60, 64, 67, 0.3), 0px 1px 3px 1px rgba(60, 64, 67, 0.15);\n",
              "      fill: #174EA6;\n",
              "    }\n",
              "\n",
              "    [theme=dark] .colab-df-convert {\n",
              "      background-color: #3B4455;\n",
              "      fill: #D2E3FC;\n",
              "    }\n",
              "\n",
              "    [theme=dark] .colab-df-convert:hover {\n",
              "      background-color: #434B5C;\n",
              "      box-shadow: 0px 1px 3px 1px rgba(0, 0, 0, 0.15);\n",
              "      filter: drop-shadow(0px 1px 2px rgba(0, 0, 0, 0.3));\n",
              "      fill: #FFFFFF;\n",
              "    }\n",
              "  </style>\n",
              "\n",
              "      <script>\n",
              "        const buttonEl =\n",
              "          document.querySelector('#df-dc668060-d3a2-405f-9ba0-fc5363c45751 button.colab-df-convert');\n",
              "        buttonEl.style.display =\n",
              "          google.colab.kernel.accessAllowed ? 'block' : 'none';\n",
              "\n",
              "        async function convertToInteractive(key) {\n",
              "          const element = document.querySelector('#df-dc668060-d3a2-405f-9ba0-fc5363c45751');\n",
              "          const dataTable =\n",
              "            await google.colab.kernel.invokeFunction('convertToInteractive',\n",
              "                                                     [key], {});\n",
              "          if (!dataTable) return;\n",
              "\n",
              "          const docLinkHtml = 'Like what you see? Visit the ' +\n",
              "            '<a target=\"_blank\" href=https://colab.research.google.com/notebooks/data_table.ipynb>data table notebook</a>'\n",
              "            + ' to learn more about interactive tables.';\n",
              "          element.innerHTML = '';\n",
              "          dataTable['output_type'] = 'display_data';\n",
              "          await google.colab.output.renderOutput(dataTable, element);\n",
              "          const docLink = document.createElement('div');\n",
              "          docLink.innerHTML = docLinkHtml;\n",
              "          element.appendChild(docLink);\n",
              "        }\n",
              "      </script>\n",
              "    </div>\n",
              "  </div>\n",
              "  "
            ]
          },
          "metadata": {},
          "execution_count": 5
        }
      ]
    },
    {
      "cell_type": "code",
      "source": [
        "FeatureX = cancerDST.iloc[:,:30].values\n",
        "FeatureY = cancerDST.iloc[:,30].values\n",
        "import random \n",
        "X_train, X_test, Y_train, Y_test = train_test_split(FeatureX, FeatureY, train_size=0.8, test_size=.2, random_state = 3) "
      ],
      "metadata": {
        "id": "xEbivCk5L7s0"
      },
      "execution_count": 6,
      "outputs": []
    },
    {
      "cell_type": "code",
      "source": [
        "# Standardize for overfitting\n",
        "\n",
        "SCX = StandardScaler()\n",
        "X_train = SCX.fit_transform(X_train)\n",
        "X_test = SCX.transform(X_test)"
      ],
      "metadata": {
        "id": "JvPq95GEPFPC"
      },
      "execution_count": 7,
      "outputs": []
    },
    {
      "cell_type": "markdown",
      "source": [
        "Kernel type is chenged here to explore different kernel tricks to capture non-linearities within the data. It must be one of ‘linear’, ‘poly’, ‘rbf’, ‘sigmoid’, ‘precomputed’.\n"
      ],
      "metadata": {
        "id": "x8JssPGPss1U"
      }
    },
    {
      "cell_type": "code",
      "source": [
        "# See above comment for different kernel types\n",
        "\n",
        "classifier = SVC(kernel = 'rbf', class_weight='balanced', C= 1)\n",
        "classifier.fit(X_train,Y_train)"
      ],
      "metadata": {
        "colab": {
          "base_uri": "https://localhost:8080/",
          "height": 0
        },
        "id": "C_Jw9h4TSo8f",
        "outputId": "d2c4e136-82ed-41af-bc7c-de643c61849a"
      },
      "execution_count": 8,
      "outputs": [
        {
          "output_type": "execute_result",
          "data": {
            "text/plain": [
              "SVC(C=1, class_weight='balanced')"
            ]
          },
          "metadata": {},
          "execution_count": 8
        }
      ]
    },
    {
      "cell_type": "code",
      "source": [
        "Y_Pred = classifier.predict(X_test)\n",
        "\n",
        "# Model metrics\n",
        "\n",
        "CM = np.array(confusion_matrix(Y_test,Y_Pred,labels=[1,0]))\n",
        "confusion = pd.DataFrame(CM,index =['Malignant', 'Benign'],columns=['Predicted Malignant','Predicted Benign'])\n",
        "confusion"
      ],
      "metadata": {
        "colab": {
          "base_uri": "https://localhost:8080/",
          "height": 112
        },
        "id": "sWiU6QIJSp2c",
        "outputId": "6cd55fb0-93b7-415e-c34a-03de4003964a"
      },
      "execution_count": 9,
      "outputs": [
        {
          "output_type": "execute_result",
          "data": {
            "text/plain": [
              "           Predicted Malignant  Predicted Benign\n",
              "Malignant                   71                 3\n",
              "Benign                       2                38"
            ],
            "text/html": [
              "\n",
              "  <div id=\"df-05536d5c-55d1-4432-a950-2bf4d31f308e\">\n",
              "    <div class=\"colab-df-container\">\n",
              "      <div>\n",
              "<style scoped>\n",
              "    .dataframe tbody tr th:only-of-type {\n",
              "        vertical-align: middle;\n",
              "    }\n",
              "\n",
              "    .dataframe tbody tr th {\n",
              "        vertical-align: top;\n",
              "    }\n",
              "\n",
              "    .dataframe thead th {\n",
              "        text-align: right;\n",
              "    }\n",
              "</style>\n",
              "<table border=\"1\" class=\"dataframe\">\n",
              "  <thead>\n",
              "    <tr style=\"text-align: right;\">\n",
              "      <th></th>\n",
              "      <th>Predicted Malignant</th>\n",
              "      <th>Predicted Benign</th>\n",
              "    </tr>\n",
              "  </thead>\n",
              "  <tbody>\n",
              "    <tr>\n",
              "      <th>Malignant</th>\n",
              "      <td>71</td>\n",
              "      <td>3</td>\n",
              "    </tr>\n",
              "    <tr>\n",
              "      <th>Benign</th>\n",
              "      <td>2</td>\n",
              "      <td>38</td>\n",
              "    </tr>\n",
              "  </tbody>\n",
              "</table>\n",
              "</div>\n",
              "      <button class=\"colab-df-convert\" onclick=\"convertToInteractive('df-05536d5c-55d1-4432-a950-2bf4d31f308e')\"\n",
              "              title=\"Convert this dataframe to an interactive table.\"\n",
              "              style=\"display:none;\">\n",
              "        \n",
              "  <svg xmlns=\"http://www.w3.org/2000/svg\" height=\"24px\"viewBox=\"0 0 24 24\"\n",
              "       width=\"24px\">\n",
              "    <path d=\"M0 0h24v24H0V0z\" fill=\"none\"/>\n",
              "    <path d=\"M18.56 5.44l.94 2.06.94-2.06 2.06-.94-2.06-.94-.94-2.06-.94 2.06-2.06.94zm-11 1L8.5 8.5l.94-2.06 2.06-.94-2.06-.94L8.5 2.5l-.94 2.06-2.06.94zm10 10l.94 2.06.94-2.06 2.06-.94-2.06-.94-.94-2.06-.94 2.06-2.06.94z\"/><path d=\"M17.41 7.96l-1.37-1.37c-.4-.4-.92-.59-1.43-.59-.52 0-1.04.2-1.43.59L10.3 9.45l-7.72 7.72c-.78.78-.78 2.05 0 2.83L4 21.41c.39.39.9.59 1.41.59.51 0 1.02-.2 1.41-.59l7.78-7.78 2.81-2.81c.8-.78.8-2.07 0-2.86zM5.41 20L4 18.59l7.72-7.72 1.47 1.35L5.41 20z\"/>\n",
              "  </svg>\n",
              "      </button>\n",
              "      \n",
              "  <style>\n",
              "    .colab-df-container {\n",
              "      display:flex;\n",
              "      flex-wrap:wrap;\n",
              "      gap: 12px;\n",
              "    }\n",
              "\n",
              "    .colab-df-convert {\n",
              "      background-color: #E8F0FE;\n",
              "      border: none;\n",
              "      border-radius: 50%;\n",
              "      cursor: pointer;\n",
              "      display: none;\n",
              "      fill: #1967D2;\n",
              "      height: 32px;\n",
              "      padding: 0 0 0 0;\n",
              "      width: 32px;\n",
              "    }\n",
              "\n",
              "    .colab-df-convert:hover {\n",
              "      background-color: #E2EBFA;\n",
              "      box-shadow: 0px 1px 2px rgba(60, 64, 67, 0.3), 0px 1px 3px 1px rgba(60, 64, 67, 0.15);\n",
              "      fill: #174EA6;\n",
              "    }\n",
              "\n",
              "    [theme=dark] .colab-df-convert {\n",
              "      background-color: #3B4455;\n",
              "      fill: #D2E3FC;\n",
              "    }\n",
              "\n",
              "    [theme=dark] .colab-df-convert:hover {\n",
              "      background-color: #434B5C;\n",
              "      box-shadow: 0px 1px 3px 1px rgba(0, 0, 0, 0.15);\n",
              "      filter: drop-shadow(0px 1px 2px rgba(0, 0, 0, 0.3));\n",
              "      fill: #FFFFFF;\n",
              "    }\n",
              "  </style>\n",
              "\n",
              "      <script>\n",
              "        const buttonEl =\n",
              "          document.querySelector('#df-05536d5c-55d1-4432-a950-2bf4d31f308e button.colab-df-convert');\n",
              "        buttonEl.style.display =\n",
              "          google.colab.kernel.accessAllowed ? 'block' : 'none';\n",
              "\n",
              "        async function convertToInteractive(key) {\n",
              "          const element = document.querySelector('#df-05536d5c-55d1-4432-a950-2bf4d31f308e');\n",
              "          const dataTable =\n",
              "            await google.colab.kernel.invokeFunction('convertToInteractive',\n",
              "                                                     [key], {});\n",
              "          if (!dataTable) return;\n",
              "\n",
              "          const docLinkHtml = 'Like what you see? Visit the ' +\n",
              "            '<a target=\"_blank\" href=https://colab.research.google.com/notebooks/data_table.ipynb>data table notebook</a>'\n",
              "            + ' to learn more about interactive tables.';\n",
              "          element.innerHTML = '';\n",
              "          dataTable['output_type'] = 'display_data';\n",
              "          await google.colab.output.renderOutput(dataTable, element);\n",
              "          const docLink = document.createElement('div');\n",
              "          docLink.innerHTML = docLinkHtml;\n",
              "          element.appendChild(docLink);\n",
              "        }\n",
              "      </script>\n",
              "    </div>\n",
              "  </div>\n",
              "  "
            ]
          },
          "metadata": {},
          "execution_count": 9
        }
      ]
    },
    {
      "cell_type": "code",
      "source": [
        "sns.heatmap(confusion,annot=True)"
      ],
      "metadata": {
        "colab": {
          "base_uri": "https://localhost:8080/",
          "height": 284
        },
        "id": "RlmsreaKaoE4",
        "outputId": "988da53c-32fd-489f-81b2-b851a76f1898"
      },
      "execution_count": 10,
      "outputs": [
        {
          "output_type": "execute_result",
          "data": {
            "text/plain": [
              "<matplotlib.axes._subplots.AxesSubplot at 0x7f7fd3f08b10>"
            ]
          },
          "metadata": {},
          "execution_count": 10
        },
        {
          "output_type": "display_data",
          "data": {
            "text/plain": [
              "<Figure size 432x288 with 2 Axes>"
            ],
            "image/png": "[encoded data removed]"
          },
          "metadata": {
            "needs_background": "light"
          }
        }
      ]
    },
    {
      "cell_type": "code",
      "source": [
        "print(classification_report(Y_test,Y_Pred))"
      ],
      "metadata": {
        "colab": {
          "base_uri": "https://localhost:8080/",
          "height": 0
        },
        "id": "vVhV4FnOaulR",
        "outputId": "7ff15dc8-cad8-4a6b-ca9b-284d818f7cec"
      },
      "execution_count": 11,
      "outputs": [
        {
          "output_type": "stream",
          "name": "stdout",
          "text": [
            "              precision    recall  f1-score   support\n",
            "\n",
            "         0.0       0.93      0.95      0.94        40\n",
            "         1.0       0.97      0.96      0.97        74\n",
            "\n",
            "    accuracy                           0.96       114\n",
            "   macro avg       0.95      0.95      0.95       114\n",
            "weighted avg       0.96      0.96      0.96       114\n",
            "\n"
          ]
        }
      ]
    },
    {
      "cell_type": "code",
      "source": [
        "# Model evaluation\n",
        "\n",
        "precision = metrics.precision_score(Y_test, Y_Pred)\n",
        "recall = metrics.recall_score(Y_test, Y_Pred)\n",
        "accuracy = metrics.accuracy_score(Y_test, Y_Pred)\n",
        "average = (accuracy + precision + recall)/3\n",
        "  \n",
        "print(\"Precision:\", precision)\n",
        "print(\"Recall:\",recall)  \n",
        "print(\"Accuracy:\", accuracy)\n",
        "print(\"Average\",average)"
      ],
      "metadata": {
        "colab": {
          "base_uri": "https://localhost:8080/",
          "height": 0
        },
        "id": "yJuj1aiZdF2N",
        "outputId": "e770505a-9c41-4a5a-db4d-0d6d1698b23b"
      },
      "execution_count": 12,
      "outputs": [
        {
          "output_type": "stream",
          "name": "stdout",
          "text": [
            "Precision: 0.9726027397260274\n",
            "Recall: 0.9594594594594594\n",
            "Accuracy: 0.956140350877193\n",
            "Average 0.9627341833542266\n"
          ]
        }
      ]
    },
    {
      "cell_type": "code",
      "source": [
        "# PCA\n",
        "\n",
        "x = cancerDST.loc[:, F].values\n",
        "y = cancerDST.loc[:,['label']].values\n",
        "x = StandardScaler().fit_transform(x)\n",
        "precisionGraph = []\n",
        "recallGraph = []\n",
        "accuracyGraph = []"
      ],
      "metadata": {
        "id": "fR1W402ExPtz"
      },
      "execution_count": 13,
      "outputs": []
    },
    {
      "cell_type": "code",
      "source": [
        "# K values\n",
        "\n",
        "for k in range(1, 31):\n",
        "    pca = PCA(n_components = k)\n",
        "    PComponents = pca.fit_transform(x)\n",
        "    Pdf = pd.DataFrame(data = PComponents, columns = [*range(1,k+1)]) \n",
        "    final_Df = pd.concat([Pdf, cancerDST[['label']]], axis = 1)\n",
        "    outcome = final_Df.pop(\"label\")\n",
        "    x2 = final_Df.values\n",
        "    y2 = outcome.values\n",
        "    X_train, X_test, Y_train, Y_test = train_test_split(x2, y2, train_size=0.8, test_size = 0.2, random_state = 3) \n",
        "\n",
        "    classifier.fit(X_train, Y_train)\n",
        "\n",
        "    # Prediction\n",
        "    Y_pred = classifier.predict(X_test)\n",
        "\n",
        "    # Confusion Matrix\n",
        "    cnf_matrix = confusion_matrix(Y_test, Y_pred)\n",
        "\n",
        "    # Variables\n",
        "    precision = metrics.precision_score(Y_test, Y_pred)\n",
        "    recall = metrics.recall_score(Y_test, Y_pred)\n",
        "    accuracy = metrics.accuracy_score(Y_test, Y_pred)\n",
        "\n",
        "    precisionGraph.append(precision)\n",
        "    recallGraph.append(recall)\n",
        "    accuracyGraph.append(accuracy)\n",
        "\n",
        "    # Average\n",
        "    New_Average = (accuracy + precision + recall)/3\n",
        "    print(New_Average)\n",
        "    index = k\n",
        "    if average < New_Average: \n",
        "        average = New_Average\n",
        "        index = k"
      ],
      "metadata": {
        "colab": {
          "base_uri": "https://localhost:8080/",
          "height": 0
        },
        "id": "u6uizFvbQMew",
        "outputId": "13e36850-91ba-4e0a-ff89-5469f89601e3"
      },
      "execution_count": 14,
      "outputs": [
        {
          "output_type": "stream",
          "name": "stdout",
          "text": [
            "0.9341966710387762\n",
            "0.9328968478211449\n",
            "0.9257151888730837\n",
            "0.9476199698586653\n",
            "0.9551788630735999\n",
            "0.9551788630735999\n",
            "0.9551788630735999\n",
            "0.9551788630735999\n",
            "0.9627341833542266\n",
            "0.9627341833542266\n",
            "0.9627341833542266\n",
            "0.9627341833542266\n",
            "0.9627341833542266\n",
            "0.9627341833542266\n",
            "0.9627341833542266\n",
            "0.9627341833542266\n",
            "0.9627341833542266\n",
            "0.9627341833542266\n",
            "0.9627341833542266\n",
            "0.9627341833542266\n",
            "0.9627341833542266\n",
            "0.9627341833542266\n",
            "0.9627341833542266\n",
            "0.9627341833542266\n",
            "0.9627341833542266\n",
            "0.9627341833542266\n",
            "0.9627341833542266\n",
            "0.9627341833542266\n",
            "0.9627341833542266\n",
            "0.9627341833542266\n"
          ]
        }
      ]
    },
    {
      "cell_type": "code",
      "source": [
        "# Use confusion matrix\n",
        "\n",
        "cnf_matrix = confusion_matrix(Y_test, Y_pred)\n",
        "print(\"Accuracy:\",metrics.accuracy_score(Y_test, Y_pred)) \n",
        "print(\"Precision:\",metrics.precision_score(Y_test, Y_pred)) \n",
        "print(\"Recall:\",metrics.recall_score(Y_test, Y_pred))\n",
        "print(\"Final K value: \", index )"
      ],
      "metadata": {
        "colab": {
          "base_uri": "https://localhost:8080/",
          "height": 0
        },
        "id": "-tO6DpsYds8n",
        "outputId": "0a7c26fd-7b3c-432e-d14b-528751ec8123"
      },
      "execution_count": 15,
      "outputs": [
        {
          "output_type": "stream",
          "name": "stdout",
          "text": [
            "Accuracy: 0.956140350877193\n",
            "Precision: 0.9726027397260274\n",
            "Recall: 0.9594594594594594\n",
            "Final K value:  30\n"
          ]
        }
      ]
    },
    {
      "cell_type": "code",
      "source": [
        "CM = np.array(confusion_matrix(Y_test,Y_Pred,labels=[1,0]))\n",
        "confusion = pd.DataFrame(CM,index =['Malignant', 'Benign'],columns=['Predicted Malignant','Predicted Benign'])\n",
        "confusion"
      ],
      "metadata": {
        "colab": {
          "base_uri": "https://localhost:8080/",
          "height": 112
        },
        "id": "uH7TdK7deIhB",
        "outputId": "c664364e-d611-42cd-b6aa-bd740899a78f"
      },
      "execution_count": 16,
      "outputs": [
        {
          "output_type": "execute_result",
          "data": {
            "text/plain": [
              "           Predicted Malignant  Predicted Benign\n",
              "Malignant                   71                 3\n",
              "Benign                       2                38"
            ],
            "text/html": [
              "\n",
              "  <div id=\"df-8b0e82aa-4fb4-409b-8fe2-63d872ffca58\">\n",
              "    <div class=\"colab-df-container\">\n",
              "      <div>\n",
              "<style scoped>\n",
              "    .dataframe tbody tr th:only-of-type {\n",
              "        vertical-align: middle;\n",
              "    }\n",
              "\n",
              "    .dataframe tbody tr th {\n",
              "        vertical-align: top;\n",
              "    }\n",
              "\n",
              "    .dataframe thead th {\n",
              "        text-align: right;\n",
              "    }\n",
              "</style>\n",
              "<table border=\"1\" class=\"dataframe\">\n",
              "  <thead>\n",
              "    <tr style=\"text-align: right;\">\n",
              "      <th></th>\n",
              "      <th>Predicted Malignant</th>\n",
              "      <th>Predicted Benign</th>\n",
              "    </tr>\n",
              "  </thead>\n",
              "  <tbody>\n",
              "    <tr>\n",
              "      <th>Malignant</th>\n",
              "      <td>71</td>\n",
              "      <td>3</td>\n",
              "    </tr>\n",
              "    <tr>\n",
              "      <th>Benign</th>\n",
              "      <td>2</td>\n",
              "      <td>38</td>\n",
              "    </tr>\n",
              "  </tbody>\n",
              "</table>\n",
              "</div>\n",
              "      <button class=\"colab-df-convert\" onclick=\"convertToInteractive('df-8b0e82aa-4fb4-409b-8fe2-63d872ffca58')\"\n",
              "              title=\"Convert this dataframe to an interactive table.\"\n",
              "              style=\"display:none;\">\n",
              "        \n",
              "  <svg xmlns=\"http://www.w3.org/2000/svg\" height=\"24px\"viewBox=\"0 0 24 24\"\n",
              "       width=\"24px\">\n",
              "    <path d=\"M0 0h24v24H0V0z\" fill=\"none\"/>\n",
              "    <path d=\"M18.56 5.44l.94 2.06.94-2.06 2.06-.94-2.06-.94-.94-2.06-.94 2.06-2.06.94zm-11 1L8.5 8.5l.94-2.06 2.06-.94-2.06-.94L8.5 2.5l-.94 2.06-2.06.94zm10 10l.94 2.06.94-2.06 2.06-.94-2.06-.94-.94-2.06-.94 2.06-2.06.94z\"/><path d=\"M17.41 7.96l-1.37-1.37c-.4-.4-.92-.59-1.43-.59-.52 0-1.04.2-1.43.59L10.3 9.45l-7.72 7.72c-.78.78-.78 2.05 0 2.83L4 21.41c.39.39.9.59 1.41.59.51 0 1.02-.2 1.41-.59l7.78-7.78 2.81-2.81c.8-.78.8-2.07 0-2.86zM5.41 20L4 18.59l7.72-7.72 1.47 1.35L5.41 20z\"/>\n",
              "  </svg>\n",
              "      </button>\n",
              "      \n",
              "  <style>\n",
              "    .colab-df-container {\n",
              "      display:flex;\n",
              "      flex-wrap:wrap;\n",
              "      gap: 12px;\n",
              "    }\n",
              "\n",
              "    .colab-df-convert {\n",
              "      background-color: #E8F0FE;\n",
              "      border: none;\n",
              "      border-radius: 50%;\n",
              "      cursor: pointer;\n",
              "      display: none;\n",
              "      fill: #1967D2;\n",
              "      height: 32px;\n",
              "      padding: 0 0 0 0;\n",
              "      width: 32px;\n",
              "    }\n",
              "\n",
              "    .colab-df-convert:hover {\n",
              "      background-color: #E2EBFA;\n",
              "      box-shadow: 0px 1px 2px rgba(60, 64, 67, 0.3), 0px 1px 3px 1px rgba(60, 64, 67, 0.15);\n",
              "      fill: #174EA6;\n",
              "    }\n",
              "\n",
              "    [theme=dark] .colab-df-convert {\n",
              "      background-color: #3B4455;\n",
              "      fill: #D2E3FC;\n",
              "    }\n",
              "\n",
              "    [theme=dark] .colab-df-convert:hover {\n",
              "      background-color: #434B5C;\n",
              "      box-shadow: 0px 1px 3px 1px rgba(0, 0, 0, 0.15);\n",
              "      filter: drop-shadow(0px 1px 2px rgba(0, 0, 0, 0.3));\n",
              "      fill: #FFFFFF;\n",
              "    }\n",
              "  </style>\n",
              "\n",
              "      <script>\n",
              "        const buttonEl =\n",
              "          document.querySelector('#df-8b0e82aa-4fb4-409b-8fe2-63d872ffca58 button.colab-df-convert');\n",
              "        buttonEl.style.display =\n",
              "          google.colab.kernel.accessAllowed ? 'block' : 'none';\n",
              "\n",
              "        async function convertToInteractive(key) {\n",
              "          const element = document.querySelector('#df-8b0e82aa-4fb4-409b-8fe2-63d872ffca58');\n",
              "          const dataTable =\n",
              "            await google.colab.kernel.invokeFunction('convertToInteractive',\n",
              "                                                     [key], {});\n",
              "          if (!dataTable) return;\n",
              "\n",
              "          const docLinkHtml = 'Like what you see? Visit the ' +\n",
              "            '<a target=\"_blank\" href=https://colab.research.google.com/notebooks/data_table.ipynb>data table notebook</a>'\n",
              "            + ' to learn more about interactive tables.';\n",
              "          element.innerHTML = '';\n",
              "          dataTable['output_type'] = 'display_data';\n",
              "          await google.colab.output.renderOutput(dataTable, element);\n",
              "          const docLink = document.createElement('div');\n",
              "          docLink.innerHTML = docLinkHtml;\n",
              "          element.appendChild(docLink);\n",
              "        }\n",
              "      </script>\n",
              "    </div>\n",
              "  </div>\n",
              "  "
            ]
          },
          "metadata": {},
          "execution_count": 16
        }
      ]
    },
    {
      "cell_type": "code",
      "source": [
        "sns.heatmap(confusion,annot=True)\n",
        "print(classification_report(Y_test,Y_pred))"
      ],
      "metadata": {
        "colab": {
          "base_uri": "https://localhost:8080/",
          "height": 430
        },
        "id": "tiJ3TYqXenYg",
        "outputId": "0d2efc1f-61b7-4790-f233-66545b962c79"
      },
      "execution_count": 17,
      "outputs": [
        {
          "output_type": "stream",
          "name": "stdout",
          "text": [
            "              precision    recall  f1-score   support\n",
            "\n",
            "         0.0       0.93      0.95      0.94        40\n",
            "         1.0       0.97      0.96      0.97        74\n",
            "\n",
            "    accuracy                           0.96       114\n",
            "   macro avg       0.95      0.95      0.95       114\n",
            "weighted avg       0.96      0.96      0.96       114\n",
            "\n"
          ]
        },
        {
          "output_type": "display_data",
          "data": {
            "text/plain": [
              "<Figure size 432x288 with 2 Axes>"
            ],
            "image/png": "[encoded data removed]"
          },
          "metadata": {
            "needs_background": "light"
          }
        }
      ]
    },
    {
      "cell_type": "code",
      "source": [
        "print(classification_report(Y_test,Y_pred))"
      ],
      "metadata": {
        "colab": {
          "base_uri": "https://localhost:8080/",
          "height": 0
        },
        "id": "KznxmY18er1c",
        "outputId": "1c0a8512-e60f-4d9a-b94e-9b4c16a76e59"
      },
      "execution_count": 18,
      "outputs": [
        {
          "output_type": "stream",
          "name": "stdout",
          "text": [
            "              precision    recall  f1-score   support\n",
            "\n",
            "         0.0       0.93      0.95      0.94        40\n",
            "         1.0       0.97      0.96      0.97        74\n",
            "\n",
            "    accuracy                           0.96       114\n",
            "   macro avg       0.95      0.95      0.95       114\n",
            "weighted avg       0.96      0.96      0.96       114\n",
            "\n"
          ]
        }
      ]
    },
    {
      "cell_type": "code",
      "source": [
        "# Graphs\n",
        "plt.plot(accuracyGraph)\n",
        "plt.xlabel('Number of Inputs')\n",
        "plt.ylabel('Accuracy')\n",
        "plt.title('Accuracy vs Inputs')\n",
        "plt.show()\n",
        "\n",
        "plt.plot(precisionGraph)\n",
        "plt.xlabel('Number of Inputs')\n",
        "plt.ylabel('Precision')\n",
        "plt.title('Precision vs Inputs')\n",
        "plt.show()\n",
        "\n",
        "plt.plot(recallGraph)\n",
        "plt.xlabel('Number of Inputs')\n",
        "plt.ylabel('Recall')\n",
        "plt.title('Recall vs Inputs')\n",
        "plt.show()"
      ],
      "metadata": {
        "colab": {
          "base_uri": "https://localhost:8080/",
          "height": 851
        },
        "id": "TWH073twfhsz",
        "outputId": "b1c1b0e5-074d-46a1-f884-8eed21c53146"
      },
      "execution_count": 19,
      "outputs": [
        {
          "output_type": "display_data",
          "data": {
            "text/plain": [
              "<Figure size 432x288 with 1 Axes>"
            ],
            "image/png": "[encoded data removed]"
          },
          "metadata": {
            "needs_background": "light"
          }
        },
        {
          "output_type": "display_data",
          "data": {
            "text/plain": [
              "<Figure size 432x288 with 1 Axes>"
            ],
            "image/png": "[encoded data removed]"
          },
          "metadata": {
            "needs_background": "light"
          }
        },
        {
          "output_type": "display_data",
          "data": {
            "text/plain": [
              "<Figure size 432x288 with 1 Axes>"
            ],
            "image/png": "[encoded data removed]"
          },
          "metadata": {
            "needs_background": "light"
          }
        }
      ]
    },
    {
      "cell_type": "code",
      "source": [
        "pca = PCA(n_components = 12)\n",
        "Pcomponents = pca.fit_transform(x)\n",
        "Pdf = pd.DataFrame(data = Pcomponents, columns = [*range(1,12+1)]) \n",
        "final_Df = pd.concat([Pdf, cancerDST[['label']]], axis = 1)\n",
        "print(final_Df)\n",
        "outcome = final_Df.pop(\"label\")\n",
        "\n",
        "x2 = final_Df.values\n",
        "y2 = outcome.values\n",
        "X_train, X_test, Y_train, Y_test = train_test_split(x2, y2, train_size=0.8, test_size = 0.2, random_state = 3) \n",
        "classifier.fit(X_train, Y_train)\n",
        "\n",
        "Y_pred = classifier.predict(X_test)\n",
        "\n",
        "# Use confusion matrix\n",
        "\n",
        "cnf_matrix = confusion_matrix(Y_test, Y_pred) \n",
        "\n",
        "# Variables\n",
        "\n",
        "accuracy = metrics.accuracy_score(Y_test, Y_pred)\n",
        "precision = metrics.precision_score(Y_test, Y_pred)\n",
        "recall = metrics.recall_score(Y_test, Y_pred)"
      ],
      "metadata": {
        "colab": {
          "base_uri": "https://localhost:8080/",
          "height": 0
        },
        "id": "BEV9OhiMgBjC",
        "outputId": "21063a0a-c7ba-48a3-baef-b9c9c879d88a"
      },
      "execution_count": 20,
      "outputs": [
        {
          "output_type": "stream",
          "name": "stdout",
          "text": [
            "             1          2         3         4         5         6         7  \\\n",
            "0     9.192837   1.948583 -1.123166  3.633731 -1.195110  1.411424  2.159370   \n",
            "1     2.387802  -3.768172 -0.529293  1.118264  0.621775  0.028656  0.013358   \n",
            "2     5.733896  -1.075174 -0.551748  0.912083 -0.177086  0.541452 -0.668167   \n",
            "3     7.122953  10.275589 -3.232790  0.152547 -2.960878  3.053422  1.429911   \n",
            "4     3.935302  -1.948072  1.389767  2.940639  0.546747 -1.226495 -0.936213   \n",
            "..         ...        ...       ...       ...       ...       ...       ...   \n",
            "564   6.439315  -3.576817  2.459487  1.177314 -0.074824 -2.375193 -0.596130   \n",
            "565   3.793382  -3.584048  2.088476 -2.506028 -0.510723 -0.246710 -0.716326   \n",
            "566   1.256179  -1.902297  0.562731 -2.089227  1.809991 -0.534447 -0.192758   \n",
            "567  10.374794   1.672010 -1.877029 -2.356031 -0.033742  0.567936  0.223082   \n",
            "568  -5.475243  -0.670637  1.490443 -2.299157 -0.184703  1.617837  1.698952   \n",
            "\n",
            "            8         9        10        11        12  label  \n",
            "0   -0.398407 -0.157121 -0.877400  0.262966 -0.859001    0.0  \n",
            "1    0.240989 -0.711906  1.106996  0.813123  0.157928    0.0  \n",
            "2    0.097373  0.024069  0.454273 -0.605614  0.124374    0.0  \n",
            "3    1.059565 -1.405435 -1.116979 -1.151531  1.011295    0.0  \n",
            "4    0.636376 -0.263806  0.377705  0.651363 -0.110512    0.0  \n",
            "..        ...       ...       ...       ...       ...    ...  \n",
            "564 -0.035471  0.987933  0.256986 -0.062668  0.123321    0.0  \n",
            "565 -1.113360 -0.105205 -0.108634  0.244792  0.222740    0.0  \n",
            "566  0.341887  0.393917  0.520877 -0.840514  0.096470    0.0  \n",
            "567 -0.280238 -0.542036 -0.089295 -0.178621 -0.697457    0.0  \n",
            "568  1.046354  0.374098 -0.047723 -0.144080 -0.179480    1.0  \n",
            "\n",
            "[569 rows x 13 columns]\n"
          ]
        }
      ]
    },
    {
      "cell_type": "code",
      "source": [
        "print(metrics.classification_report(Y_test, Y_pred))\n",
        "print(metrics.confusion_matrix(Y_test, Y_pred))\n",
        "plt.rcParams[\"figure.figsize\"] = (12,8)"
      ],
      "metadata": {
        "colab": {
          "base_uri": "https://localhost:8080/",
          "height": 0
        },
        "id": "CWYM6DA7xSPw",
        "outputId": "b42f60d6-28b4-416c-a38b-1502871561fb"
      },
      "execution_count": 21,
      "outputs": [
        {
          "output_type": "stream",
          "name": "stdout",
          "text": [
            "              precision    recall  f1-score   support\n",
            "\n",
            "         0.0       0.93      0.95      0.94        40\n",
            "         1.0       0.97      0.96      0.97        74\n",
            "\n",
            "    accuracy                           0.96       114\n",
            "   macro avg       0.95      0.95      0.95       114\n",
            "weighted avg       0.96      0.96      0.96       114\n",
            "\n",
            "[[38  2]\n",
            " [ 3 71]]\n"
          ]
        }
      ]
    },
    {
      "cell_type": "markdown",
      "source": [
        "Problem 2\n",
        "\n",
        "Develop a SVR regression model that predicts housing price based on the following input variables:\n",
        "\n",
        "Area, bedrooms, bathrooms, stories, mainroad, guestroom, basement, hotwaterheating, airconditioning, parking, prefarea"
      ],
      "metadata": {
        "id": "r-ry9fEzmPJJ"
      }
    },
    {
      "cell_type": "code",
      "source": [
        "data_set_file_path ='/content/drive/MyDrive/ECGR 4105 - Intro to Machine Learning/Homework/Housing.csv'\n",
        "csv = pd.read_csv(data_set_file_path)\n",
        "csv.shape"
      ],
      "metadata": {
        "id": "qUEGCzVECtn3",
        "colab": {
          "base_uri": "https://localhost:8080/",
          "height": 0
        },
        "outputId": "46bffbcc-ad16-4afc-c334-d33bc0d98b1e"
      },
      "execution_count": 22,
      "outputs": [
        {
          "output_type": "execute_result",
          "data": {
            "text/plain": [
              "(545, 13)"
            ]
          },
          "metadata": {},
          "execution_count": 22
        }
      ]
    },
    {
      "cell_type": "code",
      "source": [
        "df = pd.DataFrame(csv)\n",
        "df.head"
      ],
      "metadata": {
        "colab": {
          "base_uri": "https://localhost:8080/",
          "height": 0
        },
        "id": "LII7ynaA196P",
        "outputId": "59fb4c34-e5b6-4d75-b01f-1dd3df5ce5c1"
      },
      "execution_count": 23,
      "outputs": [
        {
          "output_type": "execute_result",
          "data": {
            "text/plain": [
              "<bound method NDFrame.head of         price  area  bedrooms  bathrooms  stories mainroad guestroom basement  \\\n",
              "0    13300000  7420         4          2        3      yes        no       no   \n",
              "1    12250000  8960         4          4        4      yes        no       no   \n",
              "2    12250000  9960         3          2        2      yes        no      yes   \n",
              "3    12215000  7500         4          2        2      yes        no      yes   \n",
              "4    11410000  7420         4          1        2      yes       yes      yes   \n",
              "..        ...   ...       ...        ...      ...      ...       ...      ...   \n",
              "540   1820000  3000         2          1        1      yes        no      yes   \n",
              "541   1767150  2400         3          1        1       no        no       no   \n",
              "542   1750000  3620         2          1        1      yes        no       no   \n",
              "543   1750000  2910         3          1        1       no        no       no   \n",
              "544   1750000  3850         3          1        2      yes        no       no   \n",
              "\n",
              "    hotwaterheating airconditioning  parking prefarea furnishingstatus  \n",
              "0                no             yes        2      yes        furnished  \n",
              "1                no             yes        3       no        furnished  \n",
              "2                no              no        2      yes   semi-furnished  \n",
              "3                no             yes        3      yes        furnished  \n",
              "4                no             yes        2       no        furnished  \n",
              "..              ...             ...      ...      ...              ...  \n",
              "540              no              no        2       no      unfurnished  \n",
              "541              no              no        0       no   semi-furnished  \n",
              "542              no              no        0       no      unfurnished  \n",
              "543              no              no        0       no        furnished  \n",
              "544              no              no        0       no      unfurnished  \n",
              "\n",
              "[545 rows x 13 columns]>"
            ]
          },
          "metadata": {},
          "execution_count": 23
        }
      ]
    },
    {
      "cell_type": "code",
      "source": [
        "def useful_category(df):\n",
        "    temp_df = df\n",
        "    columns = df.columns.tolist()\n",
        "    types = df.dtypes\n",
        "    for i in range(len(columns)):\n",
        "\n",
        "        if types[i] == 'object' or types[i] == 'str':\n",
        "            temp_df[columns[i]] = df[columns[i]].astype('category').cat.codes\n",
        "        else: \n",
        "            temp_df[columns[i]] = df[columns[i]]\n",
        "    return temp_df\n",
        "    \n",
        "df = useful_category(df)\n",
        "print(df.head)"
      ],
      "metadata": {
        "colab": {
          "base_uri": "https://localhost:8080/",
          "height": 0
        },
        "id": "kRmc4puX2EOT",
        "outputId": "a9b0b30c-d670-4b92-d349-193018623ef9"
      },
      "execution_count": 24,
      "outputs": [
        {
          "output_type": "stream",
          "name": "stdout",
          "text": [
            "<bound method NDFrame.head of         price  area  bedrooms  bathrooms  stories  mainroad  guestroom  \\\n",
            "0    13300000  7420         4          2        3         1          0   \n",
            "1    12250000  8960         4          4        4         1          0   \n",
            "2    12250000  9960         3          2        2         1          0   \n",
            "3    12215000  7500         4          2        2         1          0   \n",
            "4    11410000  7420         4          1        2         1          1   \n",
            "..        ...   ...       ...        ...      ...       ...        ...   \n",
            "540   1820000  3000         2          1        1         1          0   \n",
            "541   1767150  2400         3          1        1         0          0   \n",
            "542   1750000  3620         2          1        1         1          0   \n",
            "543   1750000  2910         3          1        1         0          0   \n",
            "544   1750000  3850         3          1        2         1          0   \n",
            "\n",
            "     basement  hotwaterheating  airconditioning  parking  prefarea  \\\n",
            "0           0                0                1        2         1   \n",
            "1           0                0                1        3         0   \n",
            "2           1                0                0        2         1   \n",
            "3           1                0                1        3         1   \n",
            "4           1                0                1        2         0   \n",
            "..        ...              ...              ...      ...       ...   \n",
            "540         1                0                0        2         0   \n",
            "541         0                0                0        0         0   \n",
            "542         0                0                0        0         0   \n",
            "543         0                0                0        0         0   \n",
            "544         0                0                0        0         0   \n",
            "\n",
            "     furnishingstatus  \n",
            "0                   0  \n",
            "1                   0  \n",
            "2                   1  \n",
            "3                   0  \n",
            "4                   0  \n",
            "..                ...  \n",
            "540                 2  \n",
            "541                 1  \n",
            "542                 2  \n",
            "543                 0  \n",
            "544                 2  \n",
            "\n",
            "[545 rows x 13 columns]>\n"
          ]
        }
      ]
    },
    {
      "cell_type": "code",
      "source": [
        "# Inputs Outputs\n",
        "col1 = ['area', 'bedrooms', 'bathrooms', 'stories','mainroad','guestroom','basement', 'hotwaterheating','airconditioning','parking','prefarea']\n",
        "In = df[col1]\n",
        "Out = df.loc[:, df.columns == 'price']\n",
        "\n",
        "X_train, X_test, Y_train, Y_test = train_test_split(In, Out, train_size=0.8, test_size=.2, random_state = 3) \n",
        "\n",
        "# Standardize\n",
        "SCX = StandardScaler()\n",
        "X_train = SCX.fit_transform(X_train)\n",
        "X_test = SCX.transform(X_test)\n",
        "SCY = StandardScaler()\n",
        "Y_train = SCY.fit_transform(Y_train)\n",
        "Y_test = SCY.fit_transform(Y_test)"
      ],
      "metadata": {
        "id": "Ut_JbJMmAURq"
      },
      "execution_count": 25,
      "outputs": []
    },
    {
      "cell_type": "markdown",
      "source": [
        "Kernel type for rbf, poly, and linear."
      ],
      "metadata": {
        "id": "MLh5B9EC7VQI"
      }
    },
    {
      "cell_type": "code",
      "source": [
        "#svr_rbf = SVR(kernel='rbf', C=1e3)\n",
        "#svr_poly = SVR(kernel='poly', C=10.0)\n",
        "svr_lin = SVR(kernel='linear', C=10.0)\n",
        "#YRBF = svr_rbf.fit(X_train, Y_train).predict(X_test)\n",
        "#YPOLY = svr_poly.fit(X_train, Y_train).predict(X_test)\n",
        "YLIN = svr_lin.fit(X_train, Y_train).predict(X_test)"
      ],
      "metadata": {
        "colab": {
          "base_uri": "https://localhost:8080/",
          "height": 0
        },
        "id": "Ga4ZebzCHyw1",
        "outputId": "9a1f6764-a545-496b-dd83-47fd8ab0fb18"
      },
      "execution_count": 26,
      "outputs": [
        {
          "output_type": "stream",
          "name": "stderr",
          "text": [
            "/usr/local/lib/python3.7/dist-packages/sklearn/utils/validation.py:993: DataConversionWarning: A column-vector y was passed when a 1d array was expected. Please change the shape of y to (n_samples, ), for example using ravel().\n",
            "  y = column_or_1d(y, warn=True)\n"
          ]
        }
      ]
    },
    {
      "cell_type": "code",
      "source": [
        "# print(YRBF[:10])\n",
        "# print(Y_test[:10])\n",
        "# print('Test R^2: %.3f'%r2_score(Y_test, YRBF))\n",
        "# print('Test R^2: %.3f'%svr_rbf.score(X_test, Y_test))\n",
        "# print('Training R^2: %.3f'%svr_rbf.score(X_train, Y_train))\n",
        "# R2 = svr_rbf.score(X_train,Y_train)\n",
        "# print('Test MSE  : %.3f'%mean_squared_error(Y_test, YRBF))\n",
        "# print('Train MSE : %.3f'%mean_squared_error(Y_train, svr_rbf.predict(X_train)))\n",
        "\n",
        "# print(YPOLY[:10])\n",
        "# print(Y_test[:10])\n",
        "# print('Test R^2: %.3f'%r2_score(Y_test, YPOLY))\n",
        "# print('Test R^2: %.3f'%svr_poly.score(X_test, Y_test))\n",
        "# print('Training R^2: %.3f'%svr_poly.score(X_train, Y_train))\n",
        "# R2 = svr_poly.score(X_train,Y_train)\n",
        "# print('Test MSE  : %.3f'%mean_squared_error(Y_test, YPOLY))\n",
        "# print('Train MSE : %.3f'%mean_squared_error(Y_train, svr_poly.predict(X_train)))\n",
        "\n",
        "print(YLIN[:10])\n",
        "print(Y_test[:10])\n",
        "print('Test R^2: %.3f'%r2_score(Y_test, YLIN))\n",
        "print('Test R^2: %.3f'%svr_lin.score(X_test, Y_test))\n",
        "print('Training R^2: %.3f'%svr_lin.score(X_train, Y_train))\n",
        "R2 = svr_lin.score(X_train,Y_train)\n",
        "print('Test MSE  : %.3f'%mean_squared_error(Y_test, YLIN))\n",
        "print('Train MSE : %.3f'%mean_squared_error(Y_train, svr_lin.predict(X_train)))"
      ],
      "metadata": {
        "colab": {
          "base_uri": "https://localhost:8080/",
          "height": 0
        },
        "id": "Rj4raafFWf4S",
        "outputId": "accaec79-f828-44ad-cac3-046be3692f09"
      },
      "execution_count": 27,
      "outputs": [
        {
          "output_type": "stream",
          "name": "stdout",
          "text": [
            "[-0.0779025  -0.54632203  0.53020581  0.55620947 -0.27926364 -0.24090037\n",
            " -0.1053668   1.59004636 -0.57094602 -0.11267681]\n",
            "[[-0.3442918 ]\n",
            " [ 0.15745911]\n",
            " [ 0.81521661]\n",
            " [ 0.4568231 ]\n",
            " [-1.16648866]\n",
            " [-0.30212785]\n",
            " [-0.3442918 ]\n",
            " [ 1.46875771]\n",
            " [-0.72376727]\n",
            " [ 0.07734762]]\n",
            "Test R^2: 0.608\n",
            "Test R^2: 0.608\n",
            "Training R^2: 0.671\n",
            "Test MSE  : 0.392\n",
            "Train MSE : 0.329\n"
          ]
        }
      ]
    },
    {
      "cell_type": "code",
      "source": [
        "# Seperate\n",
        "In  = df[col1]\n",
        "Out = df.loc[:, df.columns == 'price'] \n",
        "In  = StandardScaler().fit_transform(In) \n",
        "Out = StandardScaler().fit_transform(Out)\n",
        "Out = Out.flatten()\n",
        "Out_Series = pd.Series(Out)\n",
        "\n",
        "#classifier = SVR(kernel = 'rbf', C= 10)\n",
        "#classifier = SVR(kernel = 'poly', C= 10)\n",
        "classifier = SVR(kernel = 'linear', C= 10)\n",
        "\n",
        "r2GraphTrain = []\n",
        "r2GraphPred = []\n",
        "r2GraphTest = []"
      ],
      "metadata": {
        "id": "VG5_c9MiepNK"
      },
      "execution_count": 28,
      "outputs": []
    },
    {
      "cell_type": "code",
      "source": [
        "# K values\n",
        "for k in range(1, 12):\n",
        "    pca = PCA(n_components = k)\n",
        "    components = pca.fit_transform(In)\n",
        "    principal_Df = pd.DataFrame(data = components, columns = [*range(1,k+1)]) \n",
        "    final_df = pd.concat([principal_Df, Out_Series], axis = 1)\n",
        "    \n",
        "    outcome = final_df.pop(1)\n",
        "    \n",
        "    x2 = final_df.values\n",
        "    y2 = outcome.values\n",
        "    X_train, X_test, Y_train, Y_test = train_test_split(x2, y2, train_size=0.8, test_size = 0.2, random_state = 5) \n",
        " \n",
        "    \n",
        "    classifier.fit(X_train, Y_train)\n",
        "    Y_pred = classifier.predict(X_test)\n",
        "\n",
        "    \n",
        "    # Variables\n",
        "\n",
        "    New_R2= classifier.score(X_train, Y_train)\n",
        "    print(New_R2)\n",
        "    R2_Pred = r2_score(Y_test, Y_pred)\n",
        "    R2_Test = classifier.score(X_test, Y_test)\n",
        "\n",
        "    r2GraphTest.append(R2_Test)\n",
        "    r2GraphTrain.append(New_R2)\n",
        "    r2GraphPred.append(R2_Pred)\n",
        "    \n",
        "    # Average\n",
        "\n",
        "    if  R2 < New_R2: \n",
        "        R2 = New_R2\n",
        "        index = k"
      ],
      "metadata": {
        "colab": {
          "base_uri": "https://localhost:8080/",
          "height": 0
        },
        "id": "fK_cLZbek0K0",
        "outputId": "db1fbe25-5a86-4ba0-b609-b35b3eb28b75"
      },
      "execution_count": 29,
      "outputs": [
        {
          "output_type": "stream",
          "name": "stdout",
          "text": [
            "0.6289578313784876\n",
            "0.628180608229099\n",
            "0.6300216286011213\n",
            "0.6326044862300242\n",
            "0.6325795214955834\n",
            "0.6322966708821455\n",
            "0.6391145798899157\n",
            "0.6385656169412103\n",
            "0.6440483852223164\n",
            "0.6444143601130055\n",
            "0.6462658456377166\n"
          ]
        }
      ]
    },
    {
      "cell_type": "code",
      "source": [
        "# Graph Accuracy\n",
        "lw = 2\n",
        "plt.plot(r2GraphTrain, lw = lw, label = \"Train\")\n",
        "plt.plot(r2GraphTest, lw = lw, label = \"Test\")\n",
        "plt.xlabel('K')\n",
        "plt.ylabel('R2')\n",
        "plt.title('R2 vs K')\n",
        "plt.legend()\n",
        "plt.show()\n",
        "plt.plot(r2GraphPred, lw=lw, label = \"Predict\")\n",
        "plt.xlabel('K')\n",
        "plt.ylabel('R2')\n",
        "plt.title('R2 vs K')\n",
        "plt.legend()"
      ],
      "metadata": {
        "colab": {
          "base_uri": "https://localhost:8080/",
          "height": 1000
        },
        "id": "f2CCoEu2prkG",
        "outputId": "82142012-fff7-4c68-a252-e4a297602192"
      },
      "execution_count": 30,
      "outputs": [
        {
          "output_type": "display_data",
          "data": {
            "text/plain": [
              "<Figure size 864x576 with 1 Axes>"
            ],
            "image/png": "[encoded data removed]"
          },
          "metadata": {
            "needs_background": "light"
          }
        },
        {
          "output_type": "execute_result",
          "data": {
            "text/plain": [
              "<matplotlib.legend.Legend at 0x7f7fd0e50cd0>"
            ]
          },
          "metadata": {},
          "execution_count": 30
        },
        {
          "output_type": "display_data",
          "data": {
            "text/plain": [
              "<Figure size 864x576 with 1 Axes>"
            ],
            "image/png": "[encoded data removed]"
          },
          "metadata": {
            "needs_background": "light"
          }
        }
      ]
    }
  ]
}