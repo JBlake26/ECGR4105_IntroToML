{
  "nbformat": 4,
  "nbformat_minor": 0,
  "metadata": {
    "colab": {
      "provenance": [],
      "collapsed_sections": []
    },
    "kernelspec": {
      "name": "python3",
      "display_name": "Python 3"
    },
    "language_info": {
      "name": "python"
    }
  },
  "cells": [
    {
      "cell_type": "code",
      "execution_count": 292,
      "metadata": {
        "id": "z09TlpXzlDZI"
      },
      "outputs": [],
      "source": [
        "import numpy as np\n",
        "import pandas as pd\n",
        "import matplotlib.pyplot as plt"
      ]
    },
    {
      "cell_type": "code",
      "source": [
        "df = pd.read_csv(\"/content/drive/MyDrive/ECGR 4105 -Intro to Machine Learning/Homework/D3.csv\")\n",
        "df.head() # To get first n rows from the dataset default value of n is 5\n",
        "M=len(df)\n",
        "M"
      ],
      "metadata": {
        "colab": {
          "base_uri": "https://localhost:8080/",
          "height": 0
        },
        "id": "r5QbfTt7lK-y",
        "outputId": "8e69fa60-d0e4-4ad1-b621-396a2db815c9"
      },
      "execution_count": 293,
      "outputs": [
        {
          "output_type": "execute_result",
          "data": {
            "text/plain": [
              "100"
            ]
          },
          "metadata": {},
          "execution_count": 293
        }
      ]
    },
    {
      "cell_type": "code",
      "source": [
        "x1 = df.values[:, 0]  #input values from 1st column\n",
        "x2 = df.values[:, 1]  #input values from 2nd column\n",
        "x3 = df.values[:, 2]  #input values from 3rd column\n",
        "y  = df.values[:, 3]   #output values from 4th column\n",
        "m  = len(y) # Number of training examples"
      ],
      "metadata": {
        "id": "jEHvj-VIqGX7"
      },
      "execution_count": 294,
      "outputs": []
    },
    {
      "cell_type": "markdown",
      "source": [
        "x1"
      ],
      "metadata": {
        "id": "1HpZkrqxzLSW"
      }
    },
    {
      "cell_type": "code",
      "source": [
        "X = x1\n",
        "print('X = ', X[: 5]) # Show only first 5 records\n",
        "print('y = ', y[: 5]) # Show only first 5 records\n",
        "print(' ')\n",
        "print('X = ', X[: 100]) # Show 100 records\n",
        "print('y = ', y[: 100]) # Show 100 records\n",
        "print('m = ', m)"
      ],
      "metadata": {
        "colab": {
          "base_uri": "https://localhost:8080/",
          "height": 0
        },
        "id": "ZMVbY2UQqU4z",
        "outputId": "3089f3e7-26c5-4f65-862d-c6194cda0f79"
      },
      "execution_count": 295,
      "outputs": [
        {
          "output_type": "stream",
          "name": "stdout",
          "text": [
            "X =  [0.         0.04040404 0.08080808 0.12121212 0.16161616]\n",
            "y =  [4.38754501 2.6796499  2.96848981 3.25406475 3.53637472]\n",
            " \n",
            "X =  [0.         0.04040404 0.08080808 0.12121212 0.16161616 0.2020202\n",
            " 0.24242424 0.28282828 0.32323232 0.36363636 0.4040404  0.44444444\n",
            " 0.48484848 0.52525252 0.56565657 0.60606061 0.64646465 0.68686869\n",
            " 0.72727273 0.76767677 0.80808081 0.84848485 0.88888889 0.92929293\n",
            " 0.96969697 1.01010101 1.05050505 1.09090909 1.13131313 1.17171717\n",
            " 1.21212121 1.25252525 1.29292929 1.33333333 1.37373737 1.41414141\n",
            " 1.45454546 1.49494949 1.53535354 1.57575758 1.61616162 1.65656566\n",
            " 1.6969697  1.73737374 1.77777778 1.81818182 1.85858586 1.8989899\n",
            " 1.93939394 1.97979798 2.02020202 2.06060606 2.1010101  2.14141414\n",
            " 2.18181818 2.22222222 2.26262626 2.3030303  2.34343434 2.38383838\n",
            " 2.42424242 2.46464646 2.5050505  2.54545455 2.58585859 2.62626263\n",
            " 2.66666667 2.70707071 2.74747475 2.78787879 2.82828283 2.86868687\n",
            " 2.90909091 2.94949495 2.98989899 3.03030303 3.07070707 3.11111111\n",
            " 3.15151515 3.19191919 3.23232323 3.27272727 3.31313131 3.35353535\n",
            " 3.39393939 3.43434343 3.47474748 3.51515151 3.55555556 3.5959596\n",
            " 3.63636364 3.67676768 3.71717172 3.75757576 3.7979798  3.83838384\n",
            " 3.87878788 3.91919192 3.95959596 4.        ]\n",
            "y =  [ 4.38754501  2.6796499   2.96848981  3.25406475  3.53637472  3.81541972\n",
            "  4.09119974  2.36371479  3.83296487  4.09894997  4.3616701   4.62112526\n",
            "  4.87731544  3.13024065  3.37990089  3.62629616  3.86942645  5.30929177\n",
            "  5.54589212  3.77922749  4.00929789  4.23610332  4.45964378  4.67991926\n",
            "  2.89692977  3.1106753   4.52115587  4.72837146  4.93232208  5.13300772\n",
            "  3.33042839  3.52458409  3.71547481  3.90310057  4.08746135  5.46855715\n",
            "  3.64638799  3.82095385  3.99225473  4.16029065  4.32506159  4.48656756\n",
            "  2.64480856  2.79978458  4.15149563  4.29994171  4.44512281  2.58703894\n",
            "  2.7256901   2.86107628  2.99319749  3.12205374  3.247645    2.56997129\n",
            "  2.68903261  2.80482896  2.91736034  3.02662674  3.13262817  1.23536462\n",
            "  1.3348361   1.43104261  2.72398415  2.81366071  2.9000723   0.98321892\n",
            "  1.06310057  1.13971724  1.21306894  1.28315566 -0.65002258  0.6135342\n",
            "  0.673826    0.73085284  0.7846147   0.83511159 -1.1176565  -1.07368956\n",
            " -1.03298759 -0.99555059  0.23862143  0.26952848 -1.70282944 -1.67845234\n",
            " -1.6573402  -1.63949305 -1.62491086 -1.61359365 -3.60554141 -2.40075414\n",
            " -2.39923185 -2.40097453 -2.40598218 -4.4142548  -4.4257924  -4.44059497\n",
            " -4.45866252 -4.47999504 -3.30459253 -5.33245499]\n",
            "m =  100\n"
          ]
        }
      ]
    },
    {
      "cell_type": "code",
      "source": [
        "plt.scatter(X,y, color='red',marker= '+')\n",
        "plt.grid()\n",
        "plt.rcParams[\"figure.figsize\"] = (10,6)\n",
        "plt.xlabel('1st Column Input')\n",
        "plt.ylabel('Output')\n",
        "plt.title('Scatter plot of training data')"
      ],
      "metadata": {
        "colab": {
          "base_uri": "https://localhost:8080/",
          "height": 422
        },
        "id": "UzYuWRT1rLXY",
        "outputId": "6457b300-1d39-41d6-8bb8-8606bfb1a200"
      },
      "execution_count": 296,
      "outputs": [
        {
          "output_type": "execute_result",
          "data": {
            "text/plain": [
              "Text(0.5, 1.0, 'Scatter plot of training data')"
            ]
          },
          "metadata": {},
          "execution_count": 296
        },
        {
          "output_type": "display_data",
          "data": {
            "text/plain": [
              "<Figure size 720x432 with 1 Axes>"
            ],
            "image/png": "[encoded data removed]"
          },
          "metadata": {
            "needs_background": "light"
          }
        }
      ]
    },
    {
      "cell_type": "code",
      "source": [
        "#A matrix with single column of ones\n",
        "X_0 = np.ones((m, 1))\n",
        "X_0[:5]"
      ],
      "metadata": {
        "colab": {
          "base_uri": "https://localhost:8080/",
          "height": 0
        },
        "id": "u3ZA6j8Erq1C",
        "outputId": "2f6f651a-8c25-43df-c224-86d2f6c77fc2"
      },
      "execution_count": 297,
      "outputs": [
        {
          "output_type": "execute_result",
          "data": {
            "text/plain": [
              "array([[1.],\n",
              "       [1.],\n",
              "       [1.],\n",
              "       [1.],\n",
              "       [1.]])"
            ]
          },
          "metadata": {},
          "execution_count": 297
        }
      ]
    },
    {
      "cell_type": "code",
      "source": [
        "# Using reshape function convert X 1D array to 2D array of dimension 97x1\n",
        "X_1 = X.reshape(m, 1)\n",
        "X_1[:10]"
      ],
      "metadata": {
        "colab": {
          "base_uri": "https://localhost:8080/",
          "height": 0
        },
        "id": "EzUq_HbmsDYI",
        "outputId": "1cf23e65-4b7c-4160-8c72-54ba82fb8fce"
      },
      "execution_count": 298,
      "outputs": [
        {
          "output_type": "execute_result",
          "data": {
            "text/plain": [
              "array([[0.        ],\n",
              "       [0.04040404],\n",
              "       [0.08080808],\n",
              "       [0.12121212],\n",
              "       [0.16161616],\n",
              "       [0.2020202 ],\n",
              "       [0.24242424],\n",
              "       [0.28282828],\n",
              "       [0.32323232],\n",
              "       [0.36363636]])"
            ]
          },
          "metadata": {},
          "execution_count": 298
        }
      ]
    },
    {
      "cell_type": "code",
      "source": [
        "# Lets use hstack() function from numpy to stack X_0 and X_1 horizontally (i.e. column\n",
        "# This will be our final X matrix (feature matrix)\n",
        "X = np.hstack((X_0, X_1))\n",
        "X[:5]"
      ],
      "metadata": {
        "colab": {
          "base_uri": "https://localhost:8080/",
          "height": 0
        },
        "id": "HthJC1IKsOT7",
        "outputId": "a268c149-bf8d-4fdd-bd84-48eb1ddc86df"
      },
      "execution_count": 299,
      "outputs": [
        {
          "output_type": "execute_result",
          "data": {
            "text/plain": [
              "array([[1.        , 0.        ],\n",
              "       [1.        , 0.04040404],\n",
              "       [1.        , 0.08080808],\n",
              "       [1.        , 0.12121212],\n",
              "       [1.        , 0.16161616]])"
            ]
          },
          "metadata": {},
          "execution_count": 299
        }
      ]
    },
    {
      "cell_type": "code",
      "source": [
        "theta = np.zeros(2)\n",
        "theta"
      ],
      "metadata": {
        "colab": {
          "base_uri": "https://localhost:8080/",
          "height": 0
        },
        "id": "sVSrA3TFsRoQ",
        "outputId": "0fcfe0af-6562-48f7-9bcc-7374e8ea64ff"
      },
      "execution_count": 300,
      "outputs": [
        {
          "output_type": "execute_result",
          "data": {
            "text/plain": [
              "array([0., 0.])"
            ]
          },
          "metadata": {},
          "execution_count": 300
        }
      ]
    },
    {
      "cell_type": "code",
      "source": [
        "def compute_loss(X, y, theta):\n",
        "  \"\"\"\n",
        "  Compute loss for linear regression.\n",
        "\n",
        "  Input Parameters\n",
        "  ----------------\n",
        "  X : 2D array where each row represent the training example and each column represent\n",
        "    m= number of training examples\n",
        "    n= number of features (including X_0 column of ones)\n",
        "  y : 1D array of labels/target value for each traing example. dimension(1 x m)\n",
        "\n",
        "  theta : 1D array of fitting parameters or weights. Dimension (1 x n)\n",
        "\n",
        "  Output Parameters\n",
        "  -----------------\n",
        "  J : Scalar value.\n",
        "  \"\"\"\n",
        "  predictions = X.dot(theta)\n",
        "  errors = np.subtract(predictions, y)\n",
        "  sqrErrors = np.square(errors)\n",
        "  J = 1 / (2 * m) * np.sum(sqrErrors)\n",
        "\n",
        "  return J"
      ],
      "metadata": {
        "id": "adYnLcD5sWgV"
      },
      "execution_count": 301,
      "outputs": []
    },
    {
      "cell_type": "code",
      "source": [
        "# Lets compute the loss for theta values\n",
        "loss = compute_loss(X, y, theta)\n",
        "print('The loss for given values of theta_0 and theta_1 =', loss)"
      ],
      "metadata": {
        "colab": {
          "base_uri": "https://localhost:8080/",
          "height": 0
        },
        "id": "SrztBY8QtDj-",
        "outputId": "4d73bba0-a354-4fd1-e040-d869ea941f5b"
      },
      "execution_count": 302,
      "outputs": [
        {
          "output_type": "stream",
          "name": "stdout",
          "text": [
            "The loss for given values of theta_0 and theta_1 = 5.524438459196242\n"
          ]
        }
      ]
    },
    {
      "cell_type": "code",
      "source": [
        "def gradient_descent(X, y, theta, alpha, iterations):\n",
        "  \"\"\"\n",
        "  Compute loss for linear regression.\n",
        "\n",
        "  Input Parameters\n",
        "  ----------------\n",
        "  X : 2D array where each row represent the training example and each column represent\n",
        "    m= number of training examples\n",
        "    n= number of features (including X_0 column of ones)\n",
        "  y : 1D array of labels/target value for each traing example. dimension(m x 1)\n",
        "  theta : 1D array of fitting parameters or weights. Dimension (1 x n)\n",
        "  alpha : Learning rate. Scalar value\n",
        "  iterations: No of iterations. Scalar value.\n",
        "\n",
        "  Output Parameters\n",
        "  -----------------\n",
        "  theta : Final Value. 1D array of fitting parameters or weights. Dimension (1 x n)\n",
        "  loss_history: Conatins value of loss for each iteration. 1D array. Dimansion(m x 1)\n",
        "  \"\"\"\n",
        "  loss_history = np.zeros(iterations)\n",
        "\n",
        "  for i in range(iterations):\n",
        "    predictions = X.dot(theta)\n",
        "    errors = np.subtract(predictions, y)\n",
        "    sum_delta = (alpha / m) * X.transpose().dot(errors);\n",
        "    theta = theta - sum_delta;\n",
        "    loss_history[i] = compute_loss(X, y, theta)\n",
        "\n",
        "  return theta, loss_history"
      ],
      "metadata": {
        "id": "avK8sazEtSeo"
      },
      "execution_count": 303,
      "outputs": []
    },
    {
      "cell_type": "code",
      "source": [
        "theta = [0., 0.]\n",
        "iterations = 500;\n",
        "alpha = 0.05;"
      ],
      "metadata": {
        "id": "QFOsgHSFt8Pk"
      },
      "execution_count": 304,
      "outputs": []
    },
    {
      "cell_type": "code",
      "source": [
        "theta, loss_history = gradient_descent(X, y, theta, alpha, iterations)\n",
        "print('Final value of theta =', theta)\n",
        "print('loss_history =', loss_history)"
      ],
      "metadata": {
        "colab": {
          "base_uri": "https://localhost:8080/",
          "height": 0
        },
        "id": "P_pa_gyTt_jW",
        "outputId": "941aa182-f4d1-462f-9c8e-8af5134bafbb"
      },
      "execution_count": 305,
      "outputs": [
        {
          "output_type": "stream",
          "name": "stdout",
          "text": [
            "Final value of theta = [ 5.90572164 -2.02968566]\n",
            "loss_history = [5.32852962 5.18676104 5.07204859 4.97135951 4.87841102 4.7901631\n",
            " 4.70513385 4.6225903  4.54215964 4.46364257 4.38692354 4.31192769\n",
            " 4.23860012 4.16689592 4.09677542 4.02820186 3.96114022 3.89555678\n",
            " 3.83141873 3.76869415 3.70735181 3.64736126 3.58869268 3.53131694\n",
            " 3.47520555 3.42033064 3.36666497 3.31418189 3.26285534 3.21265983\n",
            " 3.16357044 3.1155628  3.06861307 3.02269793 2.97779459 2.93388074\n",
            " 2.8909346  2.84893482 2.80786057 2.76769143 2.72840747 2.68998918\n",
            " 2.65241749 2.61567373 2.57973967 2.54459746 2.51022965 2.47661918\n",
            " 2.44374936 2.41160386 2.38016673 2.34942236 2.31935548 2.28995115\n",
            " 2.26119479 2.23307211 2.20556915 2.17867225 2.15236805 2.1266435\n",
            " 2.10148583 2.07688253 2.0528214  2.02929048 2.0062781  1.98377283\n",
            " 1.96176348 1.94023914 1.91918911 1.89860295 1.87847043 1.85878155\n",
            " 1.83952654 1.82069584 1.8022801  1.78427017 1.76665712 1.74943218\n",
            " 1.73258682 1.71611267 1.70000155 1.68424546 1.66883657 1.65376723\n",
            " 1.63902997 1.62461746 1.61052254 1.59673823 1.58325767 1.57007417\n",
            " 1.55718119 1.54457232 1.5322413  1.52018201 1.50838846 1.49685479\n",
            " 1.48557529 1.47454434 1.46375648 1.45320633 1.44288868 1.43279838\n",
            " 1.42293044 1.41327995 1.40384212 1.39461226 1.3855858  1.37675824\n",
            " 1.36812521 1.35968243 1.35142568 1.34335089 1.33545403 1.32773119\n",
            " 1.32017853 1.31279231 1.30556885 1.29850457 1.29159595 1.28483958\n",
            " 1.27823209 1.27177021 1.26545072 1.25927049 1.25322645 1.2473156\n",
            " 1.241535   1.23588178 1.23035314 1.22494632 1.21965866 1.21448751\n",
            " 1.20943032 1.20448457 1.1996478  1.19491762 1.19029167 1.18576767\n",
            " 1.18134335 1.17701653 1.17278506 1.16864683 1.16459979 1.16064193\n",
            " 1.1567713  1.15298595 1.14928402 1.14566367 1.14212309 1.13866054\n",
            " 1.13527429 1.13196265 1.128724   1.12555671 1.12245922 1.11942998\n",
            " 1.1164675  1.1135703  1.11073694 1.10796602 1.10525616 1.10260601\n",
            " 1.10001427 1.09747963 1.09500085 1.0925767  1.09020596 1.08788746\n",
            " 1.08562006 1.08340262 1.08123404 1.07911325 1.0770392  1.07501085\n",
            " 1.0730272  1.07108726 1.06919007 1.06733468 1.06552018 1.06374567\n",
            " 1.06201026 1.06031309 1.05865332 1.05703013 1.0554427  1.05389026\n",
            " 1.05237202 1.05088724 1.04943518 1.04801512 1.04662635 1.04526819\n",
            " 1.04393995 1.04264099 1.04137064 1.04012829 1.03891332 1.03772512\n",
            " 1.03656311 1.0354267  1.03431533 1.03322845 1.03216553 1.03112602\n",
            " 1.03010943 1.02911523 1.02814295 1.02719209 1.02626218 1.02535276\n",
            " 1.02446339 1.02359361 1.022743   1.02191114 1.0210976  1.02030199\n",
            " 1.01952392 1.01876299 1.01801883 1.01729106 1.01657934 1.0158833\n",
            " 1.01520259 1.01453689 1.01388585 1.01324917 1.01262651 1.01201757\n",
            " 1.01142205 1.01083966 1.0102701  1.00971309 1.00916835 1.00863562\n",
            " 1.00811463 1.00760512 1.00710683 1.00661953 1.00614296 1.0056769\n",
            " 1.0052211  1.00477536 1.00433943 1.00391311 1.00349618 1.00308844\n",
            " 1.00268969 1.00229972 1.00191835 1.00154538 1.00118063 1.00082392\n",
            " 1.00047507 1.0001339  0.99980025 0.99947396 0.99915486 0.99884278\n",
            " 0.99853759 0.99823912 0.99794723 0.99766177 0.9973826  0.99710958\n",
            " 0.99684258 0.99658146 0.99632609 0.99607636 0.99583212 0.99559327\n",
            " 0.99535968 0.99513124 0.99490783 0.99468935 0.99447568 0.99426672\n",
            " 0.99406236 0.99386251 0.99366706 0.99347592 0.99328899 0.99310618\n",
            " 0.9929274  0.99275256 0.99258157 0.99241435 0.99225081 0.99209088\n",
            " 0.99193447 0.9917815  0.99163191 0.99148562 0.99134255 0.99120263\n",
            " 0.99106579 0.99093197 0.9908011  0.99067312 0.99054795 0.99042554\n",
            " 0.99030583 0.99018876 0.99007426 0.98996229 0.98985279 0.9897457\n",
            " 0.98964097 0.98953855 0.98943839 0.98934043 0.98924463 0.98915094\n",
            " 0.98905932 0.98896971 0.98888208 0.98879638 0.98871257 0.98863061\n",
            " 0.98855045 0.98847206 0.9883954  0.98832042 0.9882471  0.9881754\n",
            " 0.98810527 0.98803669 0.98796962 0.98790403 0.98783988 0.98777715\n",
            " 0.9877158  0.9876558  0.98759712 0.98753974 0.98748362 0.98742874\n",
            " 0.98737507 0.98732258 0.98727124 0.98722104 0.98717195 0.98712393\n",
            " 0.98707698 0.98703105 0.98698614 0.98694223 0.98689927 0.98685727\n",
            " 0.98681619 0.98677601 0.98673673 0.9866983  0.98666073 0.98662398\n",
            " 0.98658804 0.98655289 0.98651852 0.9864849  0.98645203 0.98641988\n",
            " 0.98638844 0.98635769 0.98632762 0.98629821 0.98626945 0.98624132\n",
            " 0.98621382 0.98618692 0.98616061 0.98613488 0.98610972 0.98608511\n",
            " 0.98606105 0.98603752 0.9860145  0.98599199 0.98596998 0.98594845\n",
            " 0.9859274  0.98590681 0.98588668 0.98586699 0.98584773 0.98582889\n",
            " 0.98581048 0.98579246 0.98577485 0.98575762 0.98574077 0.9857243\n",
            " 0.98570818 0.98569243 0.98567702 0.98566194 0.98564721 0.98563279\n",
            " 0.98561869 0.98560491 0.98559143 0.98557824 0.98556535 0.98555274\n",
            " 0.9855404  0.98552834 0.98551655 0.98550501 0.98549373 0.9854827\n",
            " 0.98547191 0.98546136 0.98545104 0.98544095 0.98543108 0.98542143\n",
            " 0.98541199 0.98540276 0.98539373 0.9853849  0.98537626 0.98536782\n",
            " 0.98535956 0.98535149 0.98534359 0.98533587 0.98532831 0.98532092\n",
            " 0.9853137  0.98530664 0.98529973 0.98529297 0.98528636 0.9852799\n",
            " 0.98527358 0.9852674  0.98526135 0.98525544 0.98524966 0.985244\n",
            " 0.98523847 0.98523307 0.98522778 0.98522261 0.98521755 0.9852126\n",
            " 0.98520777 0.98520303 0.98519841 0.98519388 0.98518946 0.98518513\n",
            " 0.9851809  0.98517676 0.98517271 0.98516875 0.98516488 0.9851611\n",
            " 0.98515739 0.98515377 0.98515023 0.98514677 0.98514338 0.98514007\n",
            " 0.98513683 0.98513366 0.98513057 0.98512754 0.98512457 0.98512168\n",
            " 0.98511884 0.98511607 0.98511336 0.98511071 0.98510812 0.98510558\n",
            " 0.9851031  0.98510068 0.98509831 0.98509599 0.98509372 0.9850915\n",
            " 0.98508934 0.98508722 0.98508514 0.98508311 0.98508113 0.98507919\n",
            " 0.98507729 0.98507543 0.98507362 0.98507185 0.98507011 0.98506841\n",
            " 0.98506675 0.98506513 0.98506354 0.98506199 0.98506047 0.98505899\n",
            " 0.98505753 0.98505611]\n"
          ]
        }
      ]
    },
    {
      "cell_type": "code",
      "source": [
        "# Since X is list of list (feature matrix) lets take values of column of index 1 only\n",
        "plt.scatter(X[:,1], y, color='red', marker= '+', label= 'Training Data')\n",
        "plt.plot(X[:,1],X.dot(theta), color='green', label='Linear Regression')\n",
        "plt.rcParams[\"figure.figsize\"] = (10,6)\n",
        "plt.grid()\n",
        "plt.xlabel('Input x1')\n",
        "plt.ylabel('Output')\n",
        "plt.title('Linear Regression Fit')\n",
        "plt.legend()"
      ],
      "metadata": {
        "colab": {
          "base_uri": "https://localhost:8080/",
          "height": 422
        },
        "id": "kdAVIrciuD5l",
        "outputId": "dd7542aa-5f7b-4b31-be39-6316cd8d3604"
      },
      "execution_count": 306,
      "outputs": [
        {
          "output_type": "execute_result",
          "data": {
            "text/plain": [
              "<matplotlib.legend.Legend at 0x7f3237b07290>"
            ]
          },
          "metadata": {},
          "execution_count": 306
        },
        {
          "output_type": "display_data",
          "data": {
            "text/plain": [
              "<Figure size 720x432 with 1 Axes>"
            ],
            "image/png": "[encoded data removed]"
          },
          "metadata": {
            "needs_background": "light"
          }
        }
      ]
    },
    {
      "cell_type": "code",
      "source": [
        "plt.plot(range(1, iterations + 1),loss_history, color='blue')\n",
        "plt.rcParams[\"figure.figsize\"] = (10,6)\n",
        "plt.grid()\n",
        "plt.xlabel('Number of iterations')\n",
        "plt.ylabel('Loss (J)')\n",
        "plt.title('Convergence of gradient descent')"
      ],
      "metadata": {
        "colab": {
          "base_uri": "https://localhost:8080/",
          "height": 422
        },
        "id": "xkCsK34wuXtK",
        "outputId": "f2080bb7-8e0b-43a4-8ca3-0404c5698e6f"
      },
      "execution_count": 307,
      "outputs": [
        {
          "output_type": "execute_result",
          "data": {
            "text/plain": [
              "Text(0.5, 1.0, 'Convergence of gradient descent')"
            ]
          },
          "metadata": {},
          "execution_count": 307
        },
        {
          "output_type": "display_data",
          "data": {
            "text/plain": [
              "<Figure size 720x432 with 1 Axes>"
            ],
            "image/png": "[encoded data removed]"
          },
          "metadata": {
            "needs_background": "light"
          }
        }
      ]
    },
    {
      "cell_type": "markdown",
      "source": [
        "x2"
      ],
      "metadata": {
        "id": "odjduFDsvWeh"
      }
    },
    {
      "cell_type": "code",
      "source": [
        "X = x2\n",
        "print('X = ', X[: 5]) # Show only first 5 records\n",
        "print('y = ', y[: 5]) # Show only first 5 records\n",
        "print(' ')\n",
        "print('X = ', X[: 100]) # Show 100 records\n",
        "print('y = ', y[: 100]) # Show 100 records\n",
        "print('m = ', m)"
      ],
      "metadata": {
        "colab": {
          "base_uri": "https://localhost:8080/",
          "height": 0
        },
        "id": "pOwBCwZlvX7D",
        "outputId": "5a50549c-9637-4e6d-df81-234a297ebe49"
      },
      "execution_count": 308,
      "outputs": [
        {
          "output_type": "stream",
          "name": "stdout",
          "text": [
            "X =  [3.44       0.1349495  0.82989899 1.52484848 2.21979798]\n",
            "y =  [4.38754501 2.6796499  2.96848981 3.25406475 3.53637472]\n",
            " \n",
            "X =  [3.44       0.1349495  0.82989899 1.52484848 2.21979798 2.91474747\n",
            " 3.60969697 0.30464646 0.99959596 1.69454546 2.38949495 3.08444444\n",
            " 3.77939394 0.47434343 1.16929293 1.86424242 2.55919192 3.25414141\n",
            " 3.94909091 0.6440404  1.3389899  2.03393939 2.72888889 3.42383838\n",
            " 0.11878788 0.81373737 1.50868687 2.20363636 2.89858586 3.59353535\n",
            " 0.28848485 0.98343434 1.67838384 2.37333333 3.06828283 3.76323232\n",
            " 0.45818182 1.15313131 1.84808081 2.5430303  3.2379798  3.93292929\n",
            " 0.62787879 1.32282828 2.01777778 2.71272727 3.40767677 0.10262626\n",
            " 0.79757576 1.49252525 2.18747475 2.88242424 3.57737374 0.27232323\n",
            " 0.96727273 1.66222222 2.35717172 3.05212121 3.74707071 0.4420202\n",
            " 1.1369697  1.83191919 2.52686869 3.22181818 3.91676768 0.61171717\n",
            " 1.30666667 2.00161616 2.69656566 3.39151515 0.08646465 0.78141414\n",
            " 1.47636364 2.17131313 2.86626263 3.56121212 0.25616162 0.95111111\n",
            " 1.64606061 2.3410101  3.0359596  3.73090909 0.42585859 1.12080808\n",
            " 1.81575758 2.51070707 3.20565657 3.90060606 0.59555556 1.29050505\n",
            " 1.98545455 2.68040404 3.37535353 0.07030303 0.76525252 1.46020202\n",
            " 2.15515152 2.85010101 3.5450505  0.24      ]\n",
            "y =  [ 4.38754501  2.6796499   2.96848981  3.25406475  3.53637472  3.81541972\n",
            "  4.09119974  2.36371479  3.83296487  4.09894997  4.3616701   4.62112526\n",
            "  4.87731544  3.13024065  3.37990089  3.62629616  3.86942645  5.30929177\n",
            "  5.54589212  3.77922749  4.00929789  4.23610332  4.45964378  4.67991926\n",
            "  2.89692977  3.1106753   4.52115587  4.72837146  4.93232208  5.13300772\n",
            "  3.33042839  3.52458409  3.71547481  3.90310057  4.08746135  5.46855715\n",
            "  3.64638799  3.82095385  3.99225473  4.16029065  4.32506159  4.48656756\n",
            "  2.64480856  2.79978458  4.15149563  4.29994171  4.44512281  2.58703894\n",
            "  2.7256901   2.86107628  2.99319749  3.12205374  3.247645    2.56997129\n",
            "  2.68903261  2.80482896  2.91736034  3.02662674  3.13262817  1.23536462\n",
            "  1.3348361   1.43104261  2.72398415  2.81366071  2.9000723   0.98321892\n",
            "  1.06310057  1.13971724  1.21306894  1.28315566 -0.65002258  0.6135342\n",
            "  0.673826    0.73085284  0.7846147   0.83511159 -1.1176565  -1.07368956\n",
            " -1.03298759 -0.99555059  0.23862143  0.26952848 -1.70282944 -1.67845234\n",
            " -1.6573402  -1.63949305 -1.62491086 -1.61359365 -3.60554141 -2.40075414\n",
            " -2.39923185 -2.40097453 -2.40598218 -4.4142548  -4.4257924  -4.44059497\n",
            " -4.45866252 -4.47999504 -3.30459253 -5.33245499]\n",
            "m =  100\n"
          ]
        }
      ]
    },
    {
      "cell_type": "code",
      "source": [
        "plt.scatter(X,y, color='red',marker= '+')\n",
        "plt.grid()\n",
        "plt.rcParams[\"figure.figsize\"] = (10,6)\n",
        "plt.xlabel('1st Column Input')\n",
        "plt.ylabel('Output')\n",
        "plt.title('Scatter plot of training data')"
      ],
      "metadata": {
        "colab": {
          "base_uri": "https://localhost:8080/",
          "height": 422
        },
        "id": "BqpahCTTvcHA",
        "outputId": "51394c2c-a4ee-4d8c-d9a9-45c6b414a5f2"
      },
      "execution_count": 309,
      "outputs": [
        {
          "output_type": "execute_result",
          "data": {
            "text/plain": [
              "Text(0.5, 1.0, 'Scatter plot of training data')"
            ]
          },
          "metadata": {},
          "execution_count": 309
        },
        {
          "output_type": "display_data",
          "data": {
            "text/plain": [
              "<Figure size 720x432 with 1 Axes>"
            ],
            "image/png": "[encoded data removed]"
          },
          "metadata": {
            "needs_background": "light"
          }
        }
      ]
    },
    {
      "cell_type": "code",
      "source": [
        "# Using reshape function convert X 1D array to 2D array of dimension 97x1\n",
        "X_1 = X.reshape(m, 1)\n",
        "X_1[:10]"
      ],
      "metadata": {
        "colab": {
          "base_uri": "https://localhost:8080/",
          "height": 0
        },
        "id": "e1fLGZypvoQC",
        "outputId": "d73ffab3-8b52-4b5f-9a99-941601bc9875"
      },
      "execution_count": 310,
      "outputs": [
        {
          "output_type": "execute_result",
          "data": {
            "text/plain": [
              "array([[3.44      ],\n",
              "       [0.1349495 ],\n",
              "       [0.82989899],\n",
              "       [1.52484848],\n",
              "       [2.21979798],\n",
              "       [2.91474747],\n",
              "       [3.60969697],\n",
              "       [0.30464646],\n",
              "       [0.99959596],\n",
              "       [1.69454546]])"
            ]
          },
          "metadata": {},
          "execution_count": 310
        }
      ]
    },
    {
      "cell_type": "code",
      "source": [
        "# Lets use hstack() function from numpy to stack X_0 and X_1 horizontally (i.e. column\n",
        "# This will be our final X matrix (feature matrix)\n",
        "X = np.hstack((X_0, X_1))\n",
        "X[:5]"
      ],
      "metadata": {
        "colab": {
          "base_uri": "https://localhost:8080/",
          "height": 0
        },
        "id": "vlX-NrhyvrBj",
        "outputId": "a9dabb61-2236-45ed-fdcb-7a54bcf07f41"
      },
      "execution_count": 311,
      "outputs": [
        {
          "output_type": "execute_result",
          "data": {
            "text/plain": [
              "array([[1.        , 3.44      ],\n",
              "       [1.        , 0.1349495 ],\n",
              "       [1.        , 0.82989899],\n",
              "       [1.        , 1.52484848],\n",
              "       [1.        , 2.21979798]])"
            ]
          },
          "metadata": {},
          "execution_count": 311
        }
      ]
    },
    {
      "cell_type": "code",
      "source": [
        "def compute_loss(X, y, theta):\n",
        "  \"\"\"\n",
        "  Compute loss for linear regression.\n",
        "\n",
        "  Input Parameters\n",
        "  ----------------\n",
        "  X : 2D array where each row represent the training example and each column represent\n",
        "    m= number of training examples\n",
        "    n= number of features (including X_0 column of ones)\n",
        "  y : 1D array of labels/target value for each traing example. dimension(1 x m)\n",
        "\n",
        "  theta : 1D array of fitting parameters or weights. Dimension (1 x n)\n",
        "\n",
        "  Output Parameters\n",
        "  -----------------\n",
        "  J : Scalar value.\n",
        "  \"\"\"\n",
        "  predictions = X.dot(theta)\n",
        "  errors = np.subtract(predictions, y)\n",
        "  sqrErrors = np.square(errors)\n",
        "  J = 1 / (2 * m) * np.sum(sqrErrors)\n",
        "\n",
        "  return J"
      ],
      "metadata": {
        "id": "ZpyvDW18vuah"
      },
      "execution_count": 312,
      "outputs": []
    },
    {
      "cell_type": "code",
      "source": [
        "# Lets compute the loss for theta values\n",
        "loss = compute_loss(X, y, theta)\n",
        "print('The loss for given values of theta_0 and theta_1 =', loss)"
      ],
      "metadata": {
        "colab": {
          "base_uri": "https://localhost:8080/",
          "height": 0
        },
        "id": "nZ72CLUQvxeD",
        "outputId": "0d217439-9e42-4a43-f69d-b7a5807f3ac1"
      },
      "execution_count": 313,
      "outputs": [
        {
          "output_type": "stream",
          "name": "stdout",
          "text": [
            "The loss for given values of theta_0 and theta_1 = 8.152042142541548\n"
          ]
        }
      ]
    },
    {
      "cell_type": "code",
      "source": [
        "def gradient_descent(X, y, theta, alpha, iterations):\n",
        "  \"\"\"\n",
        "  Compute loss for linear regression.\n",
        "\n",
        "  Input Parameters\n",
        "  ----------------\n",
        "  X : 2D array where each row represent the training example and each column represent\n",
        "    m= number of training examples\n",
        "    n= number of features (including X_0 column of ones)\n",
        "  y : 1D array of labels/target value for each traing example. dimension(m x 1)\n",
        "  theta : 1D array of fitting parameters or weights. Dimension (1 x n)\n",
        "  alpha : Learning rate. Scalar value\n",
        "  iterations: No of iterations. Scalar value.\n",
        "\n",
        "  Output Parameters\n",
        "  -----------------\n",
        "  theta : Final Value. 1D array of fitting parameters or weights. Dimension (1 x n)\n",
        "  loss_history: Conatins value of loss for each iteration. 1D array. Dimansion(m x 1)\n",
        "  \"\"\"\n",
        "  loss_history = np.zeros(iterations)\n",
        "\n",
        "  for i in range(iterations):\n",
        "    predictions = X.dot(theta)\n",
        "    errors = np.subtract(predictions, y)\n",
        "    sum_delta = (alpha / m) * X.transpose().dot(errors);\n",
        "    theta = theta - sum_delta;\n",
        "    loss_history[i] = compute_loss(X, y, theta)\n",
        "\n",
        "  return theta, loss_history"
      ],
      "metadata": {
        "id": "9cyBkuS2v0wb"
      },
      "execution_count": 314,
      "outputs": []
    },
    {
      "cell_type": "code",
      "source": [
        "theta = [0., 0.]\n",
        "iterations = 500;\n",
        "alpha = 0.09;"
      ],
      "metadata": {
        "id": "yPZHLIY_v4OH"
      },
      "execution_count": 315,
      "outputs": []
    },
    {
      "cell_type": "code",
      "source": [
        "theta, loss_history = gradient_descent(X, y, theta, alpha, iterations)\n",
        "print('Final value of theta =', theta)\n",
        "print('loss_history =', loss_history)"
      ],
      "metadata": {
        "colab": {
          "base_uri": "https://localhost:8080/",
          "height": 0
        },
        "id": "Eixb4O62v9H5",
        "outputId": "419a8270-5cb9-4ba9-a296-fe61cd185154"
      },
      "execution_count": 316,
      "outputs": [
        {
          "output_type": "stream",
          "name": "stdout",
          "text": [
            "Final value of theta = [0.73604139 0.55761502]\n",
            "loss_history = [4.00462041 3.69945673 3.63759188 3.62448387 3.6211691  3.61984293\n",
            " 3.61894118 3.61814956 3.61740412 3.6166911  3.61600683 3.61534971\n",
            " 3.61471856 3.61411233 3.61353004 3.61297075 3.61243354 3.61191754\n",
            " 3.61142192 3.61094587 3.61048862 3.61004942 3.60962756 3.60922237\n",
            " 3.60883317 3.60845934 3.60810027 3.60775538 3.60742411 3.60710592\n",
            " 3.6068003  3.60650674 3.60622478 3.60595394 3.60569381 3.60544394\n",
            " 3.60520394 3.60497342 3.604752   3.60453933 3.60433505 3.60413884\n",
            " 3.60395037 3.60376935 3.60359548 3.60342847 3.60326805 3.60311397\n",
            " 3.60296598 3.60282383 3.60268729 3.60255614 3.60243017 3.60230918\n",
            " 3.60219296 3.60208134 3.60197412 3.60187113 3.60177221 3.6016772\n",
            " 3.60158594 3.60149828 3.60141408 3.60133321 3.60125553 3.60118092\n",
            " 3.60110926 3.60104042 3.6009743  3.6009108  3.6008498  3.60079121\n",
            " 3.60073493 3.60068088 3.60062896 3.60057909 3.60053119 3.60048518\n",
            " 3.60044099 3.60039854 3.60035777 3.60031861 3.60028099 3.60024486\n",
            " 3.60021016 3.60017683 3.60014481 3.60011406 3.60008452 3.60005615\n",
            " 3.6000289  3.60000272 3.59997758 3.59995343 3.59993024 3.59990796\n",
            " 3.59988656 3.599866   3.59984626 3.5998273  3.59980908 3.59979159\n",
            " 3.59977478 3.59975864 3.59974314 3.59972825 3.59971394 3.59970021\n",
            " 3.59968701 3.59967433 3.59966216 3.59965047 3.59963923 3.59962845\n",
            " 3.59961808 3.59960813 3.59959857 3.59958939 3.59958057 3.5995721\n",
            " 3.59956396 3.59955614 3.59954863 3.59954142 3.5995345  3.59952784\n",
            " 3.59952145 3.59951532 3.59950942 3.59950376 3.59949832 3.5994931\n",
            " 3.59948808 3.59948326 3.59947863 3.59947418 3.59946991 3.59946581\n",
            " 3.59946187 3.59945808 3.59945445 3.59945096 3.5994476  3.59944438\n",
            " 3.59944129 3.59943831 3.59943546 3.59943272 3.59943008 3.59942755\n",
            " 3.59942512 3.59942279 3.59942055 3.5994184  3.59941633 3.59941434\n",
            " 3.59941243 3.5994106  3.59940884 3.59940715 3.59940552 3.59940396\n",
            " 3.59940247 3.59940103 3.59939964 3.59939832 3.59939704 3.59939582\n",
            " 3.59939464 3.59939351 3.59939242 3.59939138 3.59939038 3.59938942\n",
            " 3.59938849 3.59938761 3.59938675 3.59938593 3.59938515 3.59938439\n",
            " 3.59938367 3.59938297 3.5993823  3.59938166 3.59938104 3.59938045\n",
            " 3.59937988 3.59937933 3.5993788  3.5993783  3.59937781 3.59937735\n",
            " 3.5993769  3.59937647 3.59937606 3.59937566 3.59937528 3.59937492\n",
            " 3.59937456 3.59937423 3.5993739  3.59937359 3.59937329 3.59937301\n",
            " 3.59937273 3.59937246 3.59937221 3.59937197 3.59937173 3.59937151\n",
            " 3.59937129 3.59937108 3.59937088 3.59937069 3.5993705  3.59937033\n",
            " 3.59937016 3.59936999 3.59936984 3.59936969 3.59936954 3.5993694\n",
            " 3.59936927 3.59936914 3.59936902 3.5993689  3.59936878 3.59936868\n",
            " 3.59936857 3.59936847 3.59936837 3.59936828 3.59936819 3.5993681\n",
            " 3.59936802 3.59936794 3.59936787 3.59936779 3.59936772 3.59936766\n",
            " 3.59936759 3.59936753 3.59936747 3.59936741 3.59936736 3.5993673\n",
            " 3.59936725 3.59936721 3.59936716 3.59936711 3.59936707 3.59936703\n",
            " 3.59936699 3.59936695 3.59936691 3.59936688 3.59936684 3.59936681\n",
            " 3.59936678 3.59936675 3.59936672 3.59936669 3.59936667 3.59936664\n",
            " 3.59936662 3.59936659 3.59936657 3.59936655 3.59936653 3.59936651\n",
            " 3.59936649 3.59936647 3.59936645 3.59936643 3.59936642 3.5993664\n",
            " 3.59936639 3.59936637 3.59936636 3.59936635 3.59936633 3.59936632\n",
            " 3.59936631 3.5993663  3.59936629 3.59936627 3.59936626 3.59936626\n",
            " 3.59936625 3.59936624 3.59936623 3.59936622 3.59936621 3.5993662\n",
            " 3.5993662  3.59936619 3.59936618 3.59936618 3.59936617 3.59936616\n",
            " 3.59936616 3.59936615 3.59936615 3.59936614 3.59936614 3.59936613\n",
            " 3.59936613 3.59936612 3.59936612 3.59936612 3.59936611 3.59936611\n",
            " 3.5993661  3.5993661  3.5993661  3.59936609 3.59936609 3.59936609\n",
            " 3.59936609 3.59936608 3.59936608 3.59936608 3.59936608 3.59936607\n",
            " 3.59936607 3.59936607 3.59936607 3.59936607 3.59936606 3.59936606\n",
            " 3.59936606 3.59936606 3.59936606 3.59936606 3.59936605 3.59936605\n",
            " 3.59936605 3.59936605 3.59936605 3.59936605 3.59936605 3.59936605\n",
            " 3.59936604 3.59936604 3.59936604 3.59936604 3.59936604 3.59936604\n",
            " 3.59936604 3.59936604 3.59936604 3.59936604 3.59936604 3.59936603\n",
            " 3.59936603 3.59936603 3.59936603 3.59936603 3.59936603 3.59936603\n",
            " 3.59936603 3.59936603 3.59936603 3.59936603 3.59936603 3.59936603\n",
            " 3.59936603 3.59936603 3.59936603 3.59936603 3.59936603 3.59936603\n",
            " 3.59936603 3.59936603 3.59936603 3.59936603 3.59936602 3.59936602\n",
            " 3.59936602 3.59936602 3.59936602 3.59936602 3.59936602 3.59936602\n",
            " 3.59936602 3.59936602 3.59936602 3.59936602 3.59936602 3.59936602\n",
            " 3.59936602 3.59936602 3.59936602 3.59936602 3.59936602 3.59936602\n",
            " 3.59936602 3.59936602 3.59936602 3.59936602 3.59936602 3.59936602\n",
            " 3.59936602 3.59936602 3.59936602 3.59936602 3.59936602 3.59936602\n",
            " 3.59936602 3.59936602 3.59936602 3.59936602 3.59936602 3.59936602\n",
            " 3.59936602 3.59936602 3.59936602 3.59936602 3.59936602 3.59936602\n",
            " 3.59936602 3.59936602 3.59936602 3.59936602 3.59936602 3.59936602\n",
            " 3.59936602 3.59936602 3.59936602 3.59936602 3.59936602 3.59936602\n",
            " 3.59936602 3.59936602 3.59936602 3.59936602 3.59936602 3.59936602\n",
            " 3.59936602 3.59936602 3.59936602 3.59936602 3.59936602 3.59936602\n",
            " 3.59936602 3.59936602 3.59936602 3.59936602 3.59936602 3.59936602\n",
            " 3.59936602 3.59936602 3.59936602 3.59936602 3.59936602 3.59936602\n",
            " 3.59936602 3.59936602 3.59936602 3.59936602 3.59936602 3.59936602\n",
            " 3.59936602 3.59936602 3.59936602 3.59936602 3.59936602 3.59936602\n",
            " 3.59936602 3.59936602 3.59936602 3.59936602 3.59936602 3.59936602\n",
            " 3.59936602 3.59936602 3.59936602 3.59936602 3.59936602 3.59936602\n",
            " 3.59936602 3.59936602 3.59936602 3.59936602 3.59936602 3.59936602\n",
            " 3.59936602 3.59936602 3.59936602 3.59936602 3.59936602 3.59936602\n",
            " 3.59936602 3.59936602 3.59936602 3.59936602 3.59936602 3.59936602\n",
            " 3.59936602 3.59936602]\n"
          ]
        }
      ]
    },
    {
      "cell_type": "code",
      "source": [
        "# Since X is list of list (feature matrix) lets take values of column of index 1 only\n",
        "plt.scatter(X[:,1], y, color='red', marker= '+', label= 'Training Data')\n",
        "plt.plot(X[:,1],X.dot(theta), color='green', label='Linear Regression')\n",
        "plt.rcParams[\"figure.figsize\"] = (10,6)\n",
        "plt.grid()\n",
        "plt.xlabel('Input x2')\n",
        "plt.ylabel('Output')\n",
        "plt.title('Linear Regression Fit')\n",
        "plt.legend()"
      ],
      "metadata": {
        "colab": {
          "base_uri": "https://localhost:8080/",
          "height": 422
        },
        "id": "Wu5hXuVhwA-e",
        "outputId": "a3d859cc-f3af-4259-b28c-825f84a9c2db"
      },
      "execution_count": 317,
      "outputs": [
        {
          "output_type": "execute_result",
          "data": {
            "text/plain": [
              "<matplotlib.legend.Legend at 0x7f32379eb610>"
            ]
          },
          "metadata": {},
          "execution_count": 317
        },
        {
          "output_type": "display_data",
          "data": {
            "text/plain": [
              "<Figure size 720x432 with 1 Axes>"
            ],
            "image/png": "[encoded data removed]"
          },
          "metadata": {
            "needs_background": "light"
          }
        }
      ]
    },
    {
      "cell_type": "code",
      "source": [
        "plt.plot(range(1, iterations + 1),loss_history, color='blue')\n",
        "plt.rcParams[\"figure.figsize\"] = (10,6)\n",
        "plt.grid()\n",
        "plt.xlabel('Number of iterations')\n",
        "plt.ylabel('Loss (J)')\n",
        "plt.title('Convergence of gradient descent')"
      ],
      "metadata": {
        "colab": {
          "base_uri": "https://localhost:8080/",
          "height": 422
        },
        "id": "6dpuDfvCwEaw",
        "outputId": "0ec4b2ee-f9bc-4e6e-f673-f31720920414"
      },
      "execution_count": 318,
      "outputs": [
        {
          "output_type": "execute_result",
          "data": {
            "text/plain": [
              "Text(0.5, 1.0, 'Convergence of gradient descent')"
            ]
          },
          "metadata": {},
          "execution_count": 318
        },
        {
          "output_type": "display_data",
          "data": {
            "text/plain": [
              "<Figure size 720x432 with 1 Axes>"
            ],
            "image/png": "[encoded data removed]"
          },
          "metadata": {
            "needs_background": "light"
          }
        }
      ]
    },
    {
      "cell_type": "markdown",
      "source": [
        "x3"
      ],
      "metadata": {
        "id": "2UgV_9BGwigN"
      }
    },
    {
      "cell_type": "code",
      "source": [
        "X = x3\n",
        "print('X = ', X[: 5]) # Show only first 5 records\n",
        "print('y = ', y[: 5]) # Show only first 5 records\n",
        "print(' ')\n",
        "print('X = ', X[: 100]) # Show 100 records\n",
        "print('y = ', y[: 100]) # Show 100 records\n",
        "print('m = ', m)"
      ],
      "metadata": {
        "colab": {
          "base_uri": "https://localhost:8080/",
          "height": 0
        },
        "id": "gKIbSSDIwhl-",
        "outputId": "4e605ac6-432f-4371-b201-4b87cf958cae"
      },
      "execution_count": 319,
      "outputs": [
        {
          "output_type": "stream",
          "name": "stdout",
          "text": [
            "X =  [0.44       0.88848485 1.3369697  1.78545454 2.23393939]\n",
            "y =  [4.38754501 2.6796499  2.96848981 3.25406475 3.53637472]\n",
            " \n",
            "X =  [0.44       0.88848485 1.3369697  1.78545454 2.23393939 2.68242424\n",
            " 3.13090909 3.57939394 0.02787879 0.47636364 0.92484849 1.37333333\n",
            " 1.82181818 2.27030303 2.71878788 3.16727273 3.61575758 0.06424242\n",
            " 0.51272727 0.96121212 1.40969697 1.85818182 2.30666667 2.75515152\n",
            " 3.20363636 3.65212121 0.10060606 0.54909091 0.99757576 1.44606061\n",
            " 1.89454546 2.3430303  2.79151515 3.24       3.68848485 0.1369697\n",
            " 0.58545455 1.03393939 1.48242424 1.93090909 2.37939394 2.82787879\n",
            " 3.27636364 3.72484848 0.17333333 0.62181818 1.07030303 1.51878788\n",
            " 1.96727273 2.41575758 2.86424242 3.31272727 3.76121212 0.20969697\n",
            " 0.65818182 1.10666667 1.55515151 2.00363636 2.45212121 2.90060606\n",
            " 3.34909091 3.79757576 0.24606061 0.69454545 1.1430303  1.59151515\n",
            " 2.04       2.48848485 2.9369697  3.38545454 3.83393939 0.28242424\n",
            " 0.73090909 1.17939394 1.62787879 2.07636364 2.52484849 2.97333333\n",
            " 3.42181818 3.87030303 0.31878788 0.76727273 1.21575758 1.66424242\n",
            " 2.11272727 2.56121212 3.00969697 3.45818182 3.90666667 0.35515151\n",
            " 0.80363636 1.25212121 1.70060606 2.14909091 2.59757576 3.04606061\n",
            " 3.49454545 3.9430303  0.39151515 0.84      ]\n",
            "y =  [ 4.38754501  2.6796499   2.96848981  3.25406475  3.53637472  3.81541972\n",
            "  4.09119974  2.36371479  3.83296487  4.09894997  4.3616701   4.62112526\n",
            "  4.87731544  3.13024065  3.37990089  3.62629616  3.86942645  5.30929177\n",
            "  5.54589212  3.77922749  4.00929789  4.23610332  4.45964378  4.67991926\n",
            "  2.89692977  3.1106753   4.52115587  4.72837146  4.93232208  5.13300772\n",
            "  3.33042839  3.52458409  3.71547481  3.90310057  4.08746135  5.46855715\n",
            "  3.64638799  3.82095385  3.99225473  4.16029065  4.32506159  4.48656756\n",
            "  2.64480856  2.79978458  4.15149563  4.29994171  4.44512281  2.58703894\n",
            "  2.7256901   2.86107628  2.99319749  3.12205374  3.247645    2.56997129\n",
            "  2.68903261  2.80482896  2.91736034  3.02662674  3.13262817  1.23536462\n",
            "  1.3348361   1.43104261  2.72398415  2.81366071  2.9000723   0.98321892\n",
            "  1.06310057  1.13971724  1.21306894  1.28315566 -0.65002258  0.6135342\n",
            "  0.673826    0.73085284  0.7846147   0.83511159 -1.1176565  -1.07368956\n",
            " -1.03298759 -0.99555059  0.23862143  0.26952848 -1.70282944 -1.67845234\n",
            " -1.6573402  -1.63949305 -1.62491086 -1.61359365 -3.60554141 -2.40075414\n",
            " -2.39923185 -2.40097453 -2.40598218 -4.4142548  -4.4257924  -4.44059497\n",
            " -4.45866252 -4.47999504 -3.30459253 -5.33245499]\n",
            "m =  100\n"
          ]
        }
      ]
    },
    {
      "cell_type": "code",
      "source": [
        "plt.scatter(X,y, color='red',marker= '+')\n",
        "plt.grid()\n",
        "plt.rcParams[\"figure.figsize\"] = (10,6)\n",
        "plt.xlabel('1st Column Input')\n",
        "plt.ylabel('Output')\n",
        "plt.title('Scatter plot of training data')"
      ],
      "metadata": {
        "colab": {
          "base_uri": "https://localhost:8080/",
          "height": 422
        },
        "id": "GpEGQWbVwpMs",
        "outputId": "94b58e19-acc1-4449-c3fe-fc38045c7fbd"
      },
      "execution_count": 320,
      "outputs": [
        {
          "output_type": "execute_result",
          "data": {
            "text/plain": [
              "Text(0.5, 1.0, 'Scatter plot of training data')"
            ]
          },
          "metadata": {},
          "execution_count": 320
        },
        {
          "output_type": "display_data",
          "data": {
            "text/plain": [
              "<Figure size 720x432 with 1 Axes>"
            ],
            "image/png": "[encoded data removed]"
          },
          "metadata": {
            "needs_background": "light"
          }
        }
      ]
    },
    {
      "cell_type": "code",
      "source": [
        "# Using reshape function convert X 1D array to 2D array of dimension 97x1\n",
        "X_1 = X.reshape(m, 1)\n",
        "X_1[:10]"
      ],
      "metadata": {
        "colab": {
          "base_uri": "https://localhost:8080/",
          "height": 0
        },
        "id": "UpkSCwKdwreC",
        "outputId": "3f666461-937e-4804-dd5c-f982ebc5dbaa"
      },
      "execution_count": 321,
      "outputs": [
        {
          "output_type": "execute_result",
          "data": {
            "text/plain": [
              "array([[0.44      ],\n",
              "       [0.88848485],\n",
              "       [1.3369697 ],\n",
              "       [1.78545454],\n",
              "       [2.23393939],\n",
              "       [2.68242424],\n",
              "       [3.13090909],\n",
              "       [3.57939394],\n",
              "       [0.02787879],\n",
              "       [0.47636364]])"
            ]
          },
          "metadata": {},
          "execution_count": 321
        }
      ]
    },
    {
      "cell_type": "code",
      "source": [
        "# Lets use hstack() function from numpy to stack X_0 and X_1 horizontally (i.e. column\n",
        "# This will be our final X matrix (feature matrix)\n",
        "X = np.hstack((X_0, X_1))\n",
        "X[:5]"
      ],
      "metadata": {
        "colab": {
          "base_uri": "https://localhost:8080/",
          "height": 0
        },
        "id": "9xNe9CrpwuqK",
        "outputId": "7782a638-48f4-4573-bb5f-fbea1263b2fa"
      },
      "execution_count": 322,
      "outputs": [
        {
          "output_type": "execute_result",
          "data": {
            "text/plain": [
              "array([[1.        , 0.44      ],\n",
              "       [1.        , 0.88848485],\n",
              "       [1.        , 1.3369697 ],\n",
              "       [1.        , 1.78545454],\n",
              "       [1.        , 2.23393939]])"
            ]
          },
          "metadata": {},
          "execution_count": 322
        }
      ]
    },
    {
      "cell_type": "code",
      "source": [
        "def compute_loss(X, y, theta):\n",
        "  \"\"\"\n",
        "  Compute loss for linear regression.\n",
        "\n",
        "  Input Parameters\n",
        "  ----------------\n",
        "  X : 2D array where each row represent the training example and each column represent\n",
        "    m= number of training examples\n",
        "    n= number of features (including X_0 column of ones)\n",
        "  y : 1D array of labels/target value for each traing example. dimension(1 x m)\n",
        "\n",
        "  theta : 1D array of fitting parameters or weights. Dimension (1 x n)\n",
        "\n",
        "  Output Parameters\n",
        "  -----------------\n",
        "  J : Scalar value.\n",
        "  \"\"\"\n",
        "  predictions = X.dot(theta)\n",
        "  errors = np.subtract(predictions, y)\n",
        "  sqrErrors = np.square(errors)\n",
        "  J = 1 / (2 * m) * np.sum(sqrErrors)\n",
        "\n",
        "  return J"
      ],
      "metadata": {
        "id": "bwLG9-D4wzvy"
      },
      "execution_count": 323,
      "outputs": []
    },
    {
      "cell_type": "code",
      "source": [
        "# Lets compute the loss for theta values\n",
        "loss = compute_loss(X, y, theta)\n",
        "print('The loss for given values of theta_0 and theta_1 =', loss)"
      ],
      "metadata": {
        "colab": {
          "base_uri": "https://localhost:8080/",
          "height": 0
        },
        "id": "Y6JyxZyAw2xZ",
        "outputId": "fc98803d-19e8-4811-92e1-a2f86d7b5a44"
      },
      "execution_count": 324,
      "outputs": [
        {
          "output_type": "stream",
          "name": "stdout",
          "text": [
            "The loss for given values of theta_0 and theta_1 = 4.4078882323373545\n"
          ]
        }
      ]
    },
    {
      "cell_type": "code",
      "source": [
        "def gradient_descent(X, y, theta, alpha, iterations):\n",
        "  \"\"\"\n",
        "  Compute loss for linear regression.\n",
        "\n",
        "  Input Parameters\n",
        "  ----------------\n",
        "  X : 2D array where each row represent the training example and each column represent\n",
        "    m= number of training examples\n",
        "    n= number of features (including X_0 column of ones)\n",
        "  y : 1D array of labels/target value for each traing example. dimension(m x 1)\n",
        "  theta : 1D array of fitting parameters or weights. Dimension (1 x n)\n",
        "  alpha : Learning rate. Scalar value\n",
        "  iterations: No of iterations. Scalar value.\n",
        "\n",
        "  Output Parameters\n",
        "  -----------------\n",
        "  theta : Final Value. 1D array of fitting parameters or weights. Dimension (1 x n)\n",
        "  loss_history: Conatins value of loss for each iteration. 1D array. Dimansion(m x 1)\n",
        "  \"\"\"\n",
        "  loss_history = np.zeros(iterations)\n",
        "\n",
        "  for i in range(iterations):\n",
        "    predictions = X.dot(theta)\n",
        "    errors = np.subtract(predictions, y)\n",
        "    sum_delta = (alpha / m) * X.transpose().dot(errors);\n",
        "    theta = theta - sum_delta;\n",
        "    loss_history[i] = compute_loss(X, y, theta)\n",
        "\n",
        "  return theta, loss_history"
      ],
      "metadata": {
        "id": "IEaWCDcew5TV"
      },
      "execution_count": 325,
      "outputs": []
    },
    {
      "cell_type": "code",
      "source": [
        "theta = [0., 0.]\n",
        "iterations = 500;\n",
        "alpha = 0.07;"
      ],
      "metadata": {
        "id": "JrP19lsJw8bd"
      },
      "execution_count": 326,
      "outputs": []
    },
    {
      "cell_type": "code",
      "source": [
        "theta, loss_history = gradient_descent(X, y, theta, alpha, iterations)\n",
        "print('Final value of theta =', theta)\n",
        "print('loss_history =', loss_history)"
      ],
      "metadata": {
        "colab": {
          "base_uri": "https://localhost:8080/",
          "height": 0
        },
        "id": "zyju1faNw-ez",
        "outputId": "86a5472e-8939-4a3a-8323-0b8f1071bfce"
      },
      "execution_count": 327,
      "outputs": [
        {
          "output_type": "stream",
          "name": "stdout",
          "text": [
            "Final value of theta = [ 2.87046629 -0.52010487]\n",
            "loss_history = [4.85255415 4.60604012 4.50471506 4.45330062 4.4193854  4.39193308\n",
            " 4.36717533 4.34381539 4.32139734 4.29975158 4.27880635 4.25852355\n",
            " 4.23887699 4.21984493 4.20140755 4.18354606 4.16624239 4.14947911\n",
            " 4.13323932 4.11750669 4.10226536 4.0875     4.07319575 4.05933819\n",
            " 4.04591339 4.03290783 4.02030841 4.00810246 3.99627768 3.98482218\n",
            " 3.97372441 3.96297322 3.95255777 3.94246758 3.93269249 3.92322266\n",
            " 3.91404857 3.90516097 3.89655092 3.88820975 3.88012906 3.87230072\n",
            " 3.86471685 3.85736982 3.85025222 3.8433569  3.8366769  3.83020552\n",
            " 3.82393623 3.81786271 3.81197887 3.80627877 3.80075668 3.79540704\n",
            " 3.79022445 3.78520372 3.78033977 3.77562772 3.77106282 3.76664047\n",
            " 3.76235623 3.75820578 3.75418495 3.75028968 3.74651605 3.74286027\n",
            " 3.73931865 3.73588763 3.73256376 3.72934369 3.72622418 3.72320209\n",
            " 3.72027437 3.71743808 3.71469037 3.71202846 3.70944968 3.70695143\n",
            " 3.7045312  3.70218655 3.69991512 3.69771462 3.69558284 3.69351764\n",
            " 3.69151692 3.68957869 3.68770099 3.68588192 3.68411966 3.68241244\n",
            " 3.68075853 3.67915626 3.67760404 3.67610029 3.6746435  3.6732322\n",
            " 3.67186497 3.67054045 3.66925728 3.66801419 3.66680992 3.66564325\n",
            " 3.66451302 3.66341808 3.66235734 3.66132972 3.6603342  3.65936976\n",
            " 3.65843544 3.6575303  3.65665342 3.65580393 3.65498097 3.6541837\n",
            " 3.65341134 3.65266309 3.65193821 3.65123597 3.65055566 3.64989659\n",
            " 3.64925811 3.64863956 3.64804033 3.64745982 3.64689743 3.64635261\n",
            " 3.64582479 3.64531347 3.64481811 3.64433822 3.64387331 3.64342293\n",
            " 3.64298661 3.64256391 3.64215442 3.64175771 3.64137339 3.64100107\n",
            " 3.64064039 3.64029096 3.63995245 3.6396245  3.6393068  3.63899902\n",
            " 3.63870085 3.638412   3.63813216 3.63786106 3.63759843 3.637344\n",
            " 3.63709752 3.63685873 3.6366274  3.6364033  3.63618619 3.63597586\n",
            " 3.6357721  3.63557471 3.63538348 3.63519822 3.63501874 3.63484487\n",
            " 3.63467643 3.63451326 3.63435517 3.63420202 3.63405366 3.63390993\n",
            " 3.63377069 3.63363579 3.63350511 3.63337851 3.63325586 3.63313705\n",
            " 3.63302194 3.63291043 3.6328024  3.63269774 3.63259636 3.63249813\n",
            " 3.63240298 3.6323108  3.63222149 3.63213498 3.63205117 3.63196997\n",
            " 3.63189131 3.63181511 3.63174128 3.63166976 3.63160048 3.63153336\n",
            " 3.63146833 3.63140534 3.63134431 3.63128519 3.63122791 3.63117243\n",
            " 3.63111867 3.6310666  3.63101615 3.63096727 3.63091993 3.63087406\n",
            " 3.63082962 3.63078657 3.63074487 3.63070447 3.63066533 3.63062741\n",
            " 3.63059067 3.63055509 3.63052061 3.63048721 3.63045486 3.63042351\n",
            " 3.63039315 3.63036373 3.63033523 3.63030762 3.63028087 3.63025496\n",
            " 3.63022986 3.63020554 3.63018198 3.63015916 3.63013705 3.63011562\n",
            " 3.63009487 3.63007477 3.63005529 3.63003643 3.63001815 3.63000044\n",
            " 3.62998329 3.62996667 3.62995057 3.62993497 3.62991986 3.62990522\n",
            " 3.62989104 3.6298773  3.629864   3.6298511  3.62983861 3.62982651\n",
            " 3.62981479 3.62980343 3.62979243 3.62978177 3.62977144 3.62976144\n",
            " 3.62975175 3.62974236 3.62973327 3.62972446 3.62971592 3.62970765\n",
            " 3.62969964 3.62969188 3.62968436 3.62967708 3.62967002 3.62966319\n",
            " 3.62965656 3.62965015 3.62964393 3.62963791 3.62963208 3.62962643\n",
            " 3.62962095 3.62961565 3.62961051 3.62960553 3.62960071 3.62959604\n",
            " 3.62959152 3.62958713 3.62958288 3.62957877 3.62957478 3.62957092\n",
            " 3.62956718 3.62956356 3.62956004 3.62955664 3.62955335 3.62955016\n",
            " 3.62954706 3.62954407 3.62954116 3.62953835 3.62953563 3.62953299\n",
            " 3.62953043 3.62952796 3.62952556 3.62952323 3.62952098 3.6295188\n",
            " 3.62951669 3.62951464 3.62951266 3.62951073 3.62950887 3.62950707\n",
            " 3.62950532 3.62950363 3.62950199 3.6295004  3.62949886 3.62949737\n",
            " 3.62949593 3.62949453 3.62949317 3.62949186 3.62949059 3.62948936\n",
            " 3.62948816 3.629487   3.62948588 3.6294848  3.62948375 3.62948273\n",
            " 3.62948174 3.62948079 3.62947986 3.62947896 3.62947809 3.62947725\n",
            " 3.62947643 3.62947564 3.62947488 3.62947414 3.62947342 3.62947272\n",
            " 3.62947205 3.62947139 3.62947076 3.62947015 3.62946955 3.62946898\n",
            " 3.62946842 3.62946788 3.62946736 3.62946685 3.62946636 3.62946588\n",
            " 3.62946542 3.62946498 3.62946454 3.62946412 3.62946372 3.62946333\n",
            " 3.62946294 3.62946257 3.62946222 3.62946187 3.62946154 3.62946121\n",
            " 3.6294609  3.62946059 3.62946029 3.62946001 3.62945973 3.62945946\n",
            " 3.6294592  3.62945895 3.62945871 3.62945847 3.62945824 3.62945802\n",
            " 3.6294578  3.62945759 3.62945739 3.6294572  3.62945701 3.62945682\n",
            " 3.62945664 3.62945647 3.6294563  3.62945614 3.62945599 3.62945583\n",
            " 3.62945569 3.62945554 3.62945541 3.62945527 3.62945514 3.62945502\n",
            " 3.6294549  3.62945478 3.62945466 3.62945455 3.62945445 3.62945434\n",
            " 3.62945424 3.62945415 3.62945405 3.62945396 3.62945387 3.62945379\n",
            " 3.6294537  3.62945362 3.62945354 3.62945347 3.6294534  3.62945332\n",
            " 3.62945326 3.62945319 3.62945312 3.62945306 3.629453   3.62945294\n",
            " 3.62945289 3.62945283 3.62945278 3.62945273 3.62945268 3.62945263\n",
            " 3.62945258 3.62945254 3.62945249 3.62945245 3.62945241 3.62945237\n",
            " 3.62945233 3.62945229 3.62945225 3.62945222 3.62945218 3.62945215\n",
            " 3.62945212 3.62945209 3.62945206 3.62945203 3.629452   3.62945197\n",
            " 3.62945195 3.62945192 3.6294519  3.62945187 3.62945185 3.62945183\n",
            " 3.6294518  3.62945178 3.62945176 3.62945174 3.62945172 3.6294517\n",
            " 3.62945169 3.62945167 3.62945165 3.62945164 3.62945162 3.6294516\n",
            " 3.62945159 3.62945157 3.62945156 3.62945155 3.62945153 3.62945152\n",
            " 3.62945151 3.6294515  3.62945149 3.62945147 3.62945146 3.62945145\n",
            " 3.62945144 3.62945143 3.62945142 3.62945141 3.6294514  3.6294514\n",
            " 3.62945139 3.62945138 3.62945137 3.62945136 3.62945136 3.62945135\n",
            " 3.62945134 3.62945133 3.62945133 3.62945132 3.62945132 3.62945131\n",
            " 3.6294513  3.6294513  3.62945129 3.62945129 3.62945128 3.62945128\n",
            " 3.62945127 3.62945127 3.62945126 3.62945126 3.62945126 3.62945125\n",
            " 3.62945125 3.62945124]\n"
          ]
        }
      ]
    },
    {
      "cell_type": "code",
      "source": [
        "# Since X is list of list (feature matrix) lets take values of column of index 1 only\n",
        "plt.scatter(X[:,1], y, color='red', marker= '+', label= 'Training Data')\n",
        "plt.plot(X[:,1],X.dot(theta), color='green', label='Linear Regression')\n",
        "plt.rcParams[\"figure.figsize\"] = (10,6)\n",
        "plt.grid()\n",
        "plt.xlabel('Input x3')\n",
        "plt.ylabel('Output')\n",
        "plt.title('Linear Regression Fit')\n",
        "plt.legend()"
      ],
      "metadata": {
        "colab": {
          "base_uri": "https://localhost:8080/",
          "height": 422
        },
        "id": "hAHwYEYMw_xQ",
        "outputId": "84bd933d-8d4a-4ee4-b1fd-0d89bd36330e"
      },
      "execution_count": 328,
      "outputs": [
        {
          "output_type": "execute_result",
          "data": {
            "text/plain": [
              "<matplotlib.legend.Legend at 0x7f32378aaf50>"
            ]
          },
          "metadata": {},
          "execution_count": 328
        },
        {
          "output_type": "display_data",
          "data": {
            "text/plain": [
              "<Figure size 720x432 with 1 Axes>"
            ],
            "image/png": "[encoded data removed]"
          },
          "metadata": {
            "needs_background": "light"
          }
        }
      ]
    },
    {
      "cell_type": "code",
      "source": [
        "plt.plot(range(1, iterations + 1),loss_history, color='blue')\n",
        "plt.rcParams[\"figure.figsize\"] = (10,6)\n",
        "plt.grid()\n",
        "plt.xlabel('Number of iterations')\n",
        "plt.ylabel('Loss (J)')\n",
        "plt.title('Convergence of gradient descent')"
      ],
      "metadata": {
        "colab": {
          "base_uri": "https://localhost:8080/",
          "height": 422
        },
        "id": "7vNArFgoxA_m",
        "outputId": "4bd7129e-a40f-4d37-8410-82188a75fd49"
      },
      "execution_count": 329,
      "outputs": [
        {
          "output_type": "execute_result",
          "data": {
            "text/plain": [
              "Text(0.5, 1.0, 'Convergence of gradient descent')"
            ]
          },
          "metadata": {},
          "execution_count": 329
        },
        {
          "output_type": "display_data",
          "data": {
            "text/plain": [
              "<Figure size 720x432 with 1 Axes>"
            ],
            "image/png": "[encoded data removed]"
          },
          "metadata": {
            "needs_background": "light"
          }
        }
      ]
    },
    {
      "cell_type": "markdown",
      "source": [
        "Problem 2"
      ],
      "metadata": {
        "id": "MHWX9VqMyZ11"
      }
    },
    {
      "cell_type": "code",
      "source": [
        "df2 = df\n",
        "df2.head() # To get first n rows from the dataset default value of n is 5\n",
        "\n",
        "df2 = pd.concat([pd.Series(1, index=df2.index, name = 'X0'), df2], axis=1)\n",
        "df2.head() # To get first n rows from the dataset default value of n is 5"
      ],
      "metadata": {
        "colab": {
          "base_uri": "https://localhost:8080/",
          "height": 206
        },
        "id": "dm4RdrvgygSt",
        "outputId": "973683b2-c22b-430e-bda2-18ea0473c9e2"
      },
      "execution_count": 330,
      "outputs": [
        {
          "output_type": "execute_result",
          "data": {
            "text/plain": [
              "   X0        X1        X2        X3         Y\n",
              "0   1  0.000000  3.440000  0.440000  4.387545\n",
              "1   1  0.040404  0.134949  0.888485  2.679650\n",
              "2   1  0.080808  0.829899  1.336970  2.968490\n",
              "3   1  0.121212  1.524848  1.785455  3.254065\n",
              "4   1  0.161616  2.219798  2.233939  3.536375"
            ],
            "text/html": [
              "\n",
              "  <div id=\"df-0613bd04-4bbc-41d4-94f0-7e8f1544ba01\">\n",
              "    <div class=\"colab-df-container\">\n",
              "      <div>\n",
              "<style scoped>\n",
              "    .dataframe tbody tr th:only-of-type {\n",
              "        vertical-align: middle;\n",
              "    }\n",
              "\n",
              "    .dataframe tbody tr th {\n",
              "        vertical-align: top;\n",
              "    }\n",
              "\n",
              "    .dataframe thead th {\n",
              "        text-align: right;\n",
              "    }\n",
              "</style>\n",
              "<table border=\"1\" class=\"dataframe\">\n",
              "  <thead>\n",
              "    <tr style=\"text-align: right;\">\n",
              "      <th></th>\n",
              "      <th>X0</th>\n",
              "      <th>X1</th>\n",
              "      <th>X2</th>\n",
              "      <th>X3</th>\n",
              "      <th>Y</th>\n",
              "    </tr>\n",
              "  </thead>\n",
              "  <tbody>\n",
              "    <tr>\n",
              "      <th>0</th>\n",
              "      <td>1</td>\n",
              "      <td>0.000000</td>\n",
              "      <td>3.440000</td>\n",
              "      <td>0.440000</td>\n",
              "      <td>4.387545</td>\n",
              "    </tr>\n",
              "    <tr>\n",
              "      <th>1</th>\n",
              "      <td>1</td>\n",
              "      <td>0.040404</td>\n",
              "      <td>0.134949</td>\n",
              "      <td>0.888485</td>\n",
              "      <td>2.679650</td>\n",
              "    </tr>\n",
              "    <tr>\n",
              "      <th>2</th>\n",
              "      <td>1</td>\n",
              "      <td>0.080808</td>\n",
              "      <td>0.829899</td>\n",
              "      <td>1.336970</td>\n",
              "      <td>2.968490</td>\n",
              "    </tr>\n",
              "    <tr>\n",
              "      <th>3</th>\n",
              "      <td>1</td>\n",
              "      <td>0.121212</td>\n",
              "      <td>1.524848</td>\n",
              "      <td>1.785455</td>\n",
              "      <td>3.254065</td>\n",
              "    </tr>\n",
              "    <tr>\n",
              "      <th>4</th>\n",
              "      <td>1</td>\n",
              "      <td>0.161616</td>\n",
              "      <td>2.219798</td>\n",
              "      <td>2.233939</td>\n",
              "      <td>3.536375</td>\n",
              "    </tr>\n",
              "  </tbody>\n",
              "</table>\n",
              "</div>\n",
              "      <button class=\"colab-df-convert\" onclick=\"convertToInteractive('df-0613bd04-4bbc-41d4-94f0-7e8f1544ba01')\"\n",
              "              title=\"Convert this dataframe to an interactive table.\"\n",
              "              style=\"display:none;\">\n",
              "        \n",
              "  <svg xmlns=\"http://www.w3.org/2000/svg\" height=\"24px\"viewBox=\"0 0 24 24\"\n",
              "       width=\"24px\">\n",
              "    <path d=\"M0 0h24v24H0V0z\" fill=\"none\"/>\n",
              "    <path d=\"M18.56 5.44l.94 2.06.94-2.06 2.06-.94-2.06-.94-.94-2.06-.94 2.06-2.06.94zm-11 1L8.5 8.5l.94-2.06 2.06-.94-2.06-.94L8.5 2.5l-.94 2.06-2.06.94zm10 10l.94 2.06.94-2.06 2.06-.94-2.06-.94-.94-2.06-.94 2.06-2.06.94z\"/><path d=\"M17.41 7.96l-1.37-1.37c-.4-.4-.92-.59-1.43-.59-.52 0-1.04.2-1.43.59L10.3 9.45l-7.72 7.72c-.78.78-.78 2.05 0 2.83L4 21.41c.39.39.9.59 1.41.59.51 0 1.02-.2 1.41-.59l7.78-7.78 2.81-2.81c.8-.78.8-2.07 0-2.86zM5.41 20L4 18.59l7.72-7.72 1.47 1.35L5.41 20z\"/>\n",
              "  </svg>\n",
              "      </button>\n",
              "      \n",
              "  <style>\n",
              "    .colab-df-container {\n",
              "      display:flex;\n",
              "      flex-wrap:wrap;\n",
              "      gap: 12px;\n",
              "    }\n",
              "\n",
              "    .colab-df-convert {\n",
              "      background-color: #E8F0FE;\n",
              "      border: none;\n",
              "      border-radius: 50%;\n",
              "      cursor: pointer;\n",
              "      display: none;\n",
              "      fill: #1967D2;\n",
              "      height: 32px;\n",
              "      padding: 0 0 0 0;\n",
              "      width: 32px;\n",
              "    }\n",
              "\n",
              "    .colab-df-convert:hover {\n",
              "      background-color: #E2EBFA;\n",
              "      box-shadow: 0px 1px 2px rgba(60, 64, 67, 0.3), 0px 1px 3px 1px rgba(60, 64, 67, 0.15);\n",
              "      fill: #174EA6;\n",
              "    }\n",
              "\n",
              "    [theme=dark] .colab-df-convert {\n",
              "      background-color: #3B4455;\n",
              "      fill: #D2E3FC;\n",
              "    }\n",
              "\n",
              "    [theme=dark] .colab-df-convert:hover {\n",
              "      background-color: #434B5C;\n",
              "      box-shadow: 0px 1px 3px 1px rgba(0, 0, 0, 0.15);\n",
              "      filter: drop-shadow(0px 1px 2px rgba(0, 0, 0, 0.3));\n",
              "      fill: #FFFFFF;\n",
              "    }\n",
              "  </style>\n",
              "\n",
              "      <script>\n",
              "        const buttonEl =\n",
              "          document.querySelector('#df-0613bd04-4bbc-41d4-94f0-7e8f1544ba01 button.colab-df-convert');\n",
              "        buttonEl.style.display =\n",
              "          google.colab.kernel.accessAllowed ? 'block' : 'none';\n",
              "\n",
              "        async function convertToInteractive(key) {\n",
              "          const element = document.querySelector('#df-0613bd04-4bbc-41d4-94f0-7e8f1544ba01');\n",
              "          const dataTable =\n",
              "            await google.colab.kernel.invokeFunction('convertToInteractive',\n",
              "                                                     [key], {});\n",
              "          if (!dataTable) return;\n",
              "\n",
              "          const docLinkHtml = 'Like what you see? Visit the ' +\n",
              "            '<a target=\"_blank\" href=https://colab.research.google.com/notebooks/data_table.ipynb>data table notebook</a>'\n",
              "            + ' to learn more about interactive tables.';\n",
              "          element.innerHTML = '';\n",
              "          dataTable['output_type'] = 'display_data';\n",
              "          await google.colab.output.renderOutput(dataTable, element);\n",
              "          const docLink = document.createElement('div');\n",
              "          docLink.innerHTML = docLinkHtml;\n",
              "          element.appendChild(docLink);\n",
              "        }\n",
              "      </script>\n",
              "    </div>\n",
              "  </div>\n",
              "  "
            ]
          },
          "metadata": {},
          "execution_count": 330
        }
      ]
    },
    {
      "cell_type": "code",
      "source": [
        "df2.shape"
      ],
      "metadata": {
        "colab": {
          "base_uri": "https://localhost:8080/",
          "height": 0
        },
        "id": "DQIjE_Gh2Flv",
        "outputId": "2d55eac3-4817-4639-f1b3-7919e81a6649"
      },
      "execution_count": 331,
      "outputs": [
        {
          "output_type": "execute_result",
          "data": {
            "text/plain": [
              "(100, 5)"
            ]
          },
          "metadata": {},
          "execution_count": 331
        }
      ]
    },
    {
      "cell_type": "code",
      "source": [
        "newX = df2.drop(columns = 'Y')\n",
        "newX.head()\n",
        "newY = df2.iloc[:,4]"
      ],
      "metadata": {
        "id": "YxPOYOAA2WMC"
      },
      "execution_count": 332,
      "outputs": []
    },
    {
      "cell_type": "code",
      "source": [
        "newTheta = np.array([0]*len(newX.columns))\n",
        "newLoss = compute_loss(newX,newY,newTheta)\n",
        "print('The loss for the given values of theta_0 & theta_1 =', newLoss)"
      ],
      "metadata": {
        "colab": {
          "base_uri": "https://localhost:8080/",
          "height": 0
        },
        "id": "C_3hmO5F25Y0",
        "outputId": "5e262ffa-0471-44d7-e664-4d04e45cd876"
      },
      "execution_count": 333,
      "outputs": [
        {
          "output_type": "stream",
          "name": "stdout",
          "text": [
            "The loss for the given values of theta_0 & theta_1 = 5.524438459196242\n"
          ]
        }
      ]
    },
    {
      "cell_type": "code",
      "source": [
        "newTheta = [0., 0., 0., 0.]\n",
        "newIterations = 500;\n",
        "newAlpha = 0.1;"
      ],
      "metadata": {
        "id": "HYoJy6K04of-"
      },
      "execution_count": 334,
      "outputs": []
    },
    {
      "cell_type": "code",
      "source": [
        "newTheta, newLoss = gradient_descent(newX, newY, newTheta, newAlpha, newIterations)\n",
        "print('Final value of the new theta =', newTheta)\n",
        "print('newLoss =', newLoss)"
      ],
      "metadata": {
        "colab": {
          "base_uri": "https://localhost:8080/",
          "height": 0
        },
        "id": "zi6bEKD36B7p",
        "outputId": "f13c36c2-c8c7-40c4-ddf3-f3c46415b32d"
      },
      "execution_count": 335,
      "outputs": [
        {
          "output_type": "stream",
          "name": "stdout",
          "text": [
            "Final value of the new theta = X0    5.279508\n",
            "X1   -1.998823\n",
            "X2    0.538291\n",
            "X3   -0.260522\n",
            "dtype: float64\n",
            "newLoss = [4.13064348 3.51770697 3.12758306 2.84173082 2.6232134  2.45337153\n",
            " 2.31980849 2.21352203 2.12782089 2.05770031 1.99940853 1.95012933\n",
            " 1.90774619 1.87066655 1.83769052 1.80791283 1.78064937 1.75538231\n",
            " 1.7317189  1.70936057 1.68807977 1.66770254 1.64809537 1.62915539\n",
            " 1.61080291 1.59297582 1.57562536 1.5587129  1.54220757 1.52608438\n",
            " 1.51032287 1.49490602 1.4798195  1.46505102 1.45058989 1.43642665\n",
            " 1.42255284 1.40896075 1.39564327 1.38259381 1.36980617 1.35727446\n",
            " 1.3449931  1.3329567  1.32116011 1.30959833 1.29826652 1.28715998\n",
            " 1.27627412 1.26560449 1.25514673 1.2448966  1.23484993 1.22500266\n",
            " 1.21535081 1.20589048 1.19661787 1.18752924 1.17862092 1.16988935\n",
            " 1.161331   1.15294244 1.1447203  1.13666127 1.12876211 1.12101965\n",
            " 1.11343079 1.10599247 1.09870171 1.09155559 1.08455122 1.0776858\n",
            " 1.07095657 1.06436083 1.05789594 1.05155929 1.04534834 1.0392606\n",
            " 1.03329363 1.02744502 1.02171243 1.01609357 1.01058616 1.00518801\n",
            " 0.99989694 0.99471083 0.9896276  0.98464521 0.97976166 0.97497498\n",
            " 0.97028325 0.9656846  0.96117717 0.95675916 0.95242879 0.94818432\n",
            " 0.94402404 0.9399463  0.93594945 0.93203189 0.92819204 0.92442836\n",
            " 0.92073934 0.9171235  0.91357939 0.91010559 0.90670069 0.90336334\n",
            " 0.9000922  0.89688594 0.89374329 0.89066298 0.88764377 0.88468446\n",
            " 0.88178385 0.87894079 0.87615412 0.87342273 0.87074552 0.86812142\n",
            " 0.86554938 0.86302836 0.86055735 0.85813536 0.85576141 0.85343456\n",
            " 0.85115386 0.84891841 0.8467273  0.84457966 0.84247462 0.84041134\n",
            " 0.83838899 0.83640676 0.83446384 0.83255948 0.83069288 0.82886332\n",
            " 0.82707005 0.82531236 0.82358953 0.82190088 0.82024572 0.8186234\n",
            " 0.81703326 0.81547467 0.81394699 0.81244962 0.81098196 0.8095434\n",
            " 0.80813339 0.80675134 0.80539671 0.80406896 0.80276754 0.80149194\n",
            " 0.80024164 0.79901615 0.79781496 0.79663761 0.79548361 0.7943525\n",
            " 0.79324383 0.79215715 0.79109203 0.79004804 0.78902476 0.78802178\n",
            " 0.78703869 0.78607511 0.78513064 0.78420491 0.78329754 0.78240817\n",
            " 0.78153644 0.78068201 0.77984452 0.77902365 0.77821906 0.77743044\n",
            " 0.77665746 0.77589981 0.77515719 0.7744293  0.77371585 0.77301656\n",
            " 0.77233113 0.77165931 0.77100081 0.77035537 0.76972274 0.76910266\n",
            " 0.76849488 0.76789915 0.76731524 0.76674292 0.76618195 0.7656321\n",
            " 0.76509317 0.76456492 0.76404716 0.76353966 0.76304223 0.76255467\n",
            " 0.76207679 0.76160838 0.76114926 0.76069925 0.76025817 0.75982584\n",
            " 0.75940208 0.75898673 0.75857962 0.75818059 0.75778947 0.75740611\n",
            " 0.75703036 0.75666206 0.75630106 0.75594723 0.75560041 0.75526048\n",
            " 0.75492729 0.75460071 0.7542806  0.75396685 0.75365932 0.75335789\n",
            " 0.75306244 0.75277286 0.75248901 0.7522108  0.7519381  0.75167082\n",
            " 0.75140884 0.75115205 0.75090036 0.75065366 0.75041186 0.75017485\n",
            " 0.74994254 0.74971485 0.74949166 0.74927291 0.7490585  0.74884834\n",
            " 0.74864234 0.74844044 0.74824254 0.74804856 0.74785844 0.74767208\n",
            " 0.74748942 0.74731039 0.7471349  0.7469629  0.74679431 0.74662907\n",
            " 0.7464671  0.74630834 0.74615274 0.74600022 0.74585073 0.7457042\n",
            " 0.74556058 0.74541981 0.74528183 0.74514659 0.74501403 0.7448841\n",
            " 0.74475674 0.74463192 0.74450957 0.74438965 0.7442721  0.74415689\n",
            " 0.74404396 0.74393328 0.74382479 0.74371845 0.74361422 0.74351206\n",
            " 0.74341192 0.74331377 0.74321757 0.74312328 0.74303086 0.74294027\n",
            " 0.74285148 0.74276444 0.74267914 0.74259553 0.74251358 0.74243325\n",
            " 0.74235451 0.74227734 0.7422017  0.74212756 0.74205489 0.74198366\n",
            " 0.74191384 0.74184541 0.74177834 0.7417126  0.74164816 0.741585\n",
            " 0.74152309 0.74146241 0.74140294 0.74134464 0.7412875  0.7412315\n",
            " 0.7411766  0.7411228  0.74107006 0.74101837 0.7409677  0.74091804\n",
            " 0.74086936 0.74082165 0.74077488 0.74072905 0.74068412 0.74064008\n",
            " 0.74059692 0.74055461 0.74051315 0.7404725  0.74043266 0.74039362\n",
            " 0.74035534 0.74031783 0.74028106 0.74024502 0.74020969 0.74017507\n",
            " 0.74014113 0.74010786 0.74007526 0.7400433  0.74001198 0.73998127\n",
            " 0.73995118 0.73992168 0.73989277 0.73986443 0.73983666 0.73980943\n",
            " 0.73978275 0.73975659 0.73973096 0.73970583 0.7396812  0.73965706\n",
            " 0.73963339 0.7396102  0.73958747 0.73956519 0.73954335 0.73952194\n",
            " 0.73950096 0.73948039 0.73946024 0.73944048 0.73942111 0.73940213\n",
            " 0.73938353 0.73936529 0.73934742 0.7393299  0.73931272 0.73929589\n",
            " 0.73927939 0.73926322 0.73924737 0.73923184 0.73921661 0.73920169\n",
            " 0.73918706 0.73917272 0.73915866 0.73914489 0.73913139 0.73911815\n",
            " 0.73910518 0.73909247 0.73908    0.73906779 0.73905582 0.73904408\n",
            " 0.73903258 0.7390213  0.73901025 0.73899942 0.73898881 0.7389784\n",
            " 0.7389682  0.7389582  0.7389484  0.7389388  0.73892939 0.73892016\n",
            " 0.73891112 0.73890225 0.73889356 0.73888504 0.7388767  0.73886852\n",
            " 0.7388605  0.73885263 0.73884493 0.73883738 0.73882998 0.73882272\n",
            " 0.73881561 0.73880864 0.73880181 0.73879511 0.73878855 0.73878211\n",
            " 0.73877581 0.73876963 0.73876357 0.73875763 0.73875181 0.73874611\n",
            " 0.73874052 0.73873504 0.73872966 0.7387244  0.73871924 0.73871418\n",
            " 0.73870922 0.73870436 0.7386996  0.73869493 0.73869035 0.73868587\n",
            " 0.73868147 0.73867716 0.73867294 0.7386688  0.73866474 0.73866076\n",
            " 0.73865686 0.73865304 0.7386493  0.73864563 0.73864203 0.7386385\n",
            " 0.73863505 0.73863166 0.73862834 0.73862508 0.73862189 0.73861876\n",
            " 0.7386157  0.73861269 0.73860975 0.73860686 0.73860403 0.73860126\n",
            " 0.73859854 0.73859588 0.73859327 0.73859071 0.7385882  0.73858574\n",
            " 0.73858333 0.73858097 0.73857865 0.73857638 0.73857416 0.73857198\n",
            " 0.73856984 0.73856774 0.73856569 0.73856368 0.73856171 0.73855977\n",
            " 0.73855788 0.73855602 0.7385542  0.73855242 0.73855067 0.73854895\n",
            " 0.73854727 0.73854562 0.73854401 0.73854243 0.73854088 0.73853936\n",
            " 0.73853787 0.73853641 0.73853497 0.73853357 0.7385322  0.73853085\n",
            " 0.73852953 0.73852823]\n"
          ]
        }
      ]
    },
    {
      "cell_type": "code",
      "source": [
        "plt.plot(range(1,newIterations + 1), newLoss, color = 'green')\n",
        "plt.rcParams[\"figure.figsize\"] = (10,6)\n",
        "plt.grid()\n",
        "plt.xlabel('Number of Iterations')\n",
        "plt.ylabel('Loss (J)')\n",
        "plt.title('Convergence of Gradient Descent')"
      ],
      "metadata": {
        "colab": {
          "base_uri": "https://localhost:8080/",
          "height": 422
        },
        "id": "Yodgm4wM7Bn4",
        "outputId": "250f064a-c874-49f9-8860-2b7fbc2aa47e"
      },
      "execution_count": 336,
      "outputs": [
        {
          "output_type": "execute_result",
          "data": {
            "text/plain": [
              "Text(0.5, 1.0, 'Convergence of Gradient Descent')"
            ]
          },
          "metadata": {},
          "execution_count": 336
        },
        {
          "output_type": "display_data",
          "data": {
            "text/plain": [
              "<Figure size 720x432 with 1 Axes>"
            ],
            "image/png": "[encoded data removed]"
          },
          "metadata": {
            "needs_background": "light"
          }
        }
      ]
    },
    {
      "cell_type": "code",
      "source": [
        "data = {'newX1' : [1,2,3], 'newX2' : [1,0,2], 'newX3' : [1,4,1]}\n",
        "newDF = pd.DataFrame(data)\n",
        "newDF = pd.concat([pd.Series(1, index=newDF.index, name='newX0'),newDF], axis=1)\n",
        "newDF.head()\n",
        "newDF = newDF.to_numpy()\n",
        "newTheta = newTheta.to_numpy()"
      ],
      "metadata": {
        "id": "IQDKTTGK8AhG"
      },
      "execution_count": 337,
      "outputs": []
    },
    {
      "cell_type": "code",
      "source": [
        "def hypo(newTheta, newDF):\n",
        "   hypo = newDF.dot(newTheta)\n",
        "   return hypo"
      ],
      "metadata": {
        "id": "8nxPQE3s-VO9"
      },
      "execution_count": 338,
      "outputs": []
    },
    {
      "cell_type": "code",
      "source": [
        "y_com = hypo(newTheta, newDF)\n",
        "print(\"Predicted Value = \", y_com)"
      ],
      "metadata": {
        "colab": {
          "base_uri": "https://localhost:8080/",
          "height": 0
        },
        "id": "kUBMJeM3-TFA",
        "outputId": "d8745599-0611-4ad4-f1ea-0840e6607465"
      },
      "execution_count": 339,
      "outputs": [
        {
          "output_type": "stream",
          "name": "stdout",
          "text": [
            "Predicted Value =  [3.5584538  0.23977565 0.09909828]\n"
          ]
        }
      ]
    }
  ]
}