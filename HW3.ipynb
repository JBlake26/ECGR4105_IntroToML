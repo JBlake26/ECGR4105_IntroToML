{
  "nbformat": 4,
  "nbformat_minor": 0,
  "metadata": {
    "colab": {
      "provenance": [],
      "collapsed_sections": [],
      "mount_file_id": "1nkK2k0tyxes4AkN461v4uibZpwgyjlgi",
      "authorship_tag": "ABX9TyNx+8cnkyWhg+fiqd/j30K/",
      "include_colab_link": true
    },
    "kernelspec": {
      "name": "python3",
      "display_name": "Python 3"
    },
    "language_info": {
      "name": "python"
    }
  },
  "cells": [
    {
      "cell_type": "markdown",
      "metadata": {
        "id": "view-in-github",
        "colab_type": "text"
      },
      "source": [
        "<a href=\"https://colab.research.google.com/github/JBlake26/ECGR4105_IntroToML/blob/main/HW3.ipynb\" target=\"_parent\"><img src=\"https://colab.research.google.com/assets/colab-badge.svg\" alt=\"Open In Colab\"/></a>"
      ]
    },
    {
      "cell_type": "markdown",
      "source": [
        "**Homework 3**\n",
        "\n",
        "In this homework, we will use the cancer dataset. (Note: You can use the built-in function from ML libraries for gradient descent, training, and validation.) Also, sample code for accessing and cleaning up the dataset provided in Canvas. For the evaluation of this homework across all problems, use 80%, 20% split."
      ],
      "metadata": {
        "id": "s5DIrVrHmEbD"
      }
    },
    {
      "cell_type": "code",
      "execution_count": 1,
      "metadata": {
        "id": "b-DP80JwlPnM"
      },
      "outputs": [],
      "source": [
        "#drive.mount('/content/drive/')\n",
        "import pandas as pd\n",
        "import numpy as np\n",
        "import matplotlib.pyplot as plt\n",
        "import seaborn as sns\n",
        "import warnings\n",
        "from sklearn.model_selection import KFold \n",
        "from sklearn.model_selection import cross_val_score\n",
        "from sklearn.model_selection import train_test_split\n",
        "from sklearn.linear_model import LogisticRegression\n",
        "from sklearn.linear_model import LogisticRegression \n",
        "from sklearn import datasets\n",
        "from sklearn import metrics\n",
        "from sklearn import preprocessing\n",
        "from sklearn.metrics import confusion_matrix\n",
        "from sklearn.metrics import classification_report\n",
        "from sklearn.preprocessing import StandardScaler\n",
        "from matplotlib.colors import ListedColormap\n",
        "from sklearn.datasets import load_breast_cancer\n",
        "from sklearn.naive_bayes import GaussianNB\n",
        "from sklearn.decomposition import PCA"
      ]
    },
    {
      "cell_type": "markdown",
      "source": [
        "Problem 1\n",
        "\n",
        "Use the cancer dataset to build a Naïve Bayesian model to classify the type of cancer (Malignant vs. benign). Plot your classification accuracy, precision, and recall. Explain and elaborate on your results. Can you compare your results against the logistic regression classifier you did in previous homework."
      ],
      "metadata": {
        "id": "dtFamFU6mJhW"
      }
    },
    {
      "cell_type": "code",
      "source": [
        "class_model = GaussianNB()\n",
        "data_set = datasets.load_breast_cancer()\n",
        "\n",
        "class_model.fit(data_set.data,data_set.target)"
      ],
      "metadata": {
        "id": "qTQH8Z9n6ns7",
        "colab": {
          "base_uri": "https://localhost:8080/"
        },
        "outputId": "5c711f2e-97e2-4201-eedc-31611764889c"
      },
      "execution_count": 2,
      "outputs": [
        {
          "output_type": "execute_result",
          "data": {
            "text/plain": [
              "GaussianNB()"
            ]
          },
          "metadata": {},
          "execution_count": 2
        }
      ]
    },
    {
      "cell_type": "code",
      "source": [
        "predicted = class_model.predict(data_set.data)\n",
        "expected = data_set.target\n",
        "\n",
        "print(metrics.classification_report(expected,predicted))\n",
        "print(metrics.confusion_matrix(expected,predicted))"
      ],
      "metadata": {
        "colab": {
          "base_uri": "https://localhost:8080/"
        },
        "id": "lHxS7eS6s0w_",
        "outputId": "2672a731-dce0-46e5-ccd5-f13ae02fe771"
      },
      "execution_count": 3,
      "outputs": [
        {
          "output_type": "stream",
          "name": "stdout",
          "text": [
            "              precision    recall  f1-score   support\n",
            "\n",
            "           0       0.95      0.89      0.92       212\n",
            "           1       0.94      0.97      0.95       357\n",
            "\n",
            "    accuracy                           0.94       569\n",
            "   macro avg       0.94      0.93      0.94       569\n",
            "weighted avg       0.94      0.94      0.94       569\n",
            "\n",
            "[[189  23]\n",
            " [ 10 347]]\n"
          ]
        }
      ]
    },
    {
      "cell_type": "code",
      "source": [
        "print(\"Accuracy:\",metrics.accuracy_score(expected,predicted))\n",
        "print(\"Precision:\",metrics.precision_score(expected,predicted))\n",
        "print(\"Recall:\",metrics.recall_score(expected,predicted))"
      ],
      "metadata": {
        "colab": {
          "base_uri": "https://localhost:8080/"
        },
        "id": "deEfexNctbWl",
        "outputId": "d783f5b3-ff53-47d6-e739-de098da9f203"
      },
      "execution_count": 4,
      "outputs": [
        {
          "output_type": "stream",
          "name": "stdout",
          "text": [
            "Accuracy: 0.9420035149384886\n",
            "Precision: 0.9378378378378378\n",
            "Recall: 0.9719887955182073\n"
          ]
        }
      ]
    },
    {
      "cell_type": "markdown",
      "source": [
        "Problem 2\n",
        "\n",
        "Use the cancer dataset to build a logistic regression model to classify the type of cancer (Malignant vs. benign). Use the PCA feature extraction for your training. Perform N number of independent training (N=1, …, K). Identify the optimum number of K, principal components that achieve the highest classification accuracy. Plot your classification accuracy, precision, and recall over a different number of Ks. Explain and elaborate on your results."
      ],
      "metadata": {
        "id": "r-ry9fEzmPJJ"
      }
    },
    {
      "cell_type": "code",
      "source": [
        "data_set = load_breast_cancer()\n",
        "input_data = pd.DataFrame(data_set.data)\n",
        "input_data.head"
      ],
      "metadata": {
        "colab": {
          "base_uri": "https://localhost:8080/"
        },
        "id": "0XC5xIK4wx0u",
        "outputId": "1841ed6d-9457-40c9-d522-93bb368b3148"
      },
      "execution_count": 5,
      "outputs": [
        {
          "output_type": "execute_result",
          "data": {
            "text/plain": [
              "<bound method NDFrame.head of         0      1       2       3        4        5        6        7       8   \\\n",
              "0    17.99  10.38  122.80  1001.0  0.11840  0.27760  0.30010  0.14710  0.2419   \n",
              "1    20.57  17.77  132.90  1326.0  0.08474  0.07864  0.08690  0.07017  0.1812   \n",
              "2    19.69  21.25  130.00  1203.0  0.10960  0.15990  0.19740  0.12790  0.2069   \n",
              "3    11.42  20.38   77.58   386.1  0.14250  0.28390  0.24140  0.10520  0.2597   \n",
              "4    20.29  14.34  135.10  1297.0  0.10030  0.13280  0.19800  0.10430  0.1809   \n",
              "..     ...    ...     ...     ...      ...      ...      ...      ...     ...   \n",
              "564  21.56  22.39  142.00  1479.0  0.11100  0.11590  0.24390  0.13890  0.1726   \n",
              "565  20.13  28.25  131.20  1261.0  0.09780  0.10340  0.14400  0.09791  0.1752   \n",
              "566  16.60  28.08  108.30   858.1  0.08455  0.10230  0.09251  0.05302  0.1590   \n",
              "567  20.60  29.33  140.10  1265.0  0.11780  0.27700  0.35140  0.15200  0.2397   \n",
              "568   7.76  24.54   47.92   181.0  0.05263  0.04362  0.00000  0.00000  0.1587   \n",
              "\n",
              "          9   ...      20     21      22      23       24       25      26  \\\n",
              "0    0.07871  ...  25.380  17.33  184.60  2019.0  0.16220  0.66560  0.7119   \n",
              "1    0.05667  ...  24.990  23.41  158.80  1956.0  0.12380  0.18660  0.2416   \n",
              "2    0.05999  ...  23.570  25.53  152.50  1709.0  0.14440  0.42450  0.4504   \n",
              "3    0.09744  ...  14.910  26.50   98.87   567.7  0.20980  0.86630  0.6869   \n",
              "4    0.05883  ...  22.540  16.67  152.20  1575.0  0.13740  0.20500  0.4000   \n",
              "..       ...  ...     ...    ...     ...     ...      ...      ...     ...   \n",
              "564  0.05623  ...  25.450  26.40  166.10  2027.0  0.14100  0.21130  0.4107   \n",
              "565  0.05533  ...  23.690  38.25  155.00  1731.0  0.11660  0.19220  0.3215   \n",
              "566  0.05648  ...  18.980  34.12  126.70  1124.0  0.11390  0.30940  0.3403   \n",
              "567  0.07016  ...  25.740  39.42  184.60  1821.0  0.16500  0.86810  0.9387   \n",
              "568  0.05884  ...   9.456  30.37   59.16   268.6  0.08996  0.06444  0.0000   \n",
              "\n",
              "         27      28       29  \n",
              "0    0.2654  0.4601  0.11890  \n",
              "1    0.1860  0.2750  0.08902  \n",
              "2    0.2430  0.3613  0.08758  \n",
              "3    0.2575  0.6638  0.17300  \n",
              "4    0.1625  0.2364  0.07678  \n",
              "..      ...     ...      ...  \n",
              "564  0.2216  0.2060  0.07115  \n",
              "565  0.1628  0.2572  0.06637  \n",
              "566  0.1418  0.2218  0.07820  \n",
              "567  0.2650  0.4087  0.12400  \n",
              "568  0.0000  0.2871  0.07039  \n",
              "\n",
              "[569 rows x 30 columns]>"
            ]
          },
          "metadata": {},
          "execution_count": 5
        }
      ]
    },
    {
      "cell_type": "code",
      "source": [
        "# data labeling\n",
        "\n",
        "labels = data_set.target\n",
        "labels.shape"
      ],
      "metadata": {
        "colab": {
          "base_uri": "https://localhost:8080/"
        },
        "id": "zflPEkbPyMTg",
        "outputId": "37b5749b-992d-467a-e463-fd9b1892c55f"
      },
      "execution_count": 6,
      "outputs": [
        {
          "output_type": "execute_result",
          "data": {
            "text/plain": [
              "(569,)"
            ]
          },
          "metadata": {},
          "execution_count": 6
        }
      ]
    },
    {
      "cell_type": "code",
      "source": [
        "# reshape data\n",
        "\n",
        "labels = np.reshape(labels,(569,1))\n",
        "\n",
        "# add labels\n",
        "\n",
        "final_cancer_data = np.concatenate([input_data,labels],axis=1)"
      ],
      "metadata": {
        "id": "4ALYWYREzyfQ"
      },
      "execution_count": 7,
      "outputs": []
    },
    {
      "cell_type": "code",
      "source": [
        "# data set table\n",
        "\n",
        "cancer_dataset = pd.DataFrame(final_cancer_data)\n",
        "features = data_set.feature_names\n",
        "features"
      ],
      "metadata": {
        "colab": {
          "base_uri": "https://localhost:8080/"
        },
        "id": "xpL2DPxN2pyW",
        "outputId": "24f19f90-36ae-455b-f589-db63aff5f2f2"
      },
      "execution_count": 8,
      "outputs": [
        {
          "output_type": "execute_result",
          "data": {
            "text/plain": [
              "array(['mean radius', 'mean texture', 'mean perimeter', 'mean area',\n",
              "       'mean smoothness', 'mean compactness', 'mean concavity',\n",
              "       'mean concave points', 'mean symmetry', 'mean fractal dimension',\n",
              "       'radius error', 'texture error', 'perimeter error', 'area error',\n",
              "       'smoothness error', 'compactness error', 'concavity error',\n",
              "       'concave points error', 'symmetry error',\n",
              "       'fractal dimension error', 'worst radius', 'worst texture',\n",
              "       'worst perimeter', 'worst area', 'worst smoothness',\n",
              "       'worst compactness', 'worst concavity', 'worst concave points',\n",
              "       'worst symmetry', 'worst fractal dimension'], dtype='<U23')"
            ]
          },
          "metadata": {},
          "execution_count": 8
        }
      ]
    },
    {
      "cell_type": "code",
      "source": [
        "features_label = np.append(features,'test')\n",
        "cancer_dataset.columns = features_label\n",
        "cancer_dataset.head"
      ],
      "metadata": {
        "colab": {
          "base_uri": "https://localhost:8080/"
        },
        "id": "wYaY8nYx3HZa",
        "outputId": "2771431c-128c-4601-b6f5-850f12031108"
      },
      "execution_count": 9,
      "outputs": [
        {
          "output_type": "execute_result",
          "data": {
            "text/plain": [
              "<bound method NDFrame.head of      mean radius  mean texture  mean perimeter  mean area  mean smoothness  \\\n",
              "0          17.99         10.38          122.80     1001.0          0.11840   \n",
              "1          20.57         17.77          132.90     1326.0          0.08474   \n",
              "2          19.69         21.25          130.00     1203.0          0.10960   \n",
              "3          11.42         20.38           77.58      386.1          0.14250   \n",
              "4          20.29         14.34          135.10     1297.0          0.10030   \n",
              "..           ...           ...             ...        ...              ...   \n",
              "564        21.56         22.39          142.00     1479.0          0.11100   \n",
              "565        20.13         28.25          131.20     1261.0          0.09780   \n",
              "566        16.60         28.08          108.30      858.1          0.08455   \n",
              "567        20.60         29.33          140.10     1265.0          0.11780   \n",
              "568         7.76         24.54           47.92      181.0          0.05263   \n",
              "\n",
              "     mean compactness  mean concavity  mean concave points  mean symmetry  \\\n",
              "0             0.27760         0.30010              0.14710         0.2419   \n",
              "1             0.07864         0.08690              0.07017         0.1812   \n",
              "2             0.15990         0.19740              0.12790         0.2069   \n",
              "3             0.28390         0.24140              0.10520         0.2597   \n",
              "4             0.13280         0.19800              0.10430         0.1809   \n",
              "..                ...             ...                  ...            ...   \n",
              "564           0.11590         0.24390              0.13890         0.1726   \n",
              "565           0.10340         0.14400              0.09791         0.1752   \n",
              "566           0.10230         0.09251              0.05302         0.1590   \n",
              "567           0.27700         0.35140              0.15200         0.2397   \n",
              "568           0.04362         0.00000              0.00000         0.1587   \n",
              "\n",
              "     mean fractal dimension  ...  worst texture  worst perimeter  worst area  \\\n",
              "0                   0.07871  ...          17.33           184.60      2019.0   \n",
              "1                   0.05667  ...          23.41           158.80      1956.0   \n",
              "2                   0.05999  ...          25.53           152.50      1709.0   \n",
              "3                   0.09744  ...          26.50            98.87       567.7   \n",
              "4                   0.05883  ...          16.67           152.20      1575.0   \n",
              "..                      ...  ...            ...              ...         ...   \n",
              "564                 0.05623  ...          26.40           166.10      2027.0   \n",
              "565                 0.05533  ...          38.25           155.00      1731.0   \n",
              "566                 0.05648  ...          34.12           126.70      1124.0   \n",
              "567                 0.07016  ...          39.42           184.60      1821.0   \n",
              "568                 0.05884  ...          30.37            59.16       268.6   \n",
              "\n",
              "     worst smoothness  worst compactness  worst concavity  \\\n",
              "0             0.16220            0.66560           0.7119   \n",
              "1             0.12380            0.18660           0.2416   \n",
              "2             0.14440            0.42450           0.4504   \n",
              "3             0.20980            0.86630           0.6869   \n",
              "4             0.13740            0.20500           0.4000   \n",
              "..                ...                ...              ...   \n",
              "564           0.14100            0.21130           0.4107   \n",
              "565           0.11660            0.19220           0.3215   \n",
              "566           0.11390            0.30940           0.3403   \n",
              "567           0.16500            0.86810           0.9387   \n",
              "568           0.08996            0.06444           0.0000   \n",
              "\n",
              "     worst concave points  worst symmetry  worst fractal dimension  test  \n",
              "0                  0.2654          0.4601                  0.11890   0.0  \n",
              "1                  0.1860          0.2750                  0.08902   0.0  \n",
              "2                  0.2430          0.3613                  0.08758   0.0  \n",
              "3                  0.2575          0.6638                  0.17300   0.0  \n",
              "4                  0.1625          0.2364                  0.07678   0.0  \n",
              "..                    ...             ...                      ...   ...  \n",
              "564                0.2216          0.2060                  0.07115   0.0  \n",
              "565                0.1628          0.2572                  0.06637   0.0  \n",
              "566                0.1418          0.2218                  0.07820   0.0  \n",
              "567                0.2650          0.4087                  0.12400   0.0  \n",
              "568                0.0000          0.2871                  0.07039   1.0  \n",
              "\n",
              "[569 rows x 31 columns]>"
            ]
          },
          "metadata": {},
          "execution_count": 9
        }
      ]
    },
    {
      "cell_type": "code",
      "source": [
        "X = cancer_dataset.iloc[:, [0,1,2,3,4,5,6,7,8,9,10,11,12,13,14,15,16,17,18,19,20,21,22,23,24,25,26,27,28,29,30]]\n",
        "Y = cancer_dataset.iloc[:,30].values\n",
        "\n",
        "import random\n",
        "X_train, X_test, Y_train, Y_test = train_test_split(X, Y, train_size=0.8, test_size = 0.2, random_state = 5)\n",
        "\n",
        "# standardize for overfitting\n",
        "\n",
        "sc_X = StandardScaler()\n",
        "X_train = sc_X.fit_transform(X_train)\n",
        "X_test = sc_X.transform(X_test)\n",
        "\n",
        "classifier = LogisticRegression(random_state=0)\n",
        "classifier.fit(X_train, Y_train)"
      ],
      "metadata": {
        "colab": {
          "base_uri": "https://localhost:8080/"
        },
        "id": "M2yFCmqC3cku",
        "outputId": "f2593c60-8830-45f9-a135-e0876779ef00"
      },
      "execution_count": 10,
      "outputs": [
        {
          "output_type": "execute_result",
          "data": {
            "text/plain": [
              "LogisticRegression(random_state=0)"
            ]
          },
          "metadata": {},
          "execution_count": 10
        }
      ]
    },
    {
      "cell_type": "code",
      "source": [
        "Y_pred = classifier.predict(X_test)\n",
        "Y_pred[0:9]"
      ],
      "metadata": {
        "colab": {
          "base_uri": "https://localhost:8080/"
        },
        "id": "5nVhcBkv6fxA",
        "outputId": "e7a724ba-3009-416c-fbc9-ab20ddb5ccb6"
      },
      "execution_count": 11,
      "outputs": [
        {
          "output_type": "execute_result",
          "data": {
            "text/plain": [
              "array([0., 1., 1., 1., 1., 0., 1., 1., 1.])"
            ]
          },
          "metadata": {},
          "execution_count": 11
        }
      ]
    },
    {
      "cell_type": "code",
      "source": [
        "# evaluation matrix\n",
        "\n",
        "cnfMatrix = confusion_matrix(Y_test, Y_pred)\n",
        "cnfMatrix"
      ],
      "metadata": {
        "colab": {
          "base_uri": "https://localhost:8080/"
        },
        "id": "OKpRevRx9BEO",
        "outputId": "2143c8db-f284-4a84-c8df-08e1bf4b4991"
      },
      "execution_count": 12,
      "outputs": [
        {
          "output_type": "execute_result",
          "data": {
            "text/plain": [
              "array([[47,  1],\n",
              "       [ 0, 66]])"
            ]
          },
          "metadata": {},
          "execution_count": 12
        }
      ]
    },
    {
      "cell_type": "code",
      "source": [
        "# evaluate\n",
        "\n",
        "accuracy = metrics.accuracy_score(Y_test, Y_pred)\n",
        "precision = metrics.precision_score(Y_test, Y_pred)\n",
        "recall = metrics.recall_score(Y_test, Y_pred)\n",
        "average = (accuracy+precision+recall)/3\n",
        "\n",
        "print(\"Accuracy:\",accuracy)\n",
        "print(\"Precision:\",precision)\n",
        "print(\"Recall:\",recall)\n",
        "print(\"Average:\",average)"
      ],
      "metadata": {
        "colab": {
          "base_uri": "https://localhost:8080/"
        },
        "id": "tCi5K6929vGq",
        "outputId": "080820cc-7023-487a-a848-497626b7cfa1"
      },
      "execution_count": 13,
      "outputs": [
        {
          "output_type": "stream",
          "name": "stdout",
          "text": [
            "Accuracy: 0.9912280701754386\n",
            "Precision: 0.9850746268656716\n",
            "Recall: 1.0\n",
            "Average: 0.9921008990137034\n"
          ]
        }
      ]
    },
    {
      "cell_type": "code",
      "source": [
        "# PCA Function\n",
        "\n",
        "x = cancer_dataset.loc[:,features].values\n",
        "y = cancer_dataset.loc[:,['test']].values\n",
        "\n",
        "x = StandardScaler().fit_transform(x)\n",
        "\n",
        "accuracyGraph = []\n",
        "precisionGraph = []\n",
        "recallGraph = []"
      ],
      "metadata": {
        "id": "KYIWdZtPATXF"
      },
      "execution_count": 14,
      "outputs": []
    },
    {
      "cell_type": "code",
      "source": [
        "# K loop for K values 30 inputs\n",
        "\n",
        "for k in range(1,31):\n",
        "  pca = PCA(n_components=k)\n",
        "  Components = pca.fit_transform(x)\n",
        "  df = pd.DataFrame(data = Components, columns = [*range(1,k+1)])\n",
        "  final_df = pd.concat([df, cancer_dataset[['test']]], axis=1)\n",
        "  outcome = final_df.pop(\"test\")\n",
        "\n",
        "  x2 = final_df.values\n",
        "  y2 = outcome.values\n",
        "  X_train, X_test, Y_train, Y_test = train_test_split(x2, y2, train_size=0.8, test_size = 0.2, random_state = 5)\n",
        "  classifier.fit(X_train, Y_train)\n",
        "\n",
        "  #prediction\n",
        "  Y_pred = classifier.predict(X_test)\n",
        "\n",
        "  cnfMatrix = confusion_matrix(Y_test, Y_pred)\n",
        "\n",
        "  accuracy = metrics.accuracy_score(Y_test, Y_pred)\n",
        "  accuracyGraph.append(accuracy)\n",
        "  precision = metrics.precision_score(Y_test, Y_pred)\n",
        "  precisionGraph.append(precision)\n",
        "  recall = metrics.recall_score(Y_test, Y_pred)\n",
        "  recallGraph.append(recall)\n",
        "  newAverage = (accuracy+precision+recall)/3\n",
        "  if average<newAverage:\n",
        "    average = newAverage\n",
        "    index=k"
      ],
      "metadata": {
        "id": "CspkQuVoCOU2"
      },
      "execution_count": 15,
      "outputs": []
    },
    {
      "cell_type": "code",
      "source": [
        "# PCA\n",
        "\n",
        "pca = PCA(n_components=k)\n",
        "components = pca.fit_transform(x)\n",
        "df = pd.DataFrame(data = components, columns = [*range(1,k+1)])\n",
        "final_df =pd.concat([df, cancer_dataset[['test']]], axis=1)\n",
        "\n",
        "x2 = final_df.values\n",
        "y2 = outcome.values\n",
        "X_train, X_test, Y_train, Y_test = train_test_split(x2, y2, train_size=0.8, test_size = 0.2, random_state = 5)\n",
        "classifier.fit(X_train, Y_train)"
      ],
      "metadata": {
        "colab": {
          "base_uri": "https://localhost:8080/"
        },
        "id": "msCqT9qSMLko",
        "outputId": "e7788c64-d156-437f-8326-84ae57f83ecb"
      },
      "execution_count": 16,
      "outputs": [
        {
          "output_type": "execute_result",
          "data": {
            "text/plain": [
              "LogisticRegression(random_state=0)"
            ]
          },
          "metadata": {},
          "execution_count": 16
        }
      ]
    },
    {
      "cell_type": "code",
      "source": [
        "# prediction\n",
        "Y_pred = classifier.predict(X_test)\n",
        "\n",
        "cnfMatrix = confusion_matrix(Y_test, Y_pred)\n",
        "\n",
        "print(\"Accuracy:\",metrics.accuracy_score(Y_test,Y_pred))\n",
        "print(\"Precision:\",metrics.precision_score(Y_test,Y_pred))\n",
        "print(\"Recall:\",metrics.recall_score(Y_test,Y_pred))\n",
        "print(\"Final k: \", k)"
      ],
      "metadata": {
        "colab": {
          "base_uri": "https://localhost:8080/"
        },
        "id": "Ax56yRzJO2oA",
        "outputId": "4d97d9dc-6257-4024-f6e3-222e44b809a8"
      },
      "execution_count": 17,
      "outputs": [
        {
          "output_type": "stream",
          "name": "stdout",
          "text": [
            "Accuracy: 0.9824561403508771\n",
            "Precision: 0.9705882352941176\n",
            "Recall: 1.0\n",
            "Final k:  30\n"
          ]
        }
      ]
    },
    {
      "cell_type": "code",
      "source": [
        "# Graph Evaluations\n",
        "\n",
        "plt.plot(accuracyGraph)\n",
        "plt.xlabel('# of Inputs')\n",
        "plt.ylabel('Accuracy')\n",
        "plt.title('Accuracy vs Inputs')\n",
        "plt.show()\n",
        "\n",
        "plt.plot(precisionGraph)\n",
        "plt.xlabel('# of Inputs')\n",
        "plt.ylabel('Precision')\n",
        "plt.title('Precision vs Inputs')\n",
        "plt.show()\n",
        "\n",
        "plt.plot(recallGraph)\n",
        "plt.xlabel('# of Inputs')\n",
        "plt.ylabel('Recall')\n",
        "plt.title('Recall vs Inputs')\n",
        "plt.show()"
      ],
      "metadata": {
        "colab": {
          "base_uri": "https://localhost:8080/",
          "height": 851
        },
        "id": "kTwbS9rWPmdn",
        "outputId": "442eb624-2209-4aed-e00a-59868580a08f"
      },
      "execution_count": 18,
      "outputs": [
        {
          "output_type": "display_data",
          "data": {
            "text/plain": [
              "<Figure size 432x288 with 1 Axes>"
            ],
            "image/png": "[encoded data removed]"
          },
          "metadata": {
            "needs_background": "light"
          }
        },
        {
          "output_type": "display_data",
          "data": {
            "text/plain": [
              "<Figure size 432x288 with 1 Axes>"
            ],
            "image/png": "[encoded data removed]"
          },
          "metadata": {
            "needs_background": "light"
          }
        },
        {
          "output_type": "display_data",
          "data": {
            "text/plain": [
              "<Figure size 432x288 with 1 Axes>"
            ],
            "image/png": "[encoded data removed]"
          },
          "metadata": {
            "needs_background": "light"
          }
        }
      ]
    },
    {
      "cell_type": "markdown",
      "source": [
        "Problem 3\n",
        "\n",
        "Can you repeat problem 2? This time, replace logistic regression with the Bayes classifier. Report your results (classification accuracy, precision, and recall). Compare your results against problem 2."
      ],
      "metadata": {
        "id": "4ScnP8HRhG-3"
      }
    },
    {
      "cell_type": "code",
      "source": [],
      "metadata": {
        "id": "EEQVjI9dSMmc"
      },
      "execution_count": 18,
      "outputs": []
    },
    {
      "cell_type": "code",
      "source": [
        "data_set = load_breast_cancer()\n",
        "input_data = pd.DataFrame(data_set.data)\n",
        "input_data.head"
      ],
      "metadata": {
        "colab": {
          "base_uri": "https://localhost:8080/"
        },
        "outputId": "9cfa2828-324f-47df-94bd-55c4b543ca06",
        "id": "F7za0rBrSRGf"
      },
      "execution_count": 19,
      "outputs": [
        {
          "output_type": "execute_result",
          "data": {
            "text/plain": [
              "<bound method NDFrame.head of         0      1       2       3        4        5        6        7       8   \\\n",
              "0    17.99  10.38  122.80  1001.0  0.11840  0.27760  0.30010  0.14710  0.2419   \n",
              "1    20.57  17.77  132.90  1326.0  0.08474  0.07864  0.08690  0.07017  0.1812   \n",
              "2    19.69  21.25  130.00  1203.0  0.10960  0.15990  0.19740  0.12790  0.2069   \n",
              "3    11.42  20.38   77.58   386.1  0.14250  0.28390  0.24140  0.10520  0.2597   \n",
              "4    20.29  14.34  135.10  1297.0  0.10030  0.13280  0.19800  0.10430  0.1809   \n",
              "..     ...    ...     ...     ...      ...      ...      ...      ...     ...   \n",
              "564  21.56  22.39  142.00  1479.0  0.11100  0.11590  0.24390  0.13890  0.1726   \n",
              "565  20.13  28.25  131.20  1261.0  0.09780  0.10340  0.14400  0.09791  0.1752   \n",
              "566  16.60  28.08  108.30   858.1  0.08455  0.10230  0.09251  0.05302  0.1590   \n",
              "567  20.60  29.33  140.10  1265.0  0.11780  0.27700  0.35140  0.15200  0.2397   \n",
              "568   7.76  24.54   47.92   181.0  0.05263  0.04362  0.00000  0.00000  0.1587   \n",
              "\n",
              "          9   ...      20     21      22      23       24       25      26  \\\n",
              "0    0.07871  ...  25.380  17.33  184.60  2019.0  0.16220  0.66560  0.7119   \n",
              "1    0.05667  ...  24.990  23.41  158.80  1956.0  0.12380  0.18660  0.2416   \n",
              "2    0.05999  ...  23.570  25.53  152.50  1709.0  0.14440  0.42450  0.4504   \n",
              "3    0.09744  ...  14.910  26.50   98.87   567.7  0.20980  0.86630  0.6869   \n",
              "4    0.05883  ...  22.540  16.67  152.20  1575.0  0.13740  0.20500  0.4000   \n",
              "..       ...  ...     ...    ...     ...     ...      ...      ...     ...   \n",
              "564  0.05623  ...  25.450  26.40  166.10  2027.0  0.14100  0.21130  0.4107   \n",
              "565  0.05533  ...  23.690  38.25  155.00  1731.0  0.11660  0.19220  0.3215   \n",
              "566  0.05648  ...  18.980  34.12  126.70  1124.0  0.11390  0.30940  0.3403   \n",
              "567  0.07016  ...  25.740  39.42  184.60  1821.0  0.16500  0.86810  0.9387   \n",
              "568  0.05884  ...   9.456  30.37   59.16   268.6  0.08996  0.06444  0.0000   \n",
              "\n",
              "         27      28       29  \n",
              "0    0.2654  0.4601  0.11890  \n",
              "1    0.1860  0.2750  0.08902  \n",
              "2    0.2430  0.3613  0.08758  \n",
              "3    0.2575  0.6638  0.17300  \n",
              "4    0.1625  0.2364  0.07678  \n",
              "..      ...     ...      ...  \n",
              "564  0.2216  0.2060  0.07115  \n",
              "565  0.1628  0.2572  0.06637  \n",
              "566  0.1418  0.2218  0.07820  \n",
              "567  0.2650  0.4087  0.12400  \n",
              "568  0.0000  0.2871  0.07039  \n",
              "\n",
              "[569 rows x 30 columns]>"
            ]
          },
          "metadata": {},
          "execution_count": 19
        }
      ]
    },
    {
      "cell_type": "code",
      "source": [
        "# data labeling\n",
        "\n",
        "labels = data_set.target\n",
        "labels.shape"
      ],
      "metadata": {
        "colab": {
          "base_uri": "https://localhost:8080/"
        },
        "outputId": "1088cf27-6094-4780-886d-af39fa80b371",
        "id": "MhlpS-6JSRGg"
      },
      "execution_count": 20,
      "outputs": [
        {
          "output_type": "execute_result",
          "data": {
            "text/plain": [
              "(569,)"
            ]
          },
          "metadata": {},
          "execution_count": 20
        }
      ]
    },
    {
      "cell_type": "code",
      "source": [
        "# reshape data\n",
        "\n",
        "labels = np.reshape(labels,(569,1))\n",
        "\n",
        "# add labels\n",
        "\n",
        "final_cancer_data = np.concatenate([input_data,labels],axis=1)"
      ],
      "metadata": {
        "id": "Fgibmt6ISRGg"
      },
      "execution_count": 21,
      "outputs": []
    },
    {
      "cell_type": "code",
      "source": [
        "# data set table\n",
        "\n",
        "cancer_dataset = pd.DataFrame(final_cancer_data)\n",
        "features = data_set.feature_names\n",
        "features"
      ],
      "metadata": {
        "colab": {
          "base_uri": "https://localhost:8080/"
        },
        "outputId": "e519bcd6-d9e7-4513-8181-628f357af59c",
        "id": "mCYRuDErSRGg"
      },
      "execution_count": 22,
      "outputs": [
        {
          "output_type": "execute_result",
          "data": {
            "text/plain": [
              "array(['mean radius', 'mean texture', 'mean perimeter', 'mean area',\n",
              "       'mean smoothness', 'mean compactness', 'mean concavity',\n",
              "       'mean concave points', 'mean symmetry', 'mean fractal dimension',\n",
              "       'radius error', 'texture error', 'perimeter error', 'area error',\n",
              "       'smoothness error', 'compactness error', 'concavity error',\n",
              "       'concave points error', 'symmetry error',\n",
              "       'fractal dimension error', 'worst radius', 'worst texture',\n",
              "       'worst perimeter', 'worst area', 'worst smoothness',\n",
              "       'worst compactness', 'worst concavity', 'worst concave points',\n",
              "       'worst symmetry', 'worst fractal dimension'], dtype='<U23')"
            ]
          },
          "metadata": {},
          "execution_count": 22
        }
      ]
    },
    {
      "cell_type": "code",
      "source": [
        "features_label = np.append(features,'test')\n",
        "cancer_dataset.columns = features_label\n",
        "cancer_dataset.head"
      ],
      "metadata": {
        "colab": {
          "base_uri": "https://localhost:8080/"
        },
        "outputId": "2963ceeb-90aa-4d97-a836-374b13016579",
        "id": "W2pUYmhDSRGh"
      },
      "execution_count": 23,
      "outputs": [
        {
          "output_type": "execute_result",
          "data": {
            "text/plain": [
              "<bound method NDFrame.head of      mean radius  mean texture  mean perimeter  mean area  mean smoothness  \\\n",
              "0          17.99         10.38          122.80     1001.0          0.11840   \n",
              "1          20.57         17.77          132.90     1326.0          0.08474   \n",
              "2          19.69         21.25          130.00     1203.0          0.10960   \n",
              "3          11.42         20.38           77.58      386.1          0.14250   \n",
              "4          20.29         14.34          135.10     1297.0          0.10030   \n",
              "..           ...           ...             ...        ...              ...   \n",
              "564        21.56         22.39          142.00     1479.0          0.11100   \n",
              "565        20.13         28.25          131.20     1261.0          0.09780   \n",
              "566        16.60         28.08          108.30      858.1          0.08455   \n",
              "567        20.60         29.33          140.10     1265.0          0.11780   \n",
              "568         7.76         24.54           47.92      181.0          0.05263   \n",
              "\n",
              "     mean compactness  mean concavity  mean concave points  mean symmetry  \\\n",
              "0             0.27760         0.30010              0.14710         0.2419   \n",
              "1             0.07864         0.08690              0.07017         0.1812   \n",
              "2             0.15990         0.19740              0.12790         0.2069   \n",
              "3             0.28390         0.24140              0.10520         0.2597   \n",
              "4             0.13280         0.19800              0.10430         0.1809   \n",
              "..                ...             ...                  ...            ...   \n",
              "564           0.11590         0.24390              0.13890         0.1726   \n",
              "565           0.10340         0.14400              0.09791         0.1752   \n",
              "566           0.10230         0.09251              0.05302         0.1590   \n",
              "567           0.27700         0.35140              0.15200         0.2397   \n",
              "568           0.04362         0.00000              0.00000         0.1587   \n",
              "\n",
              "     mean fractal dimension  ...  worst texture  worst perimeter  worst area  \\\n",
              "0                   0.07871  ...          17.33           184.60      2019.0   \n",
              "1                   0.05667  ...          23.41           158.80      1956.0   \n",
              "2                   0.05999  ...          25.53           152.50      1709.0   \n",
              "3                   0.09744  ...          26.50            98.87       567.7   \n",
              "4                   0.05883  ...          16.67           152.20      1575.0   \n",
              "..                      ...  ...            ...              ...         ...   \n",
              "564                 0.05623  ...          26.40           166.10      2027.0   \n",
              "565                 0.05533  ...          38.25           155.00      1731.0   \n",
              "566                 0.05648  ...          34.12           126.70      1124.0   \n",
              "567                 0.07016  ...          39.42           184.60      1821.0   \n",
              "568                 0.05884  ...          30.37            59.16       268.6   \n",
              "\n",
              "     worst smoothness  worst compactness  worst concavity  \\\n",
              "0             0.16220            0.66560           0.7119   \n",
              "1             0.12380            0.18660           0.2416   \n",
              "2             0.14440            0.42450           0.4504   \n",
              "3             0.20980            0.86630           0.6869   \n",
              "4             0.13740            0.20500           0.4000   \n",
              "..                ...                ...              ...   \n",
              "564           0.14100            0.21130           0.4107   \n",
              "565           0.11660            0.19220           0.3215   \n",
              "566           0.11390            0.30940           0.3403   \n",
              "567           0.16500            0.86810           0.9387   \n",
              "568           0.08996            0.06444           0.0000   \n",
              "\n",
              "     worst concave points  worst symmetry  worst fractal dimension  test  \n",
              "0                  0.2654          0.4601                  0.11890   0.0  \n",
              "1                  0.1860          0.2750                  0.08902   0.0  \n",
              "2                  0.2430          0.3613                  0.08758   0.0  \n",
              "3                  0.2575          0.6638                  0.17300   0.0  \n",
              "4                  0.1625          0.2364                  0.07678   0.0  \n",
              "..                    ...             ...                      ...   ...  \n",
              "564                0.2216          0.2060                  0.07115   0.0  \n",
              "565                0.1628          0.2572                  0.06637   0.0  \n",
              "566                0.1418          0.2218                  0.07820   0.0  \n",
              "567                0.2650          0.4087                  0.12400   0.0  \n",
              "568                0.0000          0.2871                  0.07039   1.0  \n",
              "\n",
              "[569 rows x 31 columns]>"
            ]
          },
          "metadata": {},
          "execution_count": 23
        }
      ]
    },
    {
      "cell_type": "code",
      "source": [
        "X = cancer_dataset.iloc[:, [0,1,2,3,4,5,6,7,8,9,10,11,12,13,14,15,16,17,18,19,20,21,22,23,24,25,26,27,28,29,30]]\n",
        "Y = cancer_dataset.iloc[:,30].values\n",
        "\n",
        "import random\n",
        "X_train, X_test, Y_train, Y_test = train_test_split(X, Y, train_size=0.8, test_size = 0.2, random_state = 5)\n",
        "\n",
        "# standardize for overfitting\n",
        "\n",
        "sc_X = StandardScaler()\n",
        "X_train = sc_X.fit_transform(X_train)\n",
        "X_test = sc_X.transform(X_test)\n",
        "\n",
        "classifier = GaussianNB()\n",
        "classifier.fit(X_train, Y_train)"
      ],
      "metadata": {
        "colab": {
          "base_uri": "https://localhost:8080/"
        },
        "outputId": "ec5fa342-2df1-4da9-f127-1196501f81bb",
        "id": "CMuZ1K8YSRGh"
      },
      "execution_count": 24,
      "outputs": [
        {
          "output_type": "execute_result",
          "data": {
            "text/plain": [
              "GaussianNB()"
            ]
          },
          "metadata": {},
          "execution_count": 24
        }
      ]
    },
    {
      "cell_type": "code",
      "source": [
        "Y_pred = classifier.predict(X_test)\n",
        "Y_pred[0:9]"
      ],
      "metadata": {
        "colab": {
          "base_uri": "https://localhost:8080/"
        },
        "outputId": "360ce855-01ca-4ea9-e3ab-f7fe053004e0",
        "id": "q-zVT5UCSRGi"
      },
      "execution_count": 25,
      "outputs": [
        {
          "output_type": "execute_result",
          "data": {
            "text/plain": [
              "array([0., 1., 1., 1., 1., 0., 1., 1., 1.])"
            ]
          },
          "metadata": {},
          "execution_count": 25
        }
      ]
    },
    {
      "cell_type": "code",
      "source": [
        "# evaluation matrix\n",
        "\n",
        "cnfMatrix = confusion_matrix(Y_test, Y_pred)\n",
        "cnfMatrix"
      ],
      "metadata": {
        "colab": {
          "base_uri": "https://localhost:8080/"
        },
        "outputId": "93d4d6f3-4289-40d0-9bec-f504a2874517",
        "id": "L3PSUMZVSRGi"
      },
      "execution_count": 26,
      "outputs": [
        {
          "output_type": "execute_result",
          "data": {
            "text/plain": [
              "array([[48,  0],\n",
              "       [ 0, 66]])"
            ]
          },
          "metadata": {},
          "execution_count": 26
        }
      ]
    },
    {
      "cell_type": "code",
      "source": [
        "# evaluate\n",
        "\n",
        "accuracy = metrics.accuracy_score(Y_test, Y_pred)\n",
        "precision = metrics.precision_score(Y_test, Y_pred)\n",
        "recall = metrics.recall_score(Y_test, Y_pred)\n",
        "average = (accuracy+precision+recall)/3\n",
        "\n",
        "print(\"Accuracy:\",accuracy)\n",
        "print(\"Precision:\",precision)\n",
        "print(\"Recall:\",recall)\n",
        "print(\"Average:\",average)"
      ],
      "metadata": {
        "colab": {
          "base_uri": "https://localhost:8080/"
        },
        "outputId": "47bd8756-1d40-4dbc-a026-0ecfa7a05d3f",
        "id": "C-4Wy-CdSRGj"
      },
      "execution_count": 27,
      "outputs": [
        {
          "output_type": "stream",
          "name": "stdout",
          "text": [
            "Accuracy: 1.0\n",
            "Precision: 1.0\n",
            "Recall: 1.0\n",
            "Average: 1.0\n"
          ]
        }
      ]
    },
    {
      "cell_type": "code",
      "source": [
        "# PCA Function\n",
        "\n",
        "x = cancer_dataset.loc[:,features].values\n",
        "y = cancer_dataset.loc[:,['test']].values\n",
        "\n",
        "x = StandardScaler().fit_transform(x)\n",
        "\n",
        "accuracyGraph = []\n",
        "precisionGraph = []\n",
        "recallGraph = []"
      ],
      "metadata": {
        "id": "iMSCwNsOSRGj"
      },
      "execution_count": 28,
      "outputs": []
    },
    {
      "cell_type": "code",
      "source": [
        "# K loop for K values 30 inputs\n",
        "\n",
        "for k in range(1,31):\n",
        "  pca = PCA(n_components=k)\n",
        "  Components = pca.fit_transform(x)\n",
        "  df = pd.DataFrame(data = Components, columns = [*range(1,k+1)])\n",
        "  final_df = pd.concat([df, cancer_dataset[['test']]], axis=1)\n",
        "  outcome = final_df.pop(\"test\")\n",
        "\n",
        "  x2 = final_df.values\n",
        "  y2 = outcome.values\n",
        "  X_train, X_test, Y_train, Y_test = train_test_split(x2, y2, train_size=0.8, test_size = 0.2, random_state = 5)\n",
        "  classifier.fit(X_train, Y_train)\n",
        "\n",
        "  #prediction\n",
        "  Y_pred = classifier.predict(X_test)\n",
        "\n",
        "  cnfMatrix = confusion_matrix(Y_test, Y_pred)\n",
        "\n",
        "  accuracy = metrics.accuracy_score(Y_test, Y_pred)\n",
        "  accuracyGraph.append(accuracy)\n",
        "  precision = metrics.precision_score(Y_test, Y_pred)\n",
        "  precisionGraph.append(precision)\n",
        "  recall = metrics.recall_score(Y_test, Y_pred)\n",
        "  recallGraph.append(recall)\n",
        "  newAverage = (accuracy+precision+recall)/3\n",
        "  if average<newAverage:\n",
        "    average = newAverage\n",
        "    index=k"
      ],
      "metadata": {
        "id": "_pA73A44SRGk"
      },
      "execution_count": 29,
      "outputs": []
    },
    {
      "cell_type": "code",
      "source": [
        "# PCA\n",
        "\n",
        "pca = PCA(n_components=k)\n",
        "components = pca.fit_transform(x)\n",
        "df = pd.DataFrame(data = components, columns = [*range(1,k+1)])\n",
        "final_df =pd.concat([df, cancer_dataset[['test']]], axis=1)\n",
        "\n",
        "x2 = final_df.values\n",
        "y2 = outcome.values\n",
        "X_train, X_test, Y_train, Y_test = train_test_split(x2, y2, train_size=0.8, test_size = 0.2, random_state = 5)\n",
        "classifier.fit(X_train, Y_train)"
      ],
      "metadata": {
        "colab": {
          "base_uri": "https://localhost:8080/"
        },
        "outputId": "9921f42b-6e0a-4970-bfc2-a8bf98cd5770",
        "id": "HpN-7y6bSRGk"
      },
      "execution_count": 30,
      "outputs": [
        {
          "output_type": "execute_result",
          "data": {
            "text/plain": [
              "GaussianNB()"
            ]
          },
          "metadata": {},
          "execution_count": 30
        }
      ]
    },
    {
      "cell_type": "code",
      "source": [
        "# prediction\n",
        "Y_pred = classifier.predict(X_test)\n",
        "\n",
        "cnfMatrix = confusion_matrix(Y_test, Y_pred)\n",
        "\n",
        "print(\"Accuracy:\",metrics.accuracy_score(Y_test,Y_pred))\n",
        "print(\"Precision:\",metrics.precision_score(Y_test,Y_pred))\n",
        "print(\"Recall:\",metrics.recall_score(Y_test,Y_pred))\n",
        "print(\"Final k: \", k)"
      ],
      "metadata": {
        "colab": {
          "base_uri": "https://localhost:8080/"
        },
        "outputId": "d69dd7e1-f634-45d0-beab-1416bcc81c16",
        "id": "EImSpF3bSRGk"
      },
      "execution_count": 31,
      "outputs": [
        {
          "output_type": "stream",
          "name": "stdout",
          "text": [
            "Accuracy: 1.0\n",
            "Precision: 1.0\n",
            "Recall: 1.0\n",
            "Final k:  30\n"
          ]
        }
      ]
    },
    {
      "cell_type": "code",
      "source": [
        "# Graph Evaluations\n",
        "\n",
        "plt.plot(accuracyGraph)\n",
        "plt.xlabel('# of Inputs')\n",
        "plt.ylabel('Accuracy')\n",
        "plt.title('Accuracy vs Inputs')\n",
        "plt.show()\n",
        "\n",
        "plt.plot(precisionGraph)\n",
        "plt.xlabel('# of Inputs')\n",
        "plt.ylabel('Precision')\n",
        "plt.title('Precision vs Inputs')\n",
        "plt.show()\n",
        "\n",
        "plt.plot(recallGraph)\n",
        "plt.xlabel('# of Inputs')\n",
        "plt.ylabel('Recall')\n",
        "plt.title('Recall vs Inputs')\n",
        "plt.show()"
      ],
      "metadata": {
        "colab": {
          "base_uri": "https://localhost:8080/",
          "height": 851
        },
        "outputId": "3aef3eec-d746-4b87-96e4-ec1c8d4485b9",
        "id": "TBlaTaEISRGk"
      },
      "execution_count": 32,
      "outputs": [
        {
          "output_type": "display_data",
          "data": {
            "text/plain": [
              "<Figure size 432x288 with 1 Axes>"
            ],
            "image/png": "[encoded data removed]"
          },
          "metadata": {
            "needs_background": "light"
          }
        },
        {
          "output_type": "display_data",
          "data": {
            "text/plain": [
              "<Figure size 432x288 with 1 Axes>"
            ],
            "image/png": "[encoded data removed]"
          },
          "metadata": {
            "needs_background": "light"
          }
        },
        {
          "output_type": "display_data",
          "data": {
            "text/plain": [
              "<Figure size 432x288 with 1 Axes>"
            ],
            "image/png": "[encoded data removed]"
          },
          "metadata": {
            "needs_background": "light"
          }
        }
      ]
    }
  ]
}