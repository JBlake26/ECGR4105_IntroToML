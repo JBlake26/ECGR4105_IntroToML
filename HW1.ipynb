{
  "nbformat": 4,
  "nbformat_minor": 0,
  "metadata": {
    "colab": {
      "provenance": [],
      "collapsed_sections": [],
      "mount_file_id": "1h-x4ZKyalylaOXhl9Gv_MckGX6-vmeE-",
      "authorship_tag": "ABX9TyPZN776PwV6WUKMzZiN8aVV",
      "include_colab_link": true
    },
    "kernelspec": {
      "name": "python3",
      "display_name": "Python 3"
    },
    "language_info": {
      "name": "python"
    }
  },
  "cells": [
    {
      "cell_type": "markdown",
      "metadata": {
        "id": "view-in-github",
        "colab_type": "text"
      },
      "source": [
        "<a href=\"https://colab.research.google.com/github/JBlake26/ECGR4105_IntroToML/blob/main/HW1.ipynb\" target=\"_parent\"><img src=\"https://colab.research.google.com/assets/colab-badge.svg\" alt=\"Open In Colab\"/></a>"
      ]
    },
    {
      "cell_type": "code",
      "execution_count": 1,
      "metadata": {
        "id": "b-DP80JwlPnM"
      },
      "outputs": [],
      "source": [
        "#drive.mount('/content/drive/')\n",
        "import matplotlib.pyplot as plt\n",
        "import pandas as pd\n",
        "import numpy as np\n",
        "import os\n",
        "%matplotlib inline\n",
        "from google.colab import drive\n",
        "from sklearn import preprocessing \n",
        "from sklearn.model_selection import train_test_split"
      ]
    },
    {
      "cell_type": "markdown",
      "source": [
        "Homework 1\n",
        "\n",
        "In this homework, we will use US Housing dataset. You will develop linear regression with gradient decent algorithm to estimate the price of the house. In this homework, we will use 80% and 20% split between training and evaluation (test) sets across all problems. (Note: You cannot use the built-in function from ML libraries for gradient descent, you must implement it yourself. However, you can use built-in function for normalization/standardization)"
      ],
      "metadata": {
        "id": "s5DIrVrHmEbD"
      }
    },
    {
      "cell_type": "markdown",
      "source": [
        "Problem 1a\n",
        "\n",
        "Develop a gradient decent training and evaluation code that predicts housing price based on the following input variables:\n",
        "\n",
        "area, bedrooms, bathrooms, stories, parking\n",
        "\n",
        "Identify the best parameters for your linear regression model, based on the above input variables. \n",
        "\n",
        "Plot the training and validation losses (in a single graph, but two different lines). For the learning rate, explore different values between 0.1 and 0.01 (your choice). Initialize your parameters (thetas to zero). For the training iteration, choose what you believe fits the best. \n",
        "\n",
        "\n",
        "\n",
        " "
      ],
      "metadata": {
        "id": "dtFamFU6mJhW"
      }
    },
    {
      "cell_type": "code",
      "source": [
        "# Import data set & set data frame\n",
        "\n",
        "csv = pd.read_csv(\"/content/drive/MyDrive/ECGR 4105 - Intro to Machine Learning/Homework/Housing.csv\")\n",
        "\n",
        "df = pd.DataFrame(csv)\n",
        "print(df.head)"
      ],
      "metadata": {
        "colab": {
          "base_uri": "https://localhost:8080/"
        },
        "id": "d6PWROXNr6Yr",
        "outputId": "d0febe6e-41a5-4c13-e14c-1ca24792aebd"
      },
      "execution_count": 2,
      "outputs": [
        {
          "output_type": "stream",
          "name": "stdout",
          "text": [
            "<bound method NDFrame.head of         price  area  bedrooms  bathrooms  stories mainroad guestroom basement  \\\n",
            "0    13300000  7420         4          2        3      yes        no       no   \n",
            "1    12250000  8960         4          4        4      yes        no       no   \n",
            "2    12250000  9960         3          2        2      yes        no      yes   \n",
            "3    12215000  7500         4          2        2      yes        no      yes   \n",
            "4    11410000  7420         4          1        2      yes       yes      yes   \n",
            "..        ...   ...       ...        ...      ...      ...       ...      ...   \n",
            "540   1820000  3000         2          1        1      yes        no      yes   \n",
            "541   1767150  2400         3          1        1       no        no       no   \n",
            "542   1750000  3620         2          1        1      yes        no       no   \n",
            "543   1750000  2910         3          1        1       no        no       no   \n",
            "544   1750000  3850         3          1        2      yes        no       no   \n",
            "\n",
            "    hotwaterheating airconditioning  parking prefarea furnishingstatus  \n",
            "0                no             yes        2      yes        furnished  \n",
            "1                no             yes        3       no        furnished  \n",
            "2                no              no        2      yes   semi-furnished  \n",
            "3                no             yes        3      yes        furnished  \n",
            "4                no             yes        2       no        furnished  \n",
            "..              ...             ...      ...      ...              ...  \n",
            "540              no              no        2       no      unfurnished  \n",
            "541              no              no        0       no   semi-furnished  \n",
            "542              no              no        0       no      unfurnished  \n",
            "543              no              no        0       no        furnished  \n",
            "544              no              no        0       no      unfurnished  \n",
            "\n",
            "[545 rows x 13 columns]>\n"
          ]
        }
      ]
    },
    {
      "cell_type": "code",
      "source": [
        "# Binary categories\n",
        "\n",
        "def useful_category(df):\n",
        "    DFtemp = df\n",
        "    col = df.columns.tolist()\n",
        "    types = df.dtypes\n",
        "    for i in range(len(col)):\n",
        "        if types[i] == 'object' or types[i] == 'str':\n",
        "            DFtemp[col[i]] = df[col[i]].astype('category').cat.codes\n",
        "        else: \n",
        "            DFtemp[col[i]] = df[col[i]]\n",
        "    return DFtemp\n",
        "df = useful_category(df)\n",
        "print(df.head)"
      ],
      "metadata": {
        "colab": {
          "base_uri": "https://localhost:8080/"
        },
        "id": "Apz--kkjv2W2",
        "outputId": "d52610a1-b076-4fad-d883-f3ff11230c75"
      },
      "execution_count": 3,
      "outputs": [
        {
          "output_type": "stream",
          "name": "stdout",
          "text": [
            "<bound method NDFrame.head of         price  area  bedrooms  bathrooms  stories  mainroad  guestroom  \\\n",
            "0    13300000  7420         4          2        3         1          0   \n",
            "1    12250000  8960         4          4        4         1          0   \n",
            "2    12250000  9960         3          2        2         1          0   \n",
            "3    12215000  7500         4          2        2         1          0   \n",
            "4    11410000  7420         4          1        2         1          1   \n",
            "..        ...   ...       ...        ...      ...       ...        ...   \n",
            "540   1820000  3000         2          1        1         1          0   \n",
            "541   1767150  2400         3          1        1         0          0   \n",
            "542   1750000  3620         2          1        1         1          0   \n",
            "543   1750000  2910         3          1        1         0          0   \n",
            "544   1750000  3850         3          1        2         1          0   \n",
            "\n",
            "     basement  hotwaterheating  airconditioning  parking  prefarea  \\\n",
            "0           0                0                1        2         1   \n",
            "1           0                0                1        3         0   \n",
            "2           1                0                0        2         1   \n",
            "3           1                0                1        3         1   \n",
            "4           1                0                1        2         0   \n",
            "..        ...              ...              ...      ...       ...   \n",
            "540         1                0                0        2         0   \n",
            "541         0                0                0        0         0   \n",
            "542         0                0                0        0         0   \n",
            "543         0                0                0        0         0   \n",
            "544         0                0                0        0         0   \n",
            "\n",
            "     furnishingstatus  \n",
            "0                   0  \n",
            "1                   0  \n",
            "2                   1  \n",
            "3                   0  \n",
            "4                   0  \n",
            "..                ...  \n",
            "540                 2  \n",
            "541                 1  \n",
            "542                 2  \n",
            "543                 0  \n",
            "544                 2  \n",
            "\n",
            "[545 rows x 13 columns]>\n"
          ]
        }
      ]
    },
    {
      "cell_type": "code",
      "source": [
        "# Set Input & Outputs, split the variables, a ones vector to the inputs,\n",
        "# set the thetas for training & validation, get the trainingEX from the OPs\n",
        "\n",
        "P1col = ['area', 'bedrooms', 'bathrooms', 'stories', 'parking']\n",
        "In = df[P1col]\n",
        "Out = df.iloc[:,0]\n",
        "\n",
        "trainingX, validationX, trainingY, validationY = train_test_split(In, Out, test_size = .2, random_state = 420)\n",
        "\n",
        "trainingIn = pd.concat([pd.Series(1, index = trainingX.index, name = '00'), trainingX], axis=1)\n",
        "validationIn = pd.concat([pd.Series(1,index = validationX.index, name = '00'), validationX], axis =1)\n",
        "\n",
        "thetaTraining = np.array([0]*len(trainingIn.columns))\n",
        "thetaValidation = np.array([0]*len(validationIn.columns))\n",
        "\n",
        "trainingEX = len(trainingY)\n",
        "validationEX = len(validationY)"
      ],
      "metadata": {
        "id": "sHesQkpSxrXN"
      },
      "execution_count": 4,
      "outputs": []
    },
    {
      "cell_type": "code",
      "source": [
        "# Loss Function\n",
        "\n",
        "def compute_loss (In, Out, theta,trainingEX):\n",
        "  predictions = In.dot(theta)\n",
        "  errors = np.subtract(predictions, Out)\n",
        "  sqrErrors = np.square(errors)\n",
        "  J = 1 / (2 * trainingEX) * np.sum(sqrErrors)\n",
        "  return J\n",
        "\n",
        "# Gradient Descent Function\n",
        "\n",
        "def gradient_descent(In, Out, theta,trainingEX, alpha, iterations):\n",
        "  Loss_old = np.zeros(iterations)\n",
        "  for i in range(iterations):\n",
        "    predictions = In.dot(theta)\n",
        "    errors = np.subtract(predictions, Out)\n",
        "    sum_delta = (alpha/trainingEX) * In.transpose().dot(errors);\n",
        "    theta = theta - sum_delta;\n",
        "    Loss_old[i] = compute_loss(In,Out,theta,trainingEX)\n",
        "  return theta, Loss_old"
      ],
      "metadata": {
        "id": "4eyG4VEY6c7A"
      },
      "execution_count": 5,
      "outputs": []
    },
    {
      "cell_type": "code",
      "source": [
        "# Loss calculation for training set\n",
        "\n",
        "LossTraining = compute_loss(trainingIn,trainingY,thetaTraining,trainingEX)\n",
        "print(LossTraining)\n",
        "\n",
        "# Loss calculation for validation set\n",
        "\n",
        "LossValidation = compute_loss(validationIn,validationY,thetaValidation,validationEX)\n",
        "print(LossValidation)"
      ],
      "metadata": {
        "colab": {
          "base_uri": "https://localhost:8080/"
        },
        "id": "cxt88NvR7fJe",
        "outputId": "bd24357c-0d64-40dd-e4a9-6902890a2210"
      },
      "execution_count": 6,
      "outputs": [
        {
          "output_type": "stream",
          "name": "stdout",
          "text": [
            "13090392247968.578\n",
            "13173012831422.02\n"
          ]
        }
      ]
    },
    {
      "cell_type": "code",
      "source": [
        "# Gradient descent for training\n",
        "\n",
        "thetaTraining = [0.,0.,0.,0.,0.,0.]\n",
        "iterations = 500;\n",
        "alpha = 0.000000001;\n",
        "\n",
        "thetaTraining, LossTraining = gradient_descent(trainingIn,trainingY,thetaTraining,trainingEX,alpha, iterations)\n",
        "print('Final value of theta =', thetaTraining)\n",
        "\n",
        "# Gradient descent for validation\n",
        "\n",
        "thetaValidation = [0.,0.,0.,0.,0.,0.]\n",
        "iterations = 500;\n",
        "alpha = 0.000000001;\n",
        "\n",
        "thetaValidation, LossValidation = gradient_descent(validationIn,validationY,thetaValidation,validationEX, alpha, iterations)\n",
        "print('Final value of theta =', thetaValidation)"
      ],
      "metadata": {
        "colab": {
          "base_uri": "https://localhost:8080/"
        },
        "id": "k2D3Vo_y-MZ7",
        "outputId": "6cf62e5f-bc33-447c-aafb-bfd5dbd0d3b5"
      },
      "execution_count": 7,
      "outputs": [
        {
          "output_type": "stream",
          "name": "stdout",
          "text": [
            "Final value of theta = 00             0.321050\n",
            "area         853.093864\n",
            "bedrooms       1.107512\n",
            "bathrooms      0.552080\n",
            "stories        0.865308\n",
            "parking        0.247941\n",
            "dtype: float64\n",
            "Final value of theta = 00             0.319582\n",
            "area         866.478174\n",
            "bedrooms       1.102199\n",
            "bathrooms      0.644887\n",
            "stories        0.823509\n",
            "parking        0.347203\n",
            "dtype: float64\n"
          ]
        }
      ]
    },
    {
      "cell_type": "code",
      "source": [
        "# Loss graph\n",
        "\n",
        "plt.plot(range(1,iterations + 1), LossTraining, color = 'blue')\n",
        "plt.plot(range(1,iterations + 1), LossValidation, color = 'green')\n",
        "plt.rcParams[\"figure.figsize\"] = (10,6)\n",
        "plt.grid()\n",
        "plt.xlabel('Number of iterations')\n",
        "plt.ylabel('Loss (J)')\n",
        "plt.title('Convergence of gradient descent')"
      ],
      "metadata": {
        "colab": {
          "base_uri": "https://localhost:8080/",
          "height": 313
        },
        "id": "36pBrbT0AUB-",
        "outputId": "4903d160-6cd6-4313-c0fb-4d12aaf0f74f"
      },
      "execution_count": 8,
      "outputs": [
        {
          "output_type": "execute_result",
          "data": {
            "text/plain": [
              "Text(0.5, 1.0, 'Convergence of gradient descent')"
            ]
          },
          "metadata": {},
          "execution_count": 8
        },
        {
          "output_type": "display_data",
          "data": {
            "text/plain": [
              "<Figure size 432x288 with 1 Axes>"
            ],
            "image/png": "[encoded data removed]"
          },
          "metadata": {
            "needs_background": "light"
          }
        }
      ]
    },
    {
      "cell_type": "markdown",
      "source": [
        "1.b) Develop a gradient decent training and evaluation code that predicts housing price based on the following input variables:\n",
        "\n",
        "Area, bedrooms, bathrooms, stories, mainroad, guestroom, basement, hotwaterheating, airconditioning, parking, prefarea\n",
        "\n",
        "Identify the best parameters for your linear regression model, based on the above input variables. \n",
        "\n",
        "Plot the training and validation losses (in a single graph, but two different lines) over your training iteration. Compare your linear regression model against problem 1 a. For the learning rate, explore different values between 0.1 and 0.01 (your choice). Initialize your parameters (thetas to zero). For the training iteration, choose what you believe fits the best. "
      ],
      "metadata": {
        "id": "FBN1Def_9jDW"
      }
    },
    {
      "cell_type": "code",
      "source": [
        "# Set Input & Outputs, split the variables, a ones vector to the inputs,\n",
        "# set the thetas for training & validation, get the trainingEX from the OPs\n",
        "\n",
        "P2col = ['area', 'bedrooms', 'bathrooms', 'stories', 'mainroad', 'guestroom', 'basement', 'hotwaterheating', 'airconditioning', 'parking', 'prefarea']\n",
        "\n",
        "In = df[P2col]\n",
        "Out = df.iloc[:,0]\n",
        "\n",
        "xTraining, xValidation, trainingY, validationY = train_test_split(In, Out, test_size = .2, random_state = 420)\n",
        "\n",
        "trainingIn = pd.concat([pd.Series(1, index=xTraining.index, name='00'), xTraining], axis=1)\n",
        "validationIn = pd.concat([pd.Series(1,index=xValidation.index, name='00'), xValidation], axis =1)\n",
        "\n",
        "thetaTraining = np.array([0]*len(trainingIn.columns))\n",
        "thetaValidation = np.array([0]*len(validationIn.columns))\n",
        "\n",
        "trainingEX = len(trainingY)\n",
        "validationEX = len(validationY)"
      ],
      "metadata": {
        "id": "TAbLEUhLBr3I"
      },
      "execution_count": 9,
      "outputs": []
    },
    {
      "cell_type": "code",
      "source": [
        "# Loss calculation for training set\n",
        "\n",
        "LossTraining = compute_loss(trainingIn,trainingY,thetaTraining,trainingEX)\n",
        "print(LossTraining)\n",
        "\n",
        "# Loss calculation for validation set\n",
        "\n",
        "LossValidation = compute_loss(validationIn,validationY,thetaValidation,validationEX)\n",
        "print(LossValidation)"
      ],
      "metadata": {
        "colab": {
          "base_uri": "https://localhost:8080/"
        },
        "id": "DLc3YEw9CYvU",
        "outputId": "cc7bef1d-49be-4b68-c228-d3723779e595"
      },
      "execution_count": 10,
      "outputs": [
        {
          "output_type": "stream",
          "name": "stdout",
          "text": [
            "13090392247968.578\n",
            "13173012831422.02\n"
          ]
        }
      ]
    },
    {
      "cell_type": "code",
      "source": [
        "# Gradient descent for training\n",
        "\n",
        "thetaTraining = [0.,0.,0.,0.,0.,0.,0.,0.,0.,0.,0.,0.]\n",
        "iterations = 500;\n",
        "alpha = 0.000000001;\n",
        "\n",
        "thetaTraining, LossTraining = gradient_descent(trainingIn,trainingY,thetaTraining,trainingEX,alpha, iterations)\n",
        "print('Final value of theta =', thetaTraining)\n",
        "\n",
        "# Gradient descent for validation\n",
        "\n",
        "thetaValidation = [0.,0.,0.,0.,0.,0.,0.,0.,0.,0.,0.,0.]\n",
        "iterations = 500;\n",
        "alpha = 0.000000001;\n",
        "\n",
        "thetaValidation, LossValidation = gradient_descent(validationIn,validationY,thetaValidation,validationEX, alpha, iterations)\n",
        "print('Final value of theta =', thetaValidation)"
      ],
      "metadata": {
        "colab": {
          "base_uri": "https://localhost:8080/"
        },
        "id": "6KvyXjTYCZZY",
        "outputId": "86589c20-ccaf-4b57-806f-3d6aee984cd8"
      },
      "execution_count": 11,
      "outputs": [
        {
          "output_type": "stream",
          "name": "stdout",
          "text": [
            "Final value of theta = 00                   0.321050\n",
            "area               853.093791\n",
            "bedrooms             1.107512\n",
            "bathrooms            0.552080\n",
            "stories              0.865308\n",
            "mainroad             0.289297\n",
            "guestroom            0.101810\n",
            "basement             0.183078\n",
            "hotwaterheating      0.034783\n",
            "airconditioning      0.225673\n",
            "parking              0.247941\n",
            "prefarea             0.129487\n",
            "dtype: float64\n",
            "Final value of theta = 00                   0.319582\n",
            "area               866.478111\n",
            "bedrooms             1.102199\n",
            "bathrooms            0.644887\n",
            "stories              0.823509\n",
            "mainroad             0.266418\n",
            "guestroom            0.101204\n",
            "basement             0.146365\n",
            "hotwaterheating      0.034262\n",
            "airconditioning      0.139793\n",
            "parking              0.347203\n",
            "prefarea             0.077772\n",
            "dtype: float64\n"
          ]
        }
      ]
    },
    {
      "cell_type": "code",
      "source": [
        "# Loss graph\n",
        "\n",
        "plt.plot(range(1,iterations + 1), LossTraining, color = 'blue')\n",
        "plt.plot(range(1,iterations + 1), LossValidation, color = 'green')\n",
        "plt.rcParams[\"figure.figsize\"] = (10,6)\n",
        "plt.grid()\n",
        "plt.xlabel('Number of iterations')\n",
        "plt.ylabel('Loss (J)')\n",
        "plt.title('Convergence of gradient descent')"
      ],
      "metadata": {
        "colab": {
          "base_uri": "https://localhost:8080/",
          "height": 422
        },
        "id": "3gZKz6rSCgkb",
        "outputId": "76b938d5-ae6e-480b-c889-ba0ff811166a"
      },
      "execution_count": 12,
      "outputs": [
        {
          "output_type": "execute_result",
          "data": {
            "text/plain": [
              "Text(0.5, 1.0, 'Convergence of gradient descent')"
            ]
          },
          "metadata": {},
          "execution_count": 12
        },
        {
          "output_type": "display_data",
          "data": {
            "text/plain": [
              "<Figure size 720x432 with 1 Axes>"
            ],
            "image/png": "[encoded data removed]"
          },
          "metadata": {
            "needs_background": "light"
          }
        }
      ]
    },
    {
      "cell_type": "markdown",
      "source": [
        "Problem 2 (30 points)\n",
        "\n",
        "2.a) Repeat problem 1 a, this time with input normalization and input standardization as part of your pre-processing logic. You need to perform two separate trainings for standardization and normalization. \n",
        "\n",
        "Plot the training and validation losses for both training and validation set based on input standardization and input normalization. Compare your training accuracy between both scaling approaches as well as the baseline training in problem 1 a. Which input scaling achieves the best training? Explain your results."
      ],
      "metadata": {
        "id": "r-ry9fEzmPJJ"
      }
    },
    {
      "cell_type": "code",
      "source": [
        "# Import data set, set data frame for normalized & standardized sets\n",
        "\n",
        "csv = pd.read_csv(\"/content/drive/MyDrive/ECGR 4105 - Intro to Machine Learning/Homework/Housing.csv\")\n",
        "\n",
        "df = pd.DataFrame(csv)\n",
        "print(df.head)\n",
        "\n",
        "NORM_DF = csv\n",
        "print(NORM_DF.head)\n",
        "\n",
        "STANDARD_DF = csv\n",
        "print(STANDARD_DF.head)"
      ],
      "metadata": {
        "colab": {
          "base_uri": "https://localhost:8080/"
        },
        "id": "KyDjFz1iD-gy",
        "outputId": "b0c7795e-09e1-4035-fa73-2f42702edbef"
      },
      "execution_count": 13,
      "outputs": [
        {
          "output_type": "stream",
          "name": "stdout",
          "text": [
            "<bound method NDFrame.head of         price  area  bedrooms  bathrooms  stories mainroad guestroom basement  \\\n",
            "0    13300000  7420         4          2        3      yes        no       no   \n",
            "1    12250000  8960         4          4        4      yes        no       no   \n",
            "2    12250000  9960         3          2        2      yes        no      yes   \n",
            "3    12215000  7500         4          2        2      yes        no      yes   \n",
            "4    11410000  7420         4          1        2      yes       yes      yes   \n",
            "..        ...   ...       ...        ...      ...      ...       ...      ...   \n",
            "540   1820000  3000         2          1        1      yes        no      yes   \n",
            "541   1767150  2400         3          1        1       no        no       no   \n",
            "542   1750000  3620         2          1        1      yes        no       no   \n",
            "543   1750000  2910         3          1        1       no        no       no   \n",
            "544   1750000  3850         3          1        2      yes        no       no   \n",
            "\n",
            "    hotwaterheating airconditioning  parking prefarea furnishingstatus  \n",
            "0                no             yes        2      yes        furnished  \n",
            "1                no             yes        3       no        furnished  \n",
            "2                no              no        2      yes   semi-furnished  \n",
            "3                no             yes        3      yes        furnished  \n",
            "4                no             yes        2       no        furnished  \n",
            "..              ...             ...      ...      ...              ...  \n",
            "540              no              no        2       no      unfurnished  \n",
            "541              no              no        0       no   semi-furnished  \n",
            "542              no              no        0       no      unfurnished  \n",
            "543              no              no        0       no        furnished  \n",
            "544              no              no        0       no      unfurnished  \n",
            "\n",
            "[545 rows x 13 columns]>\n",
            "<bound method NDFrame.head of         price  area  bedrooms  bathrooms  stories mainroad guestroom basement  \\\n",
            "0    13300000  7420         4          2        3      yes        no       no   \n",
            "1    12250000  8960         4          4        4      yes        no       no   \n",
            "2    12250000  9960         3          2        2      yes        no      yes   \n",
            "3    12215000  7500         4          2        2      yes        no      yes   \n",
            "4    11410000  7420         4          1        2      yes       yes      yes   \n",
            "..        ...   ...       ...        ...      ...      ...       ...      ...   \n",
            "540   1820000  3000         2          1        1      yes        no      yes   \n",
            "541   1767150  2400         3          1        1       no        no       no   \n",
            "542   1750000  3620         2          1        1      yes        no       no   \n",
            "543   1750000  2910         3          1        1       no        no       no   \n",
            "544   1750000  3850         3          1        2      yes        no       no   \n",
            "\n",
            "    hotwaterheating airconditioning  parking prefarea furnishingstatus  \n",
            "0                no             yes        2      yes        furnished  \n",
            "1                no             yes        3       no        furnished  \n",
            "2                no              no        2      yes   semi-furnished  \n",
            "3                no             yes        3      yes        furnished  \n",
            "4                no             yes        2       no        furnished  \n",
            "..              ...             ...      ...      ...              ...  \n",
            "540              no              no        2       no      unfurnished  \n",
            "541              no              no        0       no   semi-furnished  \n",
            "542              no              no        0       no      unfurnished  \n",
            "543              no              no        0       no        furnished  \n",
            "544              no              no        0       no      unfurnished  \n",
            "\n",
            "[545 rows x 13 columns]>\n",
            "<bound method NDFrame.head of         price  area  bedrooms  bathrooms  stories mainroad guestroom basement  \\\n",
            "0    13300000  7420         4          2        3      yes        no       no   \n",
            "1    12250000  8960         4          4        4      yes        no       no   \n",
            "2    12250000  9960         3          2        2      yes        no      yes   \n",
            "3    12215000  7500         4          2        2      yes        no      yes   \n",
            "4    11410000  7420         4          1        2      yes       yes      yes   \n",
            "..        ...   ...       ...        ...      ...      ...       ...      ...   \n",
            "540   1820000  3000         2          1        1      yes        no      yes   \n",
            "541   1767150  2400         3          1        1       no        no       no   \n",
            "542   1750000  3620         2          1        1      yes        no       no   \n",
            "543   1750000  2910         3          1        1       no        no       no   \n",
            "544   1750000  3850         3          1        2      yes        no       no   \n",
            "\n",
            "    hotwaterheating airconditioning  parking prefarea furnishingstatus  \n",
            "0                no             yes        2      yes        furnished  \n",
            "1                no             yes        3       no        furnished  \n",
            "2                no              no        2      yes   semi-furnished  \n",
            "3                no             yes        3      yes        furnished  \n",
            "4                no             yes        2       no        furnished  \n",
            "..              ...             ...      ...      ...              ...  \n",
            "540              no              no        2       no      unfurnished  \n",
            "541              no              no        0       no   semi-furnished  \n",
            "542              no              no        0       no      unfurnished  \n",
            "543              no              no        0       no        furnished  \n",
            "544              no              no        0       no      unfurnished  \n",
            "\n",
            "[545 rows x 13 columns]>\n"
          ]
        }
      ]
    },
    {
      "cell_type": "code",
      "source": [
        "# Normalized set WIP\n",
        "\n",
        "NORM_DF = useful_category(NORM_DF)\n",
        "print(NORM_DF.head)\n",
        "\n",
        "# Standardized set WIP\n",
        "\n",
        "STANDARD_DF = useful_category(STANDARD_DF)\n",
        "print(STANDARD_DF.head)"
      ],
      "metadata": {
        "colab": {
          "base_uri": "https://localhost:8080/"
        },
        "id": "wnQgf_IIGeQf",
        "outputId": "815010a1-3c1d-4f6c-c6da-9a8f0c177ce3"
      },
      "execution_count": 14,
      "outputs": [
        {
          "output_type": "stream",
          "name": "stdout",
          "text": [
            "<bound method NDFrame.head of         price  area  bedrooms  bathrooms  stories  mainroad  guestroom  \\\n",
            "0    13300000  7420         4          2        3         1          0   \n",
            "1    12250000  8960         4          4        4         1          0   \n",
            "2    12250000  9960         3          2        2         1          0   \n",
            "3    12215000  7500         4          2        2         1          0   \n",
            "4    11410000  7420         4          1        2         1          1   \n",
            "..        ...   ...       ...        ...      ...       ...        ...   \n",
            "540   1820000  3000         2          1        1         1          0   \n",
            "541   1767150  2400         3          1        1         0          0   \n",
            "542   1750000  3620         2          1        1         1          0   \n",
            "543   1750000  2910         3          1        1         0          0   \n",
            "544   1750000  3850         3          1        2         1          0   \n",
            "\n",
            "     basement  hotwaterheating  airconditioning  parking  prefarea  \\\n",
            "0           0                0                1        2         1   \n",
            "1           0                0                1        3         0   \n",
            "2           1                0                0        2         1   \n",
            "3           1                0                1        3         1   \n",
            "4           1                0                1        2         0   \n",
            "..        ...              ...              ...      ...       ...   \n",
            "540         1                0                0        2         0   \n",
            "541         0                0                0        0         0   \n",
            "542         0                0                0        0         0   \n",
            "543         0                0                0        0         0   \n",
            "544         0                0                0        0         0   \n",
            "\n",
            "     furnishingstatus  \n",
            "0                   0  \n",
            "1                   0  \n",
            "2                   1  \n",
            "3                   0  \n",
            "4                   0  \n",
            "..                ...  \n",
            "540                 2  \n",
            "541                 1  \n",
            "542                 2  \n",
            "543                 0  \n",
            "544                 2  \n",
            "\n",
            "[545 rows x 13 columns]>\n",
            "<bound method NDFrame.head of         price  area  bedrooms  bathrooms  stories  mainroad  guestroom  \\\n",
            "0    13300000  7420         4          2        3         1          0   \n",
            "1    12250000  8960         4          4        4         1          0   \n",
            "2    12250000  9960         3          2        2         1          0   \n",
            "3    12215000  7500         4          2        2         1          0   \n",
            "4    11410000  7420         4          1        2         1          1   \n",
            "..        ...   ...       ...        ...      ...       ...        ...   \n",
            "540   1820000  3000         2          1        1         1          0   \n",
            "541   1767150  2400         3          1        1         0          0   \n",
            "542   1750000  3620         2          1        1         1          0   \n",
            "543   1750000  2910         3          1        1         0          0   \n",
            "544   1750000  3850         3          1        2         1          0   \n",
            "\n",
            "     basement  hotwaterheating  airconditioning  parking  prefarea  \\\n",
            "0           0                0                1        2         1   \n",
            "1           0                0                1        3         0   \n",
            "2           1                0                0        2         1   \n",
            "3           1                0                1        3         1   \n",
            "4           1                0                1        2         0   \n",
            "..        ...              ...              ...      ...       ...   \n",
            "540         1                0                0        2         0   \n",
            "541         0                0                0        0         0   \n",
            "542         0                0                0        0         0   \n",
            "543         0                0                0        0         0   \n",
            "544         0                0                0        0         0   \n",
            "\n",
            "     furnishingstatus  \n",
            "0                   0  \n",
            "1                   0  \n",
            "2                   1  \n",
            "3                   0  \n",
            "4                   0  \n",
            "..                ...  \n",
            "540                 2  \n",
            "541                 1  \n",
            "542                 2  \n",
            "543                 0  \n",
            "544                 2  \n",
            "\n",
            "[545 rows x 13 columns]>\n"
          ]
        }
      ]
    },
    {
      "cell_type": "code",
      "source": [
        "# Standardize set\n",
        "\n",
        "S_Columns = STANDARD_DF.columns\n",
        "scaler = preprocessing.StandardScaler().fit(STANDARD_DF)\n",
        "STANDARD_DF[S_Columns] = scaler.transform(STANDARD_DF[S_Columns])"
      ],
      "metadata": {
        "id": "NY7uIZ-wJ8W0"
      },
      "execution_count": 15,
      "outputs": []
    },
    {
      "cell_type": "code",
      "source": [
        "# Normalize set\n",
        "\n",
        "N_Columns = NORM_DF.columns\n",
        "normalizer = preprocessing.Normalizer().fit(NORM_DF)\n",
        "NORM_DF[N_Columns] = normalizer.transform(NORM_DF[N_Columns])"
      ],
      "metadata": {
        "id": "AOAY567NSeLG"
      },
      "execution_count": 16,
      "outputs": []
    },
    {
      "cell_type": "code",
      "source": [
        "P1col = ['area', 'bedrooms', 'bathrooms', 'stories', 'parking']\n",
        "\n",
        "# Standardized\n",
        "\n",
        "StandardIn = STANDARD_DF[P1col]\n",
        "StandardOut = STANDARD_DF.iloc[:,0]\n",
        "\n",
        "# Normalized\n",
        "\n",
        "NormIn = NORM_DF[P1col]\n",
        "NormOut = NORM_DF.iloc[:,0]\n",
        "\n",
        "\n",
        "# Split sets\n",
        "\n",
        "X_standardTraining, X_standardValidation, Y_StandardTraining, Y_StandardValidation = train_test_split(StandardIn, StandardOut, test_size = .2, random_state = 420)\n",
        "X_NormTraining, X_NormValidation, Y_NormTraining, Y_NormValidation = train_test_split(NormIn,NormOut, test_size = .2, random_state = 420)\n",
        "\n",
        "\n",
        "# Add ones vector to inputs\n",
        "\n",
        "# Normalized\n",
        "\n",
        "normTrainingIn = pd.concat([pd.Series(1, index=X_NormTraining.index, name='00'), X_NormTraining], axis=1)\n",
        "normValidationIn = pd.concat([pd.Series(1,index=X_NormValidation.index, name='00'), X_NormValidation], axis =1)\n",
        "\n",
        "# Standardized\n",
        "\n",
        "standardTrainingIn = pd.concat([pd.Series(1, index=X_standardTraining.index, name='00'), X_NormTraining], axis=1)\n",
        "standardValidationIn = pd.concat([pd.Series(1,index=X_standardValidation.index, name='00'), X_NormValidation], axis =1)\n",
        "\n",
        "# Set thetas\n",
        "\n",
        "# Normalized\n",
        "\n",
        "norm_thetaTraining = np.array([0]*len(normTrainingIn.columns))\n",
        "norm_thetaValidation = np.array([0]*len(normValidationIn.columns))\n",
        "\n",
        "# Standardized\n",
        "\n",
        "standard_thetaTraining = np.array([0]*len(standardTrainingIn.columns))\n",
        "standard_thetaValidation = np.array([0]*len(standardValidationIn.columns))\n",
        "\n",
        "# Getting the trainingEX values from outputs\n",
        "\n",
        "# Normalized\n",
        "\n",
        "normTraining_examples = len(Y_NormTraining)\n",
        "normValidationEX = len(Y_NormValidation)\n",
        "\n",
        "# Standardized\n",
        "\n",
        "standardTraining_examples = len(Y_StandardTraining)\n",
        "standardValidationEX = len(Y_StandardValidation)"
      ],
      "metadata": {
        "id": "XCkK7Oq3Lz8H"
      },
      "execution_count": 17,
      "outputs": []
    },
    {
      "cell_type": "code",
      "source": [
        "# Loss calculation for both sets\n",
        "\n",
        "# Normalized\n",
        "\n",
        "Norm_LossTraining = compute_loss(normTrainingIn,Y_NormTraining,norm_thetaTraining,normTraining_examples)\n",
        "print(Norm_LossTraining)\n",
        "\n",
        "Norm_LossValidation = compute_loss(normValidationIn,Y_NormValidation,norm_thetaValidation,normValidationEX)\n",
        "print(Norm_LossValidation)\n",
        "\n",
        "# Standardized\n",
        "\n",
        "Standard_LossTraining = compute_loss(standardTrainingIn,Y_StandardTraining,standard_thetaTraining,standardTraining_examples)\n",
        "print(Standard_LossTraining)\n",
        "\n",
        "Standard_LossValidation = compute_loss(standardValidationIn,Y_StandardValidation,standard_thetaValidation,standardValidationEX)\n",
        "print(Standard_LossValidation)"
      ],
      "metadata": {
        "colab": {
          "base_uri": "https://localhost:8080/"
        },
        "id": "CLEHDc-dMFBe",
        "outputId": "2d411ad4-75ed-4c2a-9cd8-cf5160c1f417"
      },
      "execution_count": 18,
      "outputs": [
        {
          "output_type": "stream",
          "name": "stdout",
          "text": [
            "0.034184007188717\n",
            "0.03285794079291208\n",
            "0.034184007188717\n",
            "0.03285794079291208\n"
          ]
        }
      ]
    },
    {
      "cell_type": "code",
      "source": [
        "# Gradient descent\n",
        "\n",
        "# Training\n",
        "\n",
        "# Normalized\n",
        "\n",
        "norm_thetaTraining = [0.,0.,0.,0.,0.,0.]\n",
        "iterations = 700;\n",
        "alpha = 0.1;\n",
        "\n",
        "Norm_thetaTraining, Norm_LossTraining = gradient_descent(normTrainingIn,Y_NormTraining,norm_thetaTraining,normTraining_examples,alpha, iterations)\n",
        "print('Final value of theta =', Norm_thetaTraining)\n",
        "\n",
        "\n",
        "# Standardized\n",
        "\n",
        "standard_thetaTraining = [0.,0.,0.,0.,0.,0.]\n",
        "iterations = 700;\n",
        "alpha = 0.1;\n",
        "Standard_thetaTraining, Standard_LossTraining = gradient_descent(standardTrainingIn,Y_StandardTraining,standard_thetaTraining,standardTraining_examples,alpha, iterations)\n",
        "print('Final value of theta =', Standard_thetaTraining)\n",
        "\n",
        "# Validation\n",
        "\n",
        "# Normalized\n",
        "\n",
        "norm_thetaValidation = [0.,0.,0.,0.,0.,0.]\n",
        "iterations = 700;\n",
        "alpha = 0.1;\n",
        "norm_thetaValidation, Norm_LossValidation = gradient_descent(normValidationIn,Y_NormValidation,norm_thetaValidation,normValidationEX, alpha, iterations)\n",
        "print('Final value of theta =', norm_thetaValidation)\n",
        "\n",
        "# Stanardized\n",
        "\n",
        "standard_thetaValidation = [0.,0.,0.,0.,0.,0.]\n",
        "iterations = 700;\n",
        "alpha = 0.1;\n",
        "standard_thetaValidation, Standard_LossValidation = gradient_descent(standardValidationIn,Y_StandardValidation,standard_thetaValidation,standardValidationEX, alpha, iterations)\n",
        "print('Final value of theta =', standard_thetaValidation)"
      ],
      "metadata": {
        "colab": {
          "base_uri": "https://localhost:8080/"
        },
        "id": "zF9PxcYXMPIm",
        "outputId": "bf9b7f1c-25fb-470a-e90c-80acdc154883"
      },
      "execution_count": 19,
      "outputs": [
        {
          "output_type": "stream",
          "name": "stdout",
          "text": [
            "Final value of theta = 00          -0.009416\n",
            "area         0.365514\n",
            "bedrooms     0.069953\n",
            "bathrooms    0.293183\n",
            "stories      0.238279\n",
            "parking      0.135442\n",
            "dtype: float64\n",
            "Final value of theta = 00          -0.009416\n",
            "area         0.365514\n",
            "bedrooms     0.069953\n",
            "bathrooms    0.293183\n",
            "stories      0.238279\n",
            "parking      0.135442\n",
            "dtype: float64\n",
            "Final value of theta = 00          -0.006033\n",
            "area         0.400404\n",
            "bedrooms     0.042953\n",
            "bathrooms    0.272086\n",
            "stories      0.256782\n",
            "parking      0.148608\n",
            "dtype: float64\n",
            "Final value of theta = 00          -0.006033\n",
            "area         0.400404\n",
            "bedrooms     0.042953\n",
            "bathrooms    0.272086\n",
            "stories      0.256782\n",
            "parking      0.148608\n",
            "dtype: float64\n"
          ]
        }
      ]
    },
    {
      "cell_type": "code",
      "source": [
        "# Loss graph\n",
        "\n",
        "plt.plot(range(1,iterations + 1), Norm_LossTraining, color = 'blue')\n",
        "plt.plot(range(1,iterations + 1), Norm_LossValidation, color = 'green')\n",
        "plt.rcParams[\"figure.figsize\"] = (10,6)\n",
        "plt.grid()\n",
        "plt.xlabel('Number of iterations')\n",
        "plt.ylabel('Loss (J)')\n",
        "plt.title('Convergence of gradient descent')"
      ],
      "metadata": {
        "colab": {
          "base_uri": "https://localhost:8080/",
          "height": 422
        },
        "id": "_NItkIZChM-Q",
        "outputId": "a50f8db9-210e-4100-d40d-20d0940f96cb"
      },
      "execution_count": 20,
      "outputs": [
        {
          "output_type": "execute_result",
          "data": {
            "text/plain": [
              "Text(0.5, 1.0, 'Convergence of gradient descent')"
            ]
          },
          "metadata": {},
          "execution_count": 20
        },
        {
          "output_type": "display_data",
          "data": {
            "text/plain": [
              "<Figure size 720x432 with 1 Axes>"
            ],
            "image/png": "[encoded data removed]"
          },
          "metadata": {
            "needs_background": "light"
          }
        }
      ]
    },
    {
      "cell_type": "code",
      "source": [
        "plt.plot(range(1,iterations + 1), Standard_LossTraining, color = 'blue')\n",
        "plt.plot(range(1,iterations + 1), Standard_LossValidation, color = 'green')\n",
        "plt.rcParams[\"figure.figsize\"] = (10,6)\n",
        "plt.grid()\n",
        "plt.xlabel('Number of iterations')\n",
        "plt.ylabel('Loss (J)')\n",
        "plt.title('Convergence of gradient descent')"
      ],
      "metadata": {
        "colab": {
          "base_uri": "https://localhost:8080/",
          "height": 422
        },
        "id": "NIo0tfXPpnWQ",
        "outputId": "68b96990-5979-4515-9078-d4fc7d1a4b9d"
      },
      "execution_count": 21,
      "outputs": [
        {
          "output_type": "execute_result",
          "data": {
            "text/plain": [
              "Text(0.5, 1.0, 'Convergence of gradient descent')"
            ]
          },
          "metadata": {},
          "execution_count": 21
        },
        {
          "output_type": "display_data",
          "data": {
            "text/plain": [
              "<Figure size 720x432 with 1 Axes>"
            ],
            "image/png": "[encoded data removed]"
          },
          "metadata": {
            "needs_background": "light"
          }
        }
      ]
    },
    {
      "cell_type": "markdown",
      "source": [
        "2.b) Repeat problem 1 b, this time with input normalization and input standardization as part of your pre-processing logic. You need to perform two separate trainings for standardization and normalization. \n",
        "\n",
        "Plot the training and validation losses for both training and validation set based on input standardization and input normalization. Compare your training accuracy between both scaling approaches as well as the baseline training in problem 1 b. Which input scaling achieves the best training? Explain your results."
      ],
      "metadata": {
        "id": "4ScnP8HRhG-3"
      }
    },
    {
      "cell_type": "code",
      "source": [
        "P2col = ['area', 'bedrooms', 'bathrooms', 'stories', 'mainroad', 'guestroom', 'basement', 'hotwaterheating', 'airconditioning', 'parking', 'prefarea']\n",
        "\n",
        "# Standardized\n",
        "\n",
        "StandardIn = STANDARD_DF[P2col]\n",
        "StandardOut = STANDARD_DF.iloc[:,0]\n",
        "\n",
        "# Normalized\n",
        "\n",
        "NormIn = NORM_DF[P2col]\n",
        "NormOut = NORM_DF.iloc[:,0]\n",
        "\n",
        "# Split the sets\n",
        "\n",
        "X_standardTraining, X_standardValidation, Y_StandardTraining, Y_StandardValidation = train_test_split(StandardIn, StandardOut, test_size = .2, random_state = 420)\n",
        "X_NormTraining, X_NormValidation, Y_NormTraining, Y_NormValidation = train_test_split(NormIn,NormOut, test_size = .2, random_state = 420)\n",
        "\n",
        "# Add ones vector to inputs\n",
        "\n",
        "#Normalized\n",
        "\n",
        "normTrainingIn = pd.concat([pd.Series(1, index=X_NormTraining.index, name='00'), X_NormTraining], axis=1)\n",
        "normValidationIn = pd.concat([pd.Series(1,index=X_NormValidation.index, name='00'), X_NormValidation], axis =1)\n",
        "\n",
        "#Standardized\n",
        "\n",
        "standardTrainingIn = pd.concat([pd.Series(1, index=X_standardTraining.index, name='00'), X_NormTraining], axis=1)\n",
        "standardValidationIn = pd.concat([pd.Series(1,index=X_standardValidation.index, name='00'), X_NormValidation], axis =1)\n",
        "\n",
        "# Set thetas\n",
        "\n",
        "# Normalized\n",
        "\n",
        "norm_thetaTraining = np.array([0]*len(normTrainingIn.columns))\n",
        "norm_thetaValidation = np.array([0]*len(normValidationIn.columns))\n",
        "\n",
        "# Standardized\n",
        "standard_thetaTraining = np.array([0]*len(standardTrainingIn.columns))\n",
        "standard_thetaValidation = np.array([0]*len(standardValidationIn.columns))\n",
        "\n",
        "# Getting the trainingEX values\n",
        "\n",
        "# Normalized\n",
        "normTraining_examples = len(Y_NormTraining)\n",
        "normValidationEX = len(Y_NormValidation)\n",
        "\n",
        "# Standardized\n",
        "standardTraining_examples = len(Y_StandardTraining)\n",
        "standardValidationEX = len(Y_StandardValidation)"
      ],
      "metadata": {
        "id": "M82igs15pYHv"
      },
      "execution_count": 22,
      "outputs": []
    },
    {
      "cell_type": "code",
      "source": [
        "# Loss calculation for both sets\n",
        "\n",
        "# Normalized\n",
        "\n",
        "Norm_LossTraining = compute_loss(normTrainingIn,Y_NormTraining,norm_thetaTraining,normTraining_examples)\n",
        "print(Norm_LossTraining)\n",
        "Norm_LossValidation = compute_loss(normValidationIn,Y_NormValidation,norm_thetaValidation,normValidationEX)\n",
        "print(Norm_LossValidation)\n",
        "\n",
        "# Standardized\n",
        "\n",
        "Standard_LossTraining = compute_loss(standardTrainingIn,Y_StandardTraining,standard_thetaTraining,standardTraining_examples)\n",
        "print(Standard_LossTraining)\n",
        "Standard_LossValidation = compute_loss(standardValidationIn,Y_StandardValidation,standard_thetaValidation,standardValidationEX)\n",
        "print(Standard_LossValidation)"
      ],
      "metadata": {
        "colab": {
          "base_uri": "https://localhost:8080/"
        },
        "id": "cHC9iNVeqFrP",
        "outputId": "1dcf29d4-4aa6-43b3-fe97-f8c3dc0c9093"
      },
      "execution_count": 23,
      "outputs": [
        {
          "output_type": "stream",
          "name": "stdout",
          "text": [
            "0.034184007188717\n",
            "0.03285794079291208\n",
            "0.034184007188717\n",
            "0.03285794079291208\n"
          ]
        }
      ]
    },
    {
      "cell_type": "code",
      "source": [
        "# Gradient descent\n",
        "\n",
        "# Training\n",
        "\n",
        "# Normalized\n",
        "\n",
        "norm_thetaTraining = [0.,0.,0.,0.,0.,0.,0.,0.,0.,0.,0.,0.]\n",
        "iterations = 500;\n",
        "alpha = 0.1;\n",
        "Norm_thetaTraining, Norm_LossTraining = gradient_descent(normTrainingIn,Y_NormTraining,norm_thetaTraining,normTraining_examples,alpha, iterations)\n",
        "print('Final value of theta =', Norm_thetaTraining)\n",
        "\n",
        "# Standardized\n",
        "\n",
        "standard_thetaTraining = [0.,0.,0.,0.,0.,0.,0.,0.,0.,0.,0.,0.]\n",
        "iterations = 500;\n",
        "alpha = 0.1;\n",
        "Standard_thetaTraining, Standard_LossTraining = gradient_descent(standardTrainingIn,Y_StandardTraining,standard_thetaTraining,standardTraining_examples,alpha, iterations)\n",
        "print('Final value of theta =', Standard_thetaTraining)\n",
        "\n",
        "# Validation\n",
        "\n",
        "# Normalized\n",
        "\n",
        "norm_thetaValidation = [0.,0.,0.,0.,0.,0.,0.,0.,0.,0.,0.,0.]\n",
        "iterations = 500;\n",
        "alpha = 0.1;\n",
        "norm_thetaValidation, Norm_LossValidation = gradient_descent(normValidationIn,Y_NormValidation,norm_thetaValidation,normValidationEX, alpha, iterations)\n",
        "print('Final value of theta =', norm_thetaValidation)\n",
        "\n",
        "# Stanardized\n",
        "\n",
        "standard_thetaValidation = [0.,0.,0.,0.,0.,0.,0.,0.,0.,0.,0.,0.]\n",
        "iterations = 500;\n",
        "alpha = 0.1;\n",
        "standard_thetaValidation, Standard_LossValidation = gradient_descent(standardValidationIn,Y_StandardValidation,standard_thetaValidation,standardValidationEX, alpha, iterations)\n",
        "print('Final value of theta =', standard_thetaValidation)"
      ],
      "metadata": {
        "colab": {
          "base_uri": "https://localhost:8080/"
        },
        "id": "ec6olsp9uQw3",
        "outputId": "1fe4f1b5-a856-4efc-f3b4-c1b3ebb6090a"
      },
      "execution_count": 24,
      "outputs": [
        {
          "output_type": "stream",
          "name": "stdout",
          "text": [
            "Final value of theta = 00                -0.003906\n",
            "area               0.279311\n",
            "bedrooms           0.060752\n",
            "bathrooms          0.231078\n",
            "stories            0.185913\n",
            "mainroad           0.076013\n",
            "guestroom          0.083000\n",
            "basement           0.073980\n",
            "hotwaterheating    0.083278\n",
            "airconditioning    0.203625\n",
            "parking            0.105997\n",
            "prefarea           0.142958\n",
            "dtype: float64\n",
            "Final value of theta = 00                -0.003906\n",
            "area               0.279311\n",
            "bedrooms           0.060752\n",
            "bathrooms          0.231078\n",
            "stories            0.185913\n",
            "mainroad           0.076013\n",
            "guestroom          0.083000\n",
            "basement           0.073980\n",
            "hotwaterheating    0.083278\n",
            "airconditioning    0.203625\n",
            "parking            0.105997\n",
            "prefarea           0.142958\n",
            "dtype: float64\n",
            "Final value of theta = 00                -0.000232\n",
            "area               0.224156\n",
            "bedrooms           0.052958\n",
            "bathrooms          0.236169\n",
            "stories            0.237286\n",
            "mainroad           0.121069\n",
            "guestroom          0.065420\n",
            "basement           0.061778\n",
            "hotwaterheating    0.077206\n",
            "airconditioning    0.147083\n",
            "parking            0.141796\n",
            "prefarea           0.163585\n",
            "dtype: float64\n",
            "Final value of theta = 00                -0.000232\n",
            "area               0.224156\n",
            "bedrooms           0.052958\n",
            "bathrooms          0.236169\n",
            "stories            0.237286\n",
            "mainroad           0.121069\n",
            "guestroom          0.065420\n",
            "basement           0.061778\n",
            "hotwaterheating    0.077206\n",
            "airconditioning    0.147083\n",
            "parking            0.141796\n",
            "prefarea           0.163585\n",
            "dtype: float64\n"
          ]
        }
      ]
    },
    {
      "cell_type": "code",
      "source": [
        "# Loss graph\n",
        "\n",
        "plt.plot(range(1,iterations + 1), Norm_LossTraining, color = 'blue')\n",
        "plt.plot(range(1,iterations + 1), Norm_LossValidation, color = 'green')\n",
        "plt.rcParams[\"figure.figsize\"] = (10,6)\n",
        "plt.grid()\n",
        "plt.xlabel('Number of iterations')\n",
        "plt.ylabel('Loss (J)')\n",
        "plt.title('Convergence of gradient descent')"
      ],
      "metadata": {
        "colab": {
          "base_uri": "https://localhost:8080/",
          "height": 422
        },
        "id": "vvLkkU5BvCox",
        "outputId": "e2b619e3-7389-4e23-97bf-dd3328122d62"
      },
      "execution_count": 25,
      "outputs": [
        {
          "output_type": "execute_result",
          "data": {
            "text/plain": [
              "Text(0.5, 1.0, 'Convergence of gradient descent')"
            ]
          },
          "metadata": {},
          "execution_count": 25
        },
        {
          "output_type": "display_data",
          "data": {
            "text/plain": [
              "<Figure size 720x432 with 1 Axes>"
            ],
            "image/png": "[encoded data removed]"
          },
          "metadata": {
            "needs_background": "light"
          }
        }
      ]
    },
    {
      "cell_type": "code",
      "source": [
        "plt.plot(range(1,iterations + 1), Standard_LossTraining, color = 'blue')\n",
        "plt.plot(range(1,iterations + 1), Standard_LossValidation, color = 'green')\n",
        "plt.rcParams[\"figure.figsize\"] = (10,6)\n",
        "plt.grid()\n",
        "plt.xlabel('Number of iterations')\n",
        "plt.ylabel('Loss (J)')\n",
        "plt.title('Convergence of gradient descent')"
      ],
      "metadata": {
        "colab": {
          "base_uri": "https://localhost:8080/",
          "height": 422
        },
        "id": "DBanircfvDdA",
        "outputId": "af778284-357f-475c-9a20-ea91c02f3f61"
      },
      "execution_count": 26,
      "outputs": [
        {
          "output_type": "execute_result",
          "data": {
            "text/plain": [
              "Text(0.5, 1.0, 'Convergence of gradient descent')"
            ]
          },
          "metadata": {},
          "execution_count": 26
        },
        {
          "output_type": "display_data",
          "data": {
            "text/plain": [
              "<Figure size 720x432 with 1 Axes>"
            ],
            "image/png": "[encoded data removed]"
          },
          "metadata": {
            "needs_background": "light"
          }
        }
      ]
    },
    {
      "cell_type": "markdown",
      "source": [
        "**Problem 3 (40 points)**\n",
        "\n",
        "3.a) Repeat problem 2 a, this time by adding parameters penalty to your loss function. Note that in this case, you need to modify the gradient decent logic for your training set, but you don’t need to change your loss for the evaluation set.  \n",
        "\n",
        "Plot your results (both training and evaluation losses) for the best input scaling approach (standardization or normalization). Explain your results and compare them against problem 2 a. \n",
        "\n"
      ],
      "metadata": {
        "id": "q7g3ASUBmgth"
      }
    },
    {
      "cell_type": "code",
      "source": [
        "# Import data set, set data frame for normalized & standardized sets\n",
        "\n",
        "csv = pd.read_csv(\"/content/drive/MyDrive/ECGR 4105 - Intro to Machine Learning/Homework/Housing.csv\")\n",
        "\n",
        "df = pd.DataFrame(csv)\n",
        "print(df.head)\n",
        "\n",
        "NORM_DF = csv\n",
        "print(NORM_DF.head)\n",
        "\n",
        "STANDARD_DF = csv\n",
        "print(STANDARD_DF.head)"
      ],
      "metadata": {
        "colab": {
          "base_uri": "https://localhost:8080/"
        },
        "id": "PMbCysStvpjt",
        "outputId": "4ecb0fef-76db-494d-abb9-8da3670caeec"
      },
      "execution_count": 27,
      "outputs": [
        {
          "output_type": "stream",
          "name": "stdout",
          "text": [
            "<bound method NDFrame.head of         price  area  bedrooms  bathrooms  stories mainroad guestroom basement  \\\n",
            "0    13300000  7420         4          2        3      yes        no       no   \n",
            "1    12250000  8960         4          4        4      yes        no       no   \n",
            "2    12250000  9960         3          2        2      yes        no      yes   \n",
            "3    12215000  7500         4          2        2      yes        no      yes   \n",
            "4    11410000  7420         4          1        2      yes       yes      yes   \n",
            "..        ...   ...       ...        ...      ...      ...       ...      ...   \n",
            "540   1820000  3000         2          1        1      yes        no      yes   \n",
            "541   1767150  2400         3          1        1       no        no       no   \n",
            "542   1750000  3620         2          1        1      yes        no       no   \n",
            "543   1750000  2910         3          1        1       no        no       no   \n",
            "544   1750000  3850         3          1        2      yes        no       no   \n",
            "\n",
            "    hotwaterheating airconditioning  parking prefarea furnishingstatus  \n",
            "0                no             yes        2      yes        furnished  \n",
            "1                no             yes        3       no        furnished  \n",
            "2                no              no        2      yes   semi-furnished  \n",
            "3                no             yes        3      yes        furnished  \n",
            "4                no             yes        2       no        furnished  \n",
            "..              ...             ...      ...      ...              ...  \n",
            "540              no              no        2       no      unfurnished  \n",
            "541              no              no        0       no   semi-furnished  \n",
            "542              no              no        0       no      unfurnished  \n",
            "543              no              no        0       no        furnished  \n",
            "544              no              no        0       no      unfurnished  \n",
            "\n",
            "[545 rows x 13 columns]>\n",
            "<bound method NDFrame.head of         price  area  bedrooms  bathrooms  stories mainroad guestroom basement  \\\n",
            "0    13300000  7420         4          2        3      yes        no       no   \n",
            "1    12250000  8960         4          4        4      yes        no       no   \n",
            "2    12250000  9960         3          2        2      yes        no      yes   \n",
            "3    12215000  7500         4          2        2      yes        no      yes   \n",
            "4    11410000  7420         4          1        2      yes       yes      yes   \n",
            "..        ...   ...       ...        ...      ...      ...       ...      ...   \n",
            "540   1820000  3000         2          1        1      yes        no      yes   \n",
            "541   1767150  2400         3          1        1       no        no       no   \n",
            "542   1750000  3620         2          1        1      yes        no       no   \n",
            "543   1750000  2910         3          1        1       no        no       no   \n",
            "544   1750000  3850         3          1        2      yes        no       no   \n",
            "\n",
            "    hotwaterheating airconditioning  parking prefarea furnishingstatus  \n",
            "0                no             yes        2      yes        furnished  \n",
            "1                no             yes        3       no        furnished  \n",
            "2                no              no        2      yes   semi-furnished  \n",
            "3                no             yes        3      yes        furnished  \n",
            "4                no             yes        2       no        furnished  \n",
            "..              ...             ...      ...      ...              ...  \n",
            "540              no              no        2       no      unfurnished  \n",
            "541              no              no        0       no   semi-furnished  \n",
            "542              no              no        0       no      unfurnished  \n",
            "543              no              no        0       no        furnished  \n",
            "544              no              no        0       no      unfurnished  \n",
            "\n",
            "[545 rows x 13 columns]>\n",
            "<bound method NDFrame.head of         price  area  bedrooms  bathrooms  stories mainroad guestroom basement  \\\n",
            "0    13300000  7420         4          2        3      yes        no       no   \n",
            "1    12250000  8960         4          4        4      yes        no       no   \n",
            "2    12250000  9960         3          2        2      yes        no      yes   \n",
            "3    12215000  7500         4          2        2      yes        no      yes   \n",
            "4    11410000  7420         4          1        2      yes       yes      yes   \n",
            "..        ...   ...       ...        ...      ...      ...       ...      ...   \n",
            "540   1820000  3000         2          1        1      yes        no      yes   \n",
            "541   1767150  2400         3          1        1       no        no       no   \n",
            "542   1750000  3620         2          1        1      yes        no       no   \n",
            "543   1750000  2910         3          1        1       no        no       no   \n",
            "544   1750000  3850         3          1        2      yes        no       no   \n",
            "\n",
            "    hotwaterheating airconditioning  parking prefarea furnishingstatus  \n",
            "0                no             yes        2      yes        furnished  \n",
            "1                no             yes        3       no        furnished  \n",
            "2                no              no        2      yes   semi-furnished  \n",
            "3                no             yes        3      yes        furnished  \n",
            "4                no             yes        2       no        furnished  \n",
            "..              ...             ...      ...      ...              ...  \n",
            "540              no              no        2       no      unfurnished  \n",
            "541              no              no        0       no   semi-furnished  \n",
            "542              no              no        0       no      unfurnished  \n",
            "543              no              no        0       no        furnished  \n",
            "544              no              no        0       no      unfurnished  \n",
            "\n",
            "[545 rows x 13 columns]>\n"
          ]
        }
      ]
    },
    {
      "cell_type": "code",
      "source": [
        "# Normalized Set WIP\n",
        "\n",
        "NORM_DF = useful_category(NORM_DF)\n",
        "print(NORM_DF.head)\n",
        "\n",
        "# Standardized Set WIP\n",
        "\n",
        "STANDARD_DF = useful_category(STANDARD_DF)\n",
        "print(STANDARD_DF.head)"
      ],
      "metadata": {
        "colab": {
          "base_uri": "https://localhost:8080/"
        },
        "id": "3lvrAWiWIt4C",
        "outputId": "3808320b-85bf-4891-df91-ef4952acc625"
      },
      "execution_count": 28,
      "outputs": [
        {
          "output_type": "stream",
          "name": "stdout",
          "text": [
            "<bound method NDFrame.head of         price  area  bedrooms  bathrooms  stories  mainroad  guestroom  \\\n",
            "0    13300000  7420         4          2        3         1          0   \n",
            "1    12250000  8960         4          4        4         1          0   \n",
            "2    12250000  9960         3          2        2         1          0   \n",
            "3    12215000  7500         4          2        2         1          0   \n",
            "4    11410000  7420         4          1        2         1          1   \n",
            "..        ...   ...       ...        ...      ...       ...        ...   \n",
            "540   1820000  3000         2          1        1         1          0   \n",
            "541   1767150  2400         3          1        1         0          0   \n",
            "542   1750000  3620         2          1        1         1          0   \n",
            "543   1750000  2910         3          1        1         0          0   \n",
            "544   1750000  3850         3          1        2         1          0   \n",
            "\n",
            "     basement  hotwaterheating  airconditioning  parking  prefarea  \\\n",
            "0           0                0                1        2         1   \n",
            "1           0                0                1        3         0   \n",
            "2           1                0                0        2         1   \n",
            "3           1                0                1        3         1   \n",
            "4           1                0                1        2         0   \n",
            "..        ...              ...              ...      ...       ...   \n",
            "540         1                0                0        2         0   \n",
            "541         0                0                0        0         0   \n",
            "542         0                0                0        0         0   \n",
            "543         0                0                0        0         0   \n",
            "544         0                0                0        0         0   \n",
            "\n",
            "     furnishingstatus  \n",
            "0                   0  \n",
            "1                   0  \n",
            "2                   1  \n",
            "3                   0  \n",
            "4                   0  \n",
            "..                ...  \n",
            "540                 2  \n",
            "541                 1  \n",
            "542                 2  \n",
            "543                 0  \n",
            "544                 2  \n",
            "\n",
            "[545 rows x 13 columns]>\n",
            "<bound method NDFrame.head of         price  area  bedrooms  bathrooms  stories  mainroad  guestroom  \\\n",
            "0    13300000  7420         4          2        3         1          0   \n",
            "1    12250000  8960         4          4        4         1          0   \n",
            "2    12250000  9960         3          2        2         1          0   \n",
            "3    12215000  7500         4          2        2         1          0   \n",
            "4    11410000  7420         4          1        2         1          1   \n",
            "..        ...   ...       ...        ...      ...       ...        ...   \n",
            "540   1820000  3000         2          1        1         1          0   \n",
            "541   1767150  2400         3          1        1         0          0   \n",
            "542   1750000  3620         2          1        1         1          0   \n",
            "543   1750000  2910         3          1        1         0          0   \n",
            "544   1750000  3850         3          1        2         1          0   \n",
            "\n",
            "     basement  hotwaterheating  airconditioning  parking  prefarea  \\\n",
            "0           0                0                1        2         1   \n",
            "1           0                0                1        3         0   \n",
            "2           1                0                0        2         1   \n",
            "3           1                0                1        3         1   \n",
            "4           1                0                1        2         0   \n",
            "..        ...              ...              ...      ...       ...   \n",
            "540         1                0                0        2         0   \n",
            "541         0                0                0        0         0   \n",
            "542         0                0                0        0         0   \n",
            "543         0                0                0        0         0   \n",
            "544         0                0                0        0         0   \n",
            "\n",
            "     furnishingstatus  \n",
            "0                   0  \n",
            "1                   0  \n",
            "2                   1  \n",
            "3                   0  \n",
            "4                   0  \n",
            "..                ...  \n",
            "540                 2  \n",
            "541                 1  \n",
            "542                 2  \n",
            "543                 0  \n",
            "544                 2  \n",
            "\n",
            "[545 rows x 13 columns]>\n"
          ]
        }
      ]
    },
    {
      "cell_type": "code",
      "source": [
        "# Standardize Set\n",
        "\n",
        "S_Columns = STANDARD_DF.columns\n",
        "scaler = preprocessing.StandardScaler().fit(STANDARD_DF)\n",
        "STANDARD_DF[S_Columns] = scaler.transform(STANDARD_DF[S_Columns])"
      ],
      "metadata": {
        "id": "39YYi6mawBYr"
      },
      "execution_count": 29,
      "outputs": []
    },
    {
      "cell_type": "code",
      "source": [
        "# Normalize Set\n",
        "\n",
        "N_Columns = NORM_DF.columns\n",
        "normalizer = preprocessing.Normalizer().fit(NORM_DF)\n",
        "NORM_DF[N_Columns] = normalizer.transform(NORM_DF[N_Columns])"
      ],
      "metadata": {
        "id": "-pz3CIB-9KgN"
      },
      "execution_count": 30,
      "outputs": []
    },
    {
      "cell_type": "code",
      "source": [
        "# Taking regularlization into account\n",
        "\n",
        "lamb = 0.01\n",
        "def gradient_descent(In, Out, theta,Training_Examples, alpha, iterations):\n",
        "  Loss_old = np.zeros(iterations)\n",
        "\n",
        "  for i in range(iterations):\n",
        "    predictions = In.dot(theta)\n",
        "    errors = np.subtract(predictions, Out)\n",
        "    sum_delta = (alpha/Training_Examples) * In.transpose().dot(errors);\n",
        "    if i > 0:\n",
        "      sum_delta += ((alpha*lamb)/Training_Examples) * theta\n",
        "    theta = theta - sum_delta;\n",
        "    Loss_old[i] = compute_loss(In,Out,theta,Training_Examples)\n",
        "  return theta, Loss_old"
      ],
      "metadata": {
        "id": "lO2GPfNAQ21X"
      },
      "execution_count": 31,
      "outputs": []
    },
    {
      "cell_type": "code",
      "source": [
        "P1col = ['area', 'bedrooms', 'bathrooms', 'stories', 'parking']\n",
        "\n",
        "# Standardized\n",
        "\n",
        "StandardIn = STANDARD_DF[P1col]\n",
        "StandardOut = STANDARD_DF.iloc[:,0]\n",
        "\n",
        "# Normalized\n",
        "\n",
        "NormIn = NORM_DF[P1col]\n",
        "NormOut = NORM_DF.iloc[:,0]\n",
        "\n",
        "# Split sets\n",
        "\n",
        "X_standardTraining, X_standardValidation, Y_StandardTraining, Y_StandardValidation = train_test_split(StandardIn, StandardOut, test_size = .2, random_state = 420)\n",
        "X_NormTraining, X_NormValidation, Y_NormTraining, Y_NormValidation = train_test_split(NormIn,NormOut, test_size = .2, random_state = 420)\n",
        "\n",
        "# Add ones vector to inputs\n",
        "\n",
        "# Normalized\n",
        "\n",
        "normTrainingIn = pd.concat([pd.Series(1, index=X_NormTraining.index, name='00'), X_NormTraining], axis=1)\n",
        "normValidationIn = pd.concat([pd.Series(1,index=X_NormValidation.index, name='00'), X_NormValidation], axis =1)\n",
        "\n",
        "# Standardized\n",
        "\n",
        "standardTrainingIn = pd.concat([pd.Series(1, index=X_standardTraining.index, name='00'), X_NormTraining], axis=1)\n",
        "standardValidationIn = pd.concat([pd.Series(1,index=X_standardValidation.index, name='00'), X_NormValidation], axis =1)\n",
        "\n",
        "# Set thetas\n",
        "\n",
        "# Normalized\n",
        "\n",
        "norm_thetaTraining = np.array([0]*len(normTrainingIn.columns))\n",
        "norm_thetaValidation = np.array([0]*len(normValidationIn.columns))\n",
        "\n",
        "# Standardized\n",
        "\n",
        "standard_thetaTraining = np.array([0]*len(standardTrainingIn.columns))\n",
        "standard_thetaValidation = np.array([0]*len(standardValidationIn.columns))\n",
        "\n",
        "# TrainingEX values\n",
        "\n",
        "# Normalized\n",
        "\n",
        "normTraining_examples = len(Y_NormTraining)\n",
        "normValidationEX = len(Y_NormValidation)\n",
        "\n",
        "# Standardized\n",
        "\n",
        "standardTraining_examples = len(Y_StandardTraining)\n",
        "standardValidationEX = len(Y_StandardValidation)"
      ],
      "metadata": {
        "id": "12huKqhDQ6rY"
      },
      "execution_count": 32,
      "outputs": []
    },
    {
      "cell_type": "code",
      "source": [
        "# Loss calculation\n",
        "\n",
        "# Normalized\n",
        "\n",
        "Norm_LossTraining = compute_loss(normTrainingIn,Y_NormTraining,norm_thetaTraining,normTraining_examples)\n",
        "print(Norm_LossTraining)\n",
        "Norm_LossValidation = compute_loss(normValidationIn,Y_NormValidation,norm_thetaValidation,normValidationEX)\n",
        "print(Norm_LossValidation)\n",
        "\n",
        "# Standardized\n",
        "\n",
        "Standard_LossTraining = compute_loss(standardTrainingIn,Y_StandardTraining,standard_thetaTraining,standardTraining_examples)\n",
        "print(Standard_LossTraining)\n",
        "Standard_LossValidation = compute_loss(standardValidationIn,Y_StandardValidation,standard_thetaValidation,standardValidationEX)\n",
        "print(Standard_LossValidation)"
      ],
      "metadata": {
        "colab": {
          "base_uri": "https://localhost:8080/"
        },
        "id": "KEjEvHkBRLTv",
        "outputId": "b98b5da1-0572-4a72-ea7f-e20720dbe74e"
      },
      "execution_count": 33,
      "outputs": [
        {
          "output_type": "stream",
          "name": "stdout",
          "text": [
            "0.034184007188717\n",
            "0.03285794079291208\n",
            "0.034184007188717\n",
            "0.03285794079291208\n"
          ]
        }
      ]
    },
    {
      "cell_type": "code",
      "source": [
        "# Gradient descent\n",
        "\n",
        "# Training\n",
        "\n",
        "# Normalized\n",
        "\n",
        "norm_thetaTraining = [0.,0.,0.,0.,0.,0.]\n",
        "iterations = 700;\n",
        "alpha = 0.07;\n",
        "Norm_thetaTraining, Norm_LossTraining = gradient_descent(normTrainingIn,Y_NormTraining,norm_thetaTraining,normTraining_examples,alpha, iterations)\n",
        "print('Final value of theta =', Norm_thetaTraining)\n",
        "\n",
        "# Standardized\n",
        "\n",
        "standard_thetaTraining = [0.,0.,0.,0.,0.,0.]\n",
        "iterations = 700;\n",
        "alpha = 0.07;\n",
        "Standard_thetaTraining, Standard_LossTraining = gradient_descent(standardTrainingIn,Y_StandardTraining,standard_thetaTraining,standardTraining_examples,alpha, iterations)\n",
        "print('Final value of theta =', Standard_thetaTraining)\n",
        "\n",
        "# Validation\n",
        "\n",
        "# Normalized\n",
        "\n",
        "norm_thetaValidation = [0.,0.,0.,0.,0.,0.]\n",
        "iterations = 700;\n",
        "alpha = 0.07;\n",
        "norm_thetaValidation, Norm_LossValidation = gradient_descent(normValidationIn,Y_NormValidation,norm_thetaValidation,normValidationEX, alpha, iterations)\n",
        "print('Final value of theta =', norm_thetaValidation)\n",
        "\n",
        "# Stanardized\n",
        "\n",
        "standard_thetaValidation = [0.,0.,0.,0.,0.,0.]\n",
        "iterations = 700;\n",
        "alpha = 0.07;\n",
        "standard_thetaValidation, Standard_LossValidation = gradient_descent(standardValidationIn,Y_StandardValidation,standard_thetaValidation,standardValidationEX, alpha, iterations)\n",
        "print('Final value of theta =', standard_thetaValidation)"
      ],
      "metadata": {
        "colab": {
          "base_uri": "https://localhost:8080/"
        },
        "id": "s7dP33qnRQ5i",
        "outputId": "250e5dc6-9f33-400e-e680-16aa770c0185"
      },
      "execution_count": 34,
      "outputs": [
        {
          "output_type": "stream",
          "name": "stdout",
          "text": [
            "Final value of theta = 00          -0.009596\n",
            "area         0.357309\n",
            "bedrooms     0.079907\n",
            "bathrooms    0.287872\n",
            "stories      0.232515\n",
            "parking      0.140107\n",
            "dtype: float64\n",
            "Final value of theta = 00          -0.009596\n",
            "area         0.357309\n",
            "bedrooms     0.079907\n",
            "bathrooms    0.287872\n",
            "stories      0.232515\n",
            "parking      0.140107\n",
            "dtype: float64\n",
            "Final value of theta = 00          -0.006669\n",
            "area         0.389225\n",
            "bedrooms     0.057078\n",
            "bathrooms    0.271209\n",
            "stories      0.239498\n",
            "parking      0.150698\n",
            "dtype: float64\n",
            "Final value of theta = 00          -0.006669\n",
            "area         0.389225\n",
            "bedrooms     0.057078\n",
            "bathrooms    0.271209\n",
            "stories      0.239498\n",
            "parking      0.150698\n",
            "dtype: float64\n"
          ]
        }
      ]
    },
    {
      "cell_type": "code",
      "source": [
        "# Normalization Loss Graph\n",
        "\n",
        "plt.plot(range(1,iterations + 1), Norm_LossTraining, color = 'blue')\n",
        "plt.plot(range(1,iterations + 1), Norm_LossValidation, color = 'green')\n",
        "plt.rcParams[\"figure.figsize\"] = (10,6)\n",
        "plt.grid()\n",
        "plt.xlabel('Number of iterations')\n",
        "plt.ylabel('Loss (J)')\n",
        "plt.title('Convergence of gradient descent')"
      ],
      "metadata": {
        "colab": {
          "base_uri": "https://localhost:8080/",
          "height": 422
        },
        "id": "4bioj4O8RUQR",
        "outputId": "7769f65a-ef7b-4784-b0d8-25f3e8f11b19"
      },
      "execution_count": 35,
      "outputs": [
        {
          "output_type": "execute_result",
          "data": {
            "text/plain": [
              "Text(0.5, 1.0, 'Convergence of gradient descent')"
            ]
          },
          "metadata": {},
          "execution_count": 35
        },
        {
          "output_type": "display_data",
          "data": {
            "text/plain": [
              "<Figure size 720x432 with 1 Axes>"
            ],
            "image/png": "[encoded data removed]"
          },
          "metadata": {
            "needs_background": "light"
          }
        }
      ]
    },
    {
      "cell_type": "code",
      "source": [
        "# Standardization Loss Graph\n",
        "\n",
        "plt.plot(range(1,iterations + 1), Standard_LossTraining, color = 'blue')\n",
        "plt.plot(range(1,iterations + 1), Standard_LossValidation, color = 'green')\n",
        "plt.rcParams[\"figure.figsize\"] = (10,6)\n",
        "plt.grid()\n",
        "plt.xlabel('Number of iterations')\n",
        "plt.ylabel('Loss (J)')\n",
        "plt.title('Convergence of gradient descent')"
      ],
      "metadata": {
        "colab": {
          "base_uri": "https://localhost:8080/",
          "height": 422
        },
        "id": "BI54A6GVRUm8",
        "outputId": "d0b288fb-b3fb-4da9-9011-1a79d20280cd"
      },
      "execution_count": 36,
      "outputs": [
        {
          "output_type": "execute_result",
          "data": {
            "text/plain": [
              "Text(0.5, 1.0, 'Convergence of gradient descent')"
            ]
          },
          "metadata": {},
          "execution_count": 36
        },
        {
          "output_type": "display_data",
          "data": {
            "text/plain": [
              "<Figure size 720x432 with 1 Axes>"
            ],
            "image/png": "[encoded data removed]"
          },
          "metadata": {
            "needs_background": "light"
          }
        }
      ]
    },
    {
      "cell_type": "markdown",
      "source": [
        "3.b) Repeat problem 2 b, this time by adding parameters penalty to your loss function. Note that in this case, you need to modify the gradient decent logic for your training set, but you don’t need to change your loss for the evaluation set.  \n",
        "\n",
        "Plot your results (both training and evaluation losses) for the best input scaling approach (standardization or normalization). Explain your results and compare them against problem 2 b. "
      ],
      "metadata": {
        "id": "CVltGgSzQthL"
      }
    },
    {
      "cell_type": "code",
      "source": [
        "P2col = ['area', 'bedrooms', 'bathrooms', 'stories', 'mainroad', 'guestroom', 'basement', 'hotwaterheating', 'airconditioning', 'parking', 'prefarea']\n",
        "\n",
        "# Standardized\n",
        "\n",
        "StandardIn = STANDARD_DF[P2col]\n",
        "StandardOut = STANDARD_DF.iloc[:,0]\n",
        "\n",
        "# Normalized\n",
        "\n",
        "NormIn = NORM_DF[P2col]\n",
        "NormOut = NORM_DF.iloc[:,0]\n",
        "\n",
        "\n",
        "# Split sets\n",
        "\n",
        "X_standardTraining, X_standardValidation, Y_StandardTraining, Y_StandardValidation = train_test_split(StandardIn, StandardOut, test_size = .2, random_state = 420)\n",
        "X_NormTraining, X_NormValidation, Y_NormTraining, Y_NormValidation = train_test_split(NormIn,NormOut, test_size = .2, random_state = 420)\n",
        "\n",
        "\n",
        "# Add ones vector\n",
        "\n",
        "# Normalized\n",
        "\n",
        "normTrainingIn = pd.concat([pd.Series(1, index=X_NormTraining.index, name='00'), X_NormTraining], axis=1)\n",
        "normValidationIn = pd.concat([pd.Series(1,index=X_NormValidation.index, name='00'), X_NormValidation], axis =1)\n",
        "\n",
        "# Standardized\n",
        "\n",
        "standardTrainingIn = pd.concat([pd.Series(1, index=X_standardTraining.index, name='00'), X_NormTraining], axis=1)\n",
        "standardValidationIn = pd.concat([pd.Series(1,index=X_standardValidation.index, name='00'), X_NormValidation], axis =1)\n",
        "\n",
        "# Set thetas\n",
        "\n",
        "# Normalized\n",
        "\n",
        "norm_thetaTraining = np.array([0]*len(normTrainingIn.columns))\n",
        "norm_thetaValidation = np.array([0]*len(normValidationIn.columns))\n",
        "\n",
        "# Standardized\n",
        "\n",
        "standard_thetaTraining = np.array([0]*len(standardTrainingIn.columns))\n",
        "standard_thetaValidation = np.array([0]*len(standardValidationIn.columns))\n",
        "\n",
        "# TrainingEX values\n",
        "\n",
        "# Normalized\n",
        "\n",
        "normTraining_examples = len(Y_NormTraining)\n",
        "normValidationEX = len(Y_NormValidation)\n",
        "\n",
        "# Standardized\n",
        "\n",
        "standardTraining_examples = len(Y_StandardTraining)\n",
        "standardValidationEX = len(Y_StandardValidation)"
      ],
      "metadata": {
        "id": "khSYNGsgBqG8"
      },
      "execution_count": 37,
      "outputs": []
    },
    {
      "cell_type": "code",
      "source": [
        "# Loss calculation\n",
        "\n",
        "# Normalized\n",
        "\n",
        "Norm_LossTraining = compute_loss(normTrainingIn,Y_NormTraining,norm_thetaTraining,normTraining_examples)\n",
        "print(Norm_LossTraining)\n",
        "Norm_LossValidation = compute_loss(normValidationIn,Y_NormValidation,norm_thetaValidation,normValidationEX)\n",
        "print(Norm_LossValidation)\n",
        "\n",
        "# Standardized\n",
        "\n",
        "Standard_LossTraining = compute_loss(standardTrainingIn,Y_StandardTraining,standard_thetaTraining,standardTraining_examples)\n",
        "print(Standard_LossTraining)\n",
        "Standard_LossValidation = compute_loss(standardValidationIn,Y_StandardValidation,standard_thetaValidation,standardValidationEX)\n",
        "print(Standard_LossValidation)"
      ],
      "metadata": {
        "colab": {
          "base_uri": "https://localhost:8080/"
        },
        "id": "jECOzn0eNmcD",
        "outputId": "40d6ebcd-20d9-4c4b-c0b2-313f6c09e895"
      },
      "execution_count": 38,
      "outputs": [
        {
          "output_type": "stream",
          "name": "stdout",
          "text": [
            "0.034184007188717\n",
            "0.03285794079291208\n",
            "0.034184007188717\n",
            "0.03285794079291208\n"
          ]
        }
      ]
    },
    {
      "cell_type": "code",
      "source": [
        "# Gradient descent\n",
        "\n",
        "# Training\n",
        "\n",
        "# Normalized\n",
        "\n",
        "norm_thetaTraining = [0.,0.,0.,0.,0.,0.,0.,0.,0.,0.,0.,0.]\n",
        "iterations = 500;\n",
        "alpha = 0.1;\n",
        "Norm_thetaTraining, Norm_LossTraining = gradient_descent(normTrainingIn,Y_NormTraining,norm_thetaTraining,normTraining_examples,alpha, iterations)\n",
        "print('Final value of theta =', Norm_thetaTraining)\n",
        "\n",
        "# Standardized\n",
        "\n",
        "standard_thetaTraining = [0.,0.,0.,0.,0.,0.,0.,0.,0.,0.,0.,0.]\n",
        "iterations = 500;\n",
        "alpha = 0.1;\n",
        "Standard_thetaTraining, Standard_LossTraining = gradient_descent(standardTrainingIn,Y_StandardTraining,standard_thetaTraining,standardTraining_examples,alpha, iterations)\n",
        "print('Final value of theta =', Standard_thetaTraining)\n",
        "\n",
        "# Validation\n",
        "\n",
        "# Normalized\n",
        "\n",
        "norm_thetaValidation = [0.,0.,0.,0.,0.,0.,0.,0.,0.,0.,0.,0.]\n",
        "iterations = 500;\n",
        "alpha = 0.1;\n",
        "norm_thetaValidation, Norm_LossValidation = gradient_descent(normValidationIn,Y_NormValidation,norm_thetaValidation,normValidationEX, alpha, iterations)\n",
        "print('Final value of theta =', norm_thetaValidation)\n",
        "\n",
        "# Stanardized\n",
        "\n",
        "standard_thetaValidation = [0.,0.,0.,0.,0.,0.,0.,0.,0.,0.,0.,0.]\n",
        "iterations = 500;\n",
        "alpha = 0.1;\n",
        "standard_thetaValidation, Standard_LossValidation = gradient_descent(standardValidationIn,Y_StandardValidation,standard_thetaValidation,standardValidationEX, alpha, iterations)\n",
        "print('Final value of theta =', standard_thetaValidation)"
      ],
      "metadata": {
        "colab": {
          "base_uri": "https://localhost:8080/"
        },
        "id": "zrfevwrPN0fU",
        "outputId": "e236f813-17f9-42df-96d2-ec67faa5ff3e"
      },
      "execution_count": 39,
      "outputs": [
        {
          "output_type": "stream",
          "name": "stdout",
          "text": [
            "Final value of theta = 00                -0.003910\n",
            "area               0.279250\n",
            "bedrooms           0.060770\n",
            "bathrooms          0.231033\n",
            "stories            0.185879\n",
            "mainroad           0.076005\n",
            "guestroom          0.083001\n",
            "basement           0.073973\n",
            "hotwaterheating    0.083249\n",
            "airconditioning    0.203602\n",
            "parking            0.105996\n",
            "prefarea           0.142936\n",
            "dtype: float64\n",
            "Final value of theta = 00                -0.003910\n",
            "area               0.279250\n",
            "bedrooms           0.060770\n",
            "bathrooms          0.231033\n",
            "stories            0.185879\n",
            "mainroad           0.076005\n",
            "guestroom          0.083001\n",
            "basement           0.073973\n",
            "hotwaterheating    0.083249\n",
            "airconditioning    0.203602\n",
            "parking            0.105996\n",
            "prefarea           0.142936\n",
            "dtype: float64\n",
            "Final value of theta = 00                -0.000257\n",
            "area               0.223997\n",
            "bedrooms           0.053052\n",
            "bathrooms          0.236000\n",
            "stories            0.237011\n",
            "mainroad           0.120968\n",
            "guestroom          0.065434\n",
            "basement           0.061740\n",
            "hotwaterheating    0.077083\n",
            "airconditioning    0.147006\n",
            "parking            0.141730\n",
            "prefarea           0.163528\n",
            "dtype: float64\n",
            "Final value of theta = 00                -0.000257\n",
            "area               0.223997\n",
            "bedrooms           0.053052\n",
            "bathrooms          0.236000\n",
            "stories            0.237011\n",
            "mainroad           0.120968\n",
            "guestroom          0.065434\n",
            "basement           0.061740\n",
            "hotwaterheating    0.077083\n",
            "airconditioning    0.147006\n",
            "parking            0.141730\n",
            "prefarea           0.163528\n",
            "dtype: float64\n"
          ]
        }
      ]
    },
    {
      "cell_type": "code",
      "source": [
        "# Loss graph\n",
        "\n",
        "plt.plot(range(1,iterations + 1), Norm_LossTraining, color = 'blue')\n",
        "plt.plot(range(1,iterations + 1), Norm_LossValidation, color = 'green')\n",
        "plt.rcParams[\"figure.figsize\"] = (10,6)\n",
        "plt.grid()\n",
        "plt.xlabel('Number of iterations')\n",
        "plt.ylabel('Loss (J)')\n",
        "plt.title('Convergence of gradient descent')"
      ],
      "metadata": {
        "colab": {
          "base_uri": "https://localhost:8080/",
          "height": 422
        },
        "id": "C6RM97riSyaR",
        "outputId": "93e8afa3-11e6-4b5c-e81e-e409a2c33a7d"
      },
      "execution_count": 40,
      "outputs": [
        {
          "output_type": "execute_result",
          "data": {
            "text/plain": [
              "Text(0.5, 1.0, 'Convergence of gradient descent')"
            ]
          },
          "metadata": {},
          "execution_count": 40
        },
        {
          "output_type": "display_data",
          "data": {
            "text/plain": [
              "<Figure size 720x432 with 1 Axes>"
            ],
            "image/png": "[encoded data removed]"
          },
          "metadata": {
            "needs_background": "light"
          }
        }
      ]
    },
    {
      "cell_type": "code",
      "source": [
        "plt.plot(range(1,iterations + 1), Standard_LossTraining, color = 'blue')\n",
        "plt.plot(range(1,iterations + 1), Standard_LossValidation, color = 'green')\n",
        "plt.rcParams[\"figure.figsize\"] = (10,6)\n",
        "plt.grid()\n",
        "plt.xlabel('Number of iterations')\n",
        "plt.ylabel('Loss (J)')\n",
        "plt.title('Convergence of gradient descent')"
      ],
      "metadata": {
        "colab": {
          "base_uri": "https://localhost:8080/",
          "height": 422
        },
        "id": "VGgI6hJJQWPJ",
        "outputId": "946fc4b3-be1b-40a0-a7eb-ff76ceb668d8"
      },
      "execution_count": 41,
      "outputs": [
        {
          "output_type": "execute_result",
          "data": {
            "text/plain": [
              "Text(0.5, 1.0, 'Convergence of gradient descent')"
            ]
          },
          "metadata": {},
          "execution_count": 41
        },
        {
          "output_type": "display_data",
          "data": {
            "text/plain": [
              "<Figure size 720x432 with 1 Axes>"
            ],
            "image/png": "[encoded data removed]"
          },
          "metadata": {
            "needs_background": "light"
          }
        }
      ]
    }
  ]
}